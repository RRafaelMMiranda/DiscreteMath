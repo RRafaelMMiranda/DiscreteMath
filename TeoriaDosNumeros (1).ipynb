{
 "cells": [
  {
   "cell_type": "markdown",
   "id": "738edb53-5d53-4534-a6ee-bc43eaaa8353",
   "metadata": {},
   "source": [
    "# Inteiros"
   ]
  },
  {
   "cell_type": "markdown",
   "id": "885961e0-a10e-4aa9-be92-9941c93bad07",
   "metadata": {},
   "source": [
    "## Algoritmos de Divisão"
   ]
  },
  {
   "cell_type": "markdown",
   "id": "d7e2fb26-1598-40d2-8fdd-3c493f2b4ffb",
   "metadata": {},
   "source": [
    "### 1.1 Teste de exemplos:\n",
    "\n",
    "Nesta seção, testarei os seguintes exemplos:  \n",
    "- $3 \\mid 15$;  \n",
    "- $6 \\mid 15$;  \n",
    "- $0 \\mid 0$;  \n",
    "- $1 \\mid -1$.  \n",
    "\n",
    "\n"
   ]
  },
  {
   "cell_type": "code",
   "execution_count": 1,
   "id": "61c610e8-c633-45cf-aaec-928eb118d9c2",
   "metadata": {},
   "outputs": [
    {
     "name": "stdout",
     "output_type": "stream",
     "text": [
      "3 | 15\n",
      "6 ∤ 15\n",
      "0 | 0\n",
      "1 | -1\n"
     ]
    }
   ],
   "source": [
    "def div(b, a):\n",
    "    if b == 0 and a == 0:\n",
    "        print(b, '|', a)  # Por definição, 0 divide 0\n",
    "    elif b == 0:\n",
    "        print(b, '∤',a)  # 0 não divide nenhum número, exceto 0\n",
    "    elif a % b == 0:\n",
    "        print(b, '|', a)\n",
    "    else:\n",
    "        print(b, '∤',a)\n",
    "\n",
    "test_cases = [(3, 15), (6, 15), (0, 0), (1, -1)]\n",
    "\n",
    "for b, a in test_cases:\n",
    "    div(b, a)"
   ]
  },
  {
   "cell_type": "markdown",
   "id": "c4b41145-66cb-45fc-a688-b9be53b0b82a",
   "metadata": {},
   "source": [
    "**if — linha 2:** trata o caso especial \\($0 \\mid 0$).  \n",
    "**elif — linha 4:** trata divisor zero (exceto o caso acima).\n"
   ]
  },
  {
   "cell_type": "markdown",
   "id": "c71e302f-a48c-4676-b4af-a6016e66ef54",
   "metadata": {},
   "source": [
    "### 1.2 Teste das Propriedades\n",
    "\n",
    "Nesta seção, testarei as seguintes propriedades:\n",
    "\n",
    "\n",
    "$$i)\\quad c \\mid b \\land b \\mid a \\Rightarrow c \\mid a$$  \n",
    "\n",
    "$$ii)\\quad b \\mid a \\land b \\mid a' \\Rightarrow b \\mid (a + a')$$   \n",
    "\n",
    "$$ iii)\\quad b \\mid 0 \\ \\text{$\\forall$ } b \\in \\mathbb{Z}\\ $$   \n",
    "\n",
    "$$iv)\\quad 1 \\mid a \\ \\text{$\\forall$ } a \\in \\mathbb{Z}$$   \n",
    "\n",
    "$$v)\\quad 0 \\mid a \\iff a = 0$$  "
   ]
  },
  {
   "cell_type": "code",
   "execution_count": 2,
   "id": "2ec81574-5fad-44a5-82c7-8d76e09e19cb",
   "metadata": {},
   "outputs": [],
   "source": [
    "#Verifica se b divide a (retorna True/False).\n",
    "def divide(b, a):\n",
    "     if b == 0:\n",
    "        return a == 0  # 0 só divide 0\n",
    "     return a % b == 0  # Caso geral"
   ]
  },
  {
   "cell_type": "markdown",
   "id": "3ac7e252-24a7-418d-b24e-d18f15d273a4",
   "metadata": {},
   "source": [
    "Função auxiliar para divisibilidade."
   ]
  },
  {
   "cell_type": "markdown",
   "id": "55fe7ccf-ed13-40ef-881b-8c8608ab3bd5",
   "metadata": {},
   "source": [
    "##### Propriedade (i) - Transitividade  \n",
    "$ i)\\quad c \\mid b \\land b \\mid a \\Rightarrow c \\mid a  $  "
   ]
  },
  {
   "cell_type": "code",
   "execution_count": 3,
   "id": "20c9f073-46a6-4ae4-a1e7-cc1a038e11ee",
   "metadata": {},
   "outputs": [
    {
     "name": "stdout",
     "output_type": "stream",
     "text": [
      "2|6 e 6|12 ⇒ 2|12? True (Transitividade válida)\n",
      "3|9 e 9|27 ⇒ 3|27? True (Transitividade válida)\n",
      "7|14 e 14|84 ⇒ 7|84? True (Transitividade válida)\n",
      "8∤15 (Premissa b|a inválida) ⇒ Transitividade não aplicável\n"
     ]
    }
   ],
   "source": [
    "exemplos_1 = [(2, 6, 12), (3, 9, 27), (7,14,84), (4, 8, 15)]\n",
    "\n",
    "def transitividade():\n",
    "    for c, b, a in exemplos_1:\n",
    "        # Verifica se as premissas são verdadeiras (c|b E b|a)\n",
    "        premissas_validas = divide(c, b) and divide(b, a)\n",
    "        \n",
    "        # Se as premissas forem válidas, verifica a conclusão (c|a)\n",
    "        if premissas_validas:\n",
    "            conclusao = divide(c, a)\n",
    "            print(f\"{c}|{b} e {b}|{a} ⇒ {c}|{a}? {conclusao} (Transitividade válida)\")\n",
    "        else:\n",
    "            # Mostra qual premissa falhou\n",
    "            if not divide(c, b):\n",
    "                print(f\"{c}∤{b} (Premissa c|b inválida) ⇒ Transitividade não aplicável\")\n",
    "            elif not divide(b, a):\n",
    "                print(f\"{b}∤{a} (Premissa b|a inválida) ⇒ Transitividade não aplicável\")\n",
    "transitividade()"
   ]
  },
  {
   "cell_type": "markdown",
   "id": "76213fc4-53dc-46db-8782-faaae3255cce",
   "metadata": {},
   "source": [
    "##### Propriedade (ii) - Linearidade:\n",
    "##### $ii) b \\mid a \\land b \\mid a' \\Rightarrow b \\mid a+a'$ "
   ]
  },
  {
   "cell_type": "code",
   "execution_count": 4,
   "id": "f13c0d81-82c5-4e06-aae8-198c6753abac",
   "metadata": {},
   "outputs": [
    {
     "name": "stdout",
     "output_type": "stream",
     "text": [
      "2|4 e 2|10 ⇒ 2|14? True (Lineariedade válida)\n",
      "3|9 e 3|30 ⇒ 3|39? True (Lineariedade válida)\n",
      "5|15 e 5|85 ⇒ 5|100? True (Lineariedade válida)\n",
      "9∤49 (Premissa b|a' inválida) ⇒ Lineariedade não aplicável\n"
     ]
    }
   ],
   "source": [
    "exemplos_2 = [(2,4,10), (3,9,30), (5,15,85), (9,36,49)]\n",
    "\n",
    "def lineariedade():\n",
    "    for c, b, a in exemplos_2:\n",
    "        # Verifica se as premissas são verdadeiras (c|b E b|a)\n",
    "        premissas_validas = divide(c, b) and divide(c, a)\n",
    "        \n",
    "        # Se as premissas forem válidas, verifica a conclusão (c|a)\n",
    "        if premissas_validas:\n",
    "            conclusao = divide(c, b+a)\n",
    "            print(f\"{c}|{b} e {c}|{a} ⇒ {c}|{b+a}? {conclusao} (Lineariedade válida)\")\n",
    "        else:\n",
    "            # Mostra qual premissa falhou\n",
    "            if not divide(c, b):\n",
    "                print(f\"{c}∤{b} (Premissa b|a inválida) ⇒ Lineariedade não aplicável\")\n",
    "            elif not divide(b, a):\n",
    "                print(f\"{c}∤{a} (Premissa b|a' inválida) ⇒ Lineariedade não aplicável\")\n",
    "lineariedade()"
   ]
  },
  {
   "cell_type": "markdown",
   "id": "6e4d9f29-9bee-4e39-9af1-a20a39747e42",
   "metadata": {},
   "source": [
    "##### Propriedade (iii) - Divisibilidade do Zero:  \n",
    "##### $iii)\\quad b \\mid 0 \\ \\text{$\\forall$ } b \\in \\mathbb{Z}\\$"
   ]
  },
  {
   "cell_type": "code",
   "execution_count": 5,
   "id": "9560fe93-ae1d-405f-9009-4e712ec3cba2",
   "metadata": {},
   "outputs": [
    {
     "name": "stdout",
     "output_type": "stream",
     "text": [
      "-2|0)? True (Divisibilidade do zero válida)\n",
      "-1|0)? True (Divisibilidade do zero válida)\n",
      "0|0)? True (Divisibilidade do zero válida)\n",
      "1|0)? True (Divisibilidade do zero válida)\n",
      "2|0)? True (Divisibilidade do zero válida)\n"
     ]
    }
   ],
   "source": [
    "def divisibilidadeDoZero():\n",
    "    for b in range(-2,3):\n",
    "        if divide(b,0):\n",
    "            conclusao = print(f\"{b}|{0})? {divide(b,0)} (Divisibilidade do zero válida)\")\n",
    "        else:\n",
    "            print(\"Não aplicável\")\n",
    "            \n",
    "divisibilidadeDoZero()\n",
    "        \n",
    "        "
   ]
  },
  {
   "cell_type": "markdown",
   "id": "4c9b2c45-12b6-4869-96b7-47222e1ba067",
   "metadata": {},
   "source": [
    "##### Divisibilidade por Um:  \n",
    "  $iv)\\quad 1 \\mid a \\ \\text{$\\forall$ } a \\in \\mathbb{Z}$\n"
   ]
  },
  {
   "cell_type": "code",
   "execution_count": 6,
   "id": "cd0f6f6f-78ba-4d24-a4bf-c3a2bba51f6d",
   "metadata": {},
   "outputs": [
    {
     "name": "stdout",
     "output_type": "stream",
     "text": [
      "1|-2 ? True (Divisibilidade por um válida)\n",
      "1|-1 ? True (Divisibilidade por um válida)\n",
      "1|0 ? True (Divisibilidade por um válida)\n",
      "1|1 ? True (Divisibilidade por um válida)\n",
      "1|2 ? True (Divisibilidade por um válida)\n"
     ]
    }
   ],
   "source": [
    "def divisibilidadePorUm():\n",
    "    for a in range(-2,3):\n",
    "        if divide(1,a):\n",
    "            conclusao = print(f\"{1}|{a} ? {divide(1,a)} (Divisibilidade por um válida)\")\n",
    "        else:\n",
    "            print(\"Não aplicável\")\n",
    "\n",
    "divisibilidadePorUm()\n",
    "            "
   ]
  },
  {
   "cell_type": "markdown",
   "id": "349bfab8-8f3c-4bc1-9eb3-4446d55753bf",
   "metadata": {},
   "source": [
    "##### Propriedade (v) - Divisibilidade por Zero:  \n",
    "  $v)\\quad 0 \\mid a \\iff a = 0$"
   ]
  },
  {
   "cell_type": "code",
   "execution_count": 7,
   "id": "188cfb44-2a34-4d68-83f4-f8d4f7cfb9ab",
   "metadata": {},
   "outputs": [
    {
     "name": "stdout",
     "output_type": "stream",
     "text": [
      "0|-2 ? Não aplicável, premissa a = 0 não satisfeita\n",
      "0|-1 ? Não aplicável, premissa a = 0 não satisfeita\n",
      "0|0 ? True (Divisibilidade por Zero)\n",
      "0|1 ? Não aplicável, premissa a = 0 não satisfeita\n",
      "0|2 ? Não aplicável, premissa a = 0 não satisfeita\n"
     ]
    }
   ],
   "source": [
    "def divisibilidadePorZero():\n",
    "    for a in range(-2,3):\n",
    "        premissa_valida = a == 0\n",
    "\n",
    "        if premissa_valida:\n",
    "            conclusao = print(f\"{0}|{a} ? {divide(a,a)} (Divisibilidade por Zero)\")\n",
    "        else:\n",
    "            print(f\"{0}|{a} ? Não aplicável, premissa a = 0 não satisfeita\")\n",
    "\n",
    "divisibilidadePorZero()\n",
    "            "
   ]
  },
  {
   "cell_type": "markdown",
   "id": "b7ece3a8-250c-4a12-ad6e-d54d45f54b30",
   "metadata": {},
   "source": [
    "### 1.3 A Lista de Divisores\n",
    "\n",
    "Nesta seção, calcularei a lista de divisores de $48$, e para algum outro número $m < 200$ -> $m = 149.$"
   ]
  },
  {
   "cell_type": "code",
   "execution_count": 8,
   "id": "d82f8117-a0c4-4255-8aa2-06cc6bce85b8",
   "metadata": {},
   "outputs": [
    {
     "data": {
      "text/plain": [
       "[1, 2, 3, 4, 6, 8, 12, 16, 24, 48]"
      ]
     },
     "execution_count": 8,
     "metadata": {},
     "output_type": "execute_result"
    }
   ],
   "source": [
    ">>> D48 = [d for d in range (1,49) if 48%d == 0]\n",
    ">>> D48"
   ]
  },
  {
   "cell_type": "code",
   "execution_count": 9,
   "id": "2c36ee7c-eea2-483c-89bb-7b2d0b85dac5",
   "metadata": {},
   "outputs": [
    {
     "data": {
      "text/plain": [
       "[1, 149]"
      ]
     },
     "execution_count": 9,
     "metadata": {},
     "output_type": "execute_result"
    }
   ],
   "source": [
    ">>> m = 149\n",
    ">>> D149 = [ d for d in range (1,m+1) if m%d == 0]\n",
    ">>> D149"
   ]
  },
  {
   "cell_type": "markdown",
   "id": "3a4e8543-8e6d-49eb-98dc-6f2d7d09a2b3",
   "metadata": {},
   "source": [
    "### 1.4 Calculando len() e sum() para D48 e D149:\n",
    "\n",
    "Nesta seção, calcularei o numero de divisores de 48, 149, e a soma entre esses divisores."
   ]
  },
  {
   "cell_type": "markdown",
   "id": "fc5ab195-63ce-423c-a14e-959b4f620cc5",
   "metadata": {},
   "source": [
    "Calculando os valores para 48:"
   ]
  },
  {
   "cell_type": "code",
   "execution_count": 10,
   "id": "3aca1f76-7395-4e41-8a1f-060f2685cc88",
   "metadata": {},
   "outputs": [
    {
     "data": {
      "text/plain": [
       "10"
      ]
     },
     "execution_count": 10,
     "metadata": {},
     "output_type": "execute_result"
    }
   ],
   "source": [
    ">>> len(D48)"
   ]
  },
  {
   "cell_type": "code",
   "execution_count": 11,
   "id": "3878cb9e-8d41-4411-b9be-38725e6de73e",
   "metadata": {},
   "outputs": [
    {
     "data": {
      "text/plain": [
       "124"
      ]
     },
     "execution_count": 11,
     "metadata": {},
     "output_type": "execute_result"
    }
   ],
   "source": [
    ">>> sum(D48)"
   ]
  },
  {
   "cell_type": "markdown",
   "id": "f5d09613-ee9a-409e-b501-d867839aa575",
   "metadata": {},
   "source": [
    "Calculando os valores para 149"
   ]
  },
  {
   "cell_type": "code",
   "execution_count": 12,
   "id": "0412076f-f5b3-43f5-8a6a-1981bd433798",
   "metadata": {},
   "outputs": [
    {
     "data": {
      "text/plain": [
       "2"
      ]
     },
     "execution_count": 12,
     "metadata": {},
     "output_type": "execute_result"
    }
   ],
   "source": [
    ">>> len(D149)"
   ]
  },
  {
   "cell_type": "code",
   "execution_count": 13,
   "id": "3bb021de-afec-450e-988d-dec60f5aa0ad",
   "metadata": {},
   "outputs": [
    {
     "data": {
      "text/plain": [
       "150"
      ]
     },
     "execution_count": 13,
     "metadata": {},
     "output_type": "execute_result"
    }
   ],
   "source": [
    ">>> sum(D149)"
   ]
  },
  {
   "cell_type": "markdown",
   "id": "3ee211ff-b22b-4299-92bb-5878daf98c56",
   "metadata": {},
   "source": [
    "### 1.5 Encontrando todos os número perfeitos menores que 1000\n",
    "\n",
    "Nesta seção, encontrarei todos os números perfeitos menores que 1000"
   ]
  },
  {
   "cell_type": "markdown",
   "id": "3b8de13e-6c83-43d3-83a8-84bbbbf08462",
   "metadata": {},
   "source": [
    "Um número é perfeito se ele é igual à soma de seus divisores, excluindo ele mesmo. Então se $\\sum_{d \\mid n} d = 2n $ \n",
    ". Escreva um programa para encontrar todos os números perfeitos menores que 1000."
   ]
  },
  {
   "cell_type": "code",
   "execution_count": 14,
   "id": "f64ae10e-f882-4acd-9c9e-0a7c11f4702a",
   "metadata": {},
   "outputs": [
    {
     "name": "stdout",
     "output_type": "stream",
     "text": [
      "O número 6 eh perfeito\n",
      "O número 28 eh perfeito\n",
      "O número 496 eh perfeito\n"
     ]
    }
   ],
   "source": [
    "def numeroPerfeito():\n",
    "    for i in range(1,1000):\n",
    "        Di = [ d for d in range(1,i) if i%d==0]\n",
    "        if sum(Di) == i: print(\"O número\", i, \"eh perfeito\")\n",
    "numeroPerfeito()"
   ]
  },
  {
   "cell_type": "markdown",
   "id": "3bf63292-ccdc-4d1f-afbd-e5b0181f313a",
   "metadata": {},
   "source": [
    "### 1.6 Algoritmo de Euclides\n",
    "\n",
    "Nesta seção, modifcarei o programa dado para mostrar todas as etapas intermidiárias, verificarei exemplo e calcularei o MDC entre minha minha matrícula e meu número de telefone."
   ]
  },
  {
   "cell_type": "markdown",
   "id": "aa742ca3-e7d0-4ab1-abd3-fded628d8e5d",
   "metadata": {},
   "source": [
    "Função que mostra as etapas intermediárias do Algoritmo de Euclides"
   ]
  },
  {
   "cell_type": "code",
   "execution_count": 15,
   "id": "c7777142-71c7-4e05-9b2e-8f72a92f7d85",
   "metadata": {},
   "outputs": [],
   "source": [
    "def gcd_euclid_iterative(a, b):\n",
    "    # Calcula o MDC usando o algoritmo de Euclides (versão iterativa - mostrando as etapas intermediárias)\n",
    "    print(f\"r0 = {a}\\nr1 = {b}\\n----------------------------\")\n",
    "    i = 2\n",
    "    (r0, r1) = (a, b)\n",
    "    \n",
    "    while b != 0:\n",
    "        q = a // b  # Calcula o quociente antes de atualizar a e b\n",
    "        print(f\"{a} = {q}·{b} + {a%b}\")\n",
    "        (a, b) = (b, a % b)  # Atualiza os valores para o próximo passo\n",
    "        print(f\"r{i} = {b} |\", end=' ')\n",
    "        print(f\"q{i-1} = {q}\\n----------------------------\")\n",
    "        i += 1\n",
    "    \n",
    "    return print(f\"GCD({r0}, {r1}) = r{i-2} = {a}\")"
   ]
  },
  {
   "cell_type": "markdown",
   "id": "a95c5cee-6c4e-4ca2-99e8-f1338bb68fd9",
   "metadata": {},
   "source": [
    "Verificando o exemplo: $MDC(1057,315)$"
   ]
  },
  {
   "cell_type": "code",
   "execution_count": 16,
   "id": "7c30c894-1427-4286-9360-3e9bd4782f79",
   "metadata": {},
   "outputs": [
    {
     "name": "stdout",
     "output_type": "stream",
     "text": [
      "r0 = 1057\n",
      "r1 = 315\n",
      "----------------------------\n",
      "1057 = 3·315 + 112\n",
      "r2 = 112 | q1 = 3\n",
      "----------------------------\n",
      "315 = 2·112 + 91\n",
      "r3 = 91 | q2 = 2\n",
      "----------------------------\n",
      "112 = 1·91 + 21\n",
      "r4 = 21 | q3 = 1\n",
      "----------------------------\n",
      "91 = 4·21 + 7\n",
      "r5 = 7 | q4 = 4\n",
      "----------------------------\n",
      "21 = 3·7 + 0\n",
      "r6 = 0 | q5 = 3\n",
      "----------------------------\n",
      "GCD(1057, 315) = r5 = 7\n"
     ]
    }
   ],
   "source": [
    "def gcd_euclid_iterative(a, b):\n",
    "    # Calcula o MDC usando o algoritmo de Euclides (versão iterativa - mostrando as etapas intermediárias)\n",
    "    print(f\"r0 = {a}\\nr1 = {b}\\n----------------------------\")\n",
    "    i = 2\n",
    "    (r0, r1) = (a, b)\n",
    "    \n",
    "    while b != 0:\n",
    "        q = a // b  # Calcula o quociente antes de atualizar a e b\n",
    "        print(f\"{a} = {q}·{b} + {a%b}\")\n",
    "        (a, b) = (b, a % b)  # Atualiza os valores para o próximo passo\n",
    "        print(f\"r{i} = {b} |\", end=' ')\n",
    "        print(f\"q{i-1} = {q}\\n----------------------------\")\n",
    "        i += 1\n",
    "    \n",
    "    return print(f\"GCD({r0}, {r1}) = r{i-2} = {a}\")\n",
    "\n",
    "gcd_euclid_iterative(1057, 315)"
   ]
  },
  {
   "cell_type": "markdown",
   "id": "c6a49f5c-be50-41f5-9743-a82ffe835c80",
   "metadata": {},
   "source": [
    "Calculando o MDC entre minha matrícula e meu número de telefone:"
   ]
  },
  {
   "cell_type": "code",
   "execution_count": 17,
   "id": "f1cf3fc5-8f0b-4dc1-847d-c74277e90ac3",
   "metadata": {},
   "outputs": [
    {
     "name": "stdout",
     "output_type": "stream",
     "text": [
      "r0 = 2024106034\n",
      "r1 = 31971466441\n",
      "-----------------------------------------------\n",
      "2024106034 = 0·31971466441 + 2024106034\n",
      "r2 = 2024106034 | q1 = 0\n",
      "-----------------------------------------------\n",
      "31971466441 = 15·2024106034 + 1609875931\n",
      "r3 = 1609875931 | q2 = 15\n",
      "-----------------------------------------------\n",
      "2024106034 = 1·1609875931 + 414230103\n",
      "r4 = 414230103 | q3 = 1\n",
      "-----------------------------------------------\n",
      "1609875931 = 3·414230103 + 367185622\n",
      "r5 = 367185622 | q4 = 3\n",
      "-----------------------------------------------\n",
      "414230103 = 1·367185622 + 47044481\n",
      "r6 = 47044481 | q5 = 1\n",
      "-----------------------------------------------\n",
      "367185622 = 7·47044481 + 37874255\n",
      "r7 = 37874255 | q6 = 7\n",
      "-----------------------------------------------\n",
      "47044481 = 1·37874255 + 9170226\n",
      "r8 = 9170226 | q7 = 1\n",
      "-----------------------------------------------\n",
      "37874255 = 4·9170226 + 1193351\n",
      "r9 = 1193351 | q8 = 4\n",
      "-----------------------------------------------\n",
      "9170226 = 7·1193351 + 816769\n",
      "r10 = 816769 | q9 = 7\n",
      "-----------------------------------------------\n",
      "1193351 = 1·816769 + 376582\n",
      "r11 = 376582 | q10 = 1\n",
      "-----------------------------------------------\n",
      "816769 = 2·376582 + 63605\n",
      "r12 = 63605 | q11 = 2\n",
      "-----------------------------------------------\n",
      "376582 = 5·63605 + 58557\n",
      "r13 = 58557 | q12 = 5\n",
      "-----------------------------------------------\n",
      "63605 = 1·58557 + 5048\n",
      "r14 = 5048 | q13 = 1\n",
      "-----------------------------------------------\n",
      "58557 = 11·5048 + 3029\n",
      "r15 = 3029 | q14 = 11\n",
      "-----------------------------------------------\n",
      "5048 = 1·3029 + 2019\n",
      "r16 = 2019 | q15 = 1\n",
      "-----------------------------------------------\n",
      "3029 = 1·2019 + 1010\n",
      "r17 = 1010 | q16 = 1\n",
      "-----------------------------------------------\n",
      "2019 = 1·1010 + 1009\n",
      "r18 = 1009 | q17 = 1\n",
      "-----------------------------------------------\n",
      "1010 = 1·1009 + 1\n",
      "r19 = 1 | q18 = 1\n",
      "-----------------------------------------------\n",
      "1009 = 1009·1 + 0\n",
      "r20 = 0 | q19 = 1009\n",
      "-----------------------------------------------\n",
      "GCD(2024106034, 31971466441) = r19 = 1\n"
     ]
    }
   ],
   "source": [
    "def gcd_euclid_iterative(a, b):\n",
    "    # Calcula o MDC usando o algoritmo de Euclides (versão iterativa - mostrando as etapas intermediárias)\n",
    "    print(f\"r0 = {a}\\nr1 = {b}\\n-----------------------------------------------\")\n",
    "    i = 2\n",
    "    (r0, r1) = (a, b)\n",
    "    \n",
    "    while b != 0:\n",
    "        q = a // b  # Calcula o quociente antes de atualizar a e b\n",
    "        print(f\"{a} = {q}·{b} + {a%b}\")\n",
    "        (a, b) = (b, a % b)  # Atualiza os valores para o próximo passo\n",
    "        print(f\"r{i} = {b} |\", end=' ')\n",
    "        print(f\"q{i-1} = {q}\\n-----------------------------------------------\")\n",
    "        i += 1\n",
    "    \n",
    "    return print(f\"GCD({r0}, {r1}) = r{i-2} = {a}\")\n",
    "\n",
    "gcd_euclid_iterative(2024106034, 31971466441)"
   ]
  },
  {
   "cell_type": "markdown",
   "id": "390c9678-ada0-44dc-8c55-50b001d537bb",
   "metadata": {},
   "source": [
    "### 1.7 Algoritmo de Euclides e Números de Fibonacci\n",
    "\n",
    "Nesta seção, irei executar o programa modificado em $a = 4181$ e $b = 2584$, dois número consecutivos da sequência de Fibonacci.\n",
    "Irei relatar o que vejo e justificarei o motivo de este ser o pior caso para o Algoritmo de Euclides\n",
    "\n"
   ]
  },
  {
   "cell_type": "code",
   "execution_count": 18,
   "id": "53d79467-12ba-462a-8deb-7fdbe57e1d90",
   "metadata": {
    "scrolled": true
   },
   "outputs": [
    {
     "name": "stdout",
     "output_type": "stream",
     "text": [
      "r0 = 4181\n",
      "r1 = 2584\n",
      "-----------------------------------------------\n",
      "4181 = 1·2584 + 1597\n",
      "r2 = 1597 | q1 = 1\n",
      "-----------------------------------------------\n",
      "2584 = 1·1597 + 987\n",
      "r3 = 987 | q2 = 1\n",
      "-----------------------------------------------\n",
      "1597 = 1·987 + 610\n",
      "r4 = 610 | q3 = 1\n",
      "-----------------------------------------------\n",
      "987 = 1·610 + 377\n",
      "r5 = 377 | q4 = 1\n",
      "-----------------------------------------------\n",
      "610 = 1·377 + 233\n",
      "r6 = 233 | q5 = 1\n",
      "-----------------------------------------------\n",
      "377 = 1·233 + 144\n",
      "r7 = 144 | q6 = 1\n",
      "-----------------------------------------------\n",
      "233 = 1·144 + 89\n",
      "r8 = 89 | q7 = 1\n",
      "-----------------------------------------------\n",
      "144 = 1·89 + 55\n",
      "r9 = 55 | q8 = 1\n",
      "-----------------------------------------------\n",
      "89 = 1·55 + 34\n",
      "r10 = 34 | q9 = 1\n",
      "-----------------------------------------------\n",
      "55 = 1·34 + 21\n",
      "r11 = 21 | q10 = 1\n",
      "-----------------------------------------------\n",
      "34 = 1·21 + 13\n",
      "r12 = 13 | q11 = 1\n",
      "-----------------------------------------------\n",
      "21 = 1·13 + 8\n",
      "r13 = 8 | q12 = 1\n",
      "-----------------------------------------------\n",
      "13 = 1·8 + 5\n",
      "r14 = 5 | q13 = 1\n",
      "-----------------------------------------------\n",
      "8 = 1·5 + 3\n",
      "r15 = 3 | q14 = 1\n",
      "-----------------------------------------------\n",
      "5 = 1·3 + 2\n",
      "r16 = 2 | q15 = 1\n",
      "-----------------------------------------------\n",
      "3 = 1·2 + 1\n",
      "r17 = 1 | q16 = 1\n",
      "-----------------------------------------------\n",
      "2 = 2·1 + 0\n",
      "r18 = 0 | q17 = 2\n",
      "-----------------------------------------------\n",
      "GCD(4181, 2584) = r17 = 1\n"
     ]
    }
   ],
   "source": [
    "def gcd_euclid_iterative(a, b):\n",
    "    # Calcula o MDC usando o algoritmo de Euclides (versão iterativa - mostrando as etapas intermediárias)\n",
    "    print(f\"r0 = {a}\\nr1 = {b}\\n-----------------------------------------------\")\n",
    "    i = 2\n",
    "    (r0, r1) = (a, b)\n",
    "    \n",
    "    while b != 0:\n",
    "        q = a // b  # Calcula o quociente antes de atualizar a e b\n",
    "        print(f\"{a} = {q}·{b} + {a%b}\")\n",
    "        (a, b) = (b, a % b)  # Atualiza os valores para o próximo passo\n",
    "        print(f\"r{i} = {b} |\", end=' ')\n",
    "        print(f\"q{i-1} = {q}\\n-----------------------------------------------\")\n",
    "        i += 1\n",
    "    \n",
    "    return print(f\"GCD({r0}, {r1}) = r{i-2} = {a}\")\n",
    "\n",
    "gcd_euclid_iterative(4181, 2584)"
   ]
  },
  {
   "cell_type": "markdown",
   "id": "1f2556a0-0a5a-40a3-945e-0069c73168c2",
   "metadata": {},
   "source": [
    "É perceptível que, em todos as etapas, o maior coeficiente presente é o número 1."
   ]
  },
  {
   "cell_type": "markdown",
   "id": "64a497d2-cca0-4106-85a6-041dc75e3998",
   "metadata": {},
   "source": [
    "Este caso é o pior para o Algoritmo de Euclides, pois é necessária a realização de inúmeras divisões sucessivas pelos restos das etapas anteriores, para que no fim o MDC seja 1"
   ]
  },
  {
   "cell_type": "markdown",
   "id": "72c2b9a7-7549-4f1c-9740-7cd5f7fda4df",
   "metadata": {},
   "source": [
    "# Números primos"
   ]
  },
  {
   "cell_type": "markdown",
   "id": "3385c86e-cd5a-4b7c-9cf0-aed651db103b",
   "metadata": {},
   "source": [
    "### 2.1 Verificar se um número é primo\n",
    "\n",
    "Nesta seção, implementarei uma função que verifica se um número é primo."
   ]
  },
  {
   "cell_type": "code",
   "execution_count": 19,
   "id": "0ecf6b17-ec86-4465-950c-0c3dc74a96e2",
   "metadata": {},
   "outputs": [
    {
     "name": "stdout",
     "output_type": "stream",
     "text": [
      "Eh primo\n"
     ]
    },
    {
     "data": {
      "text/plain": [
       "True"
      ]
     },
     "execution_count": 19,
     "metadata": {},
     "output_type": "execute_result"
    }
   ],
   "source": [
    "import math\n",
    "def ehPrimo(n):\n",
    "    for d in range(2,round(math.sqrt(n)+1)):\n",
    "        if (n % d==0):\n",
    "            print(\"Não eh primo, divisor encontrado:\", d)\n",
    "            return False\n",
    "    print(\"Eh primo\")\n",
    "    return True\n",
    "\n",
    "ehPrimo(65537)"
   ]
  },
  {
   "cell_type": "markdown",
   "id": "91eb52d8-10c3-45d4-a6ec-a0337b5b11a9",
   "metadata": {},
   "source": [
    "### 2.2 Primo de Mersenne"
   ]
  },
  {
   "cell_type": "markdown",
   "id": "130006e1-56dd-41d5-84a2-7d661313a641",
   "metadata": {},
   "source": [
    "Nesta seção, encontrarei na internet o maior número primo conhecido e indicarei se é um primo de $Mersene$.  \n",
    "**Definição:** um primo de $Mersene$ é um primo da forma de $M_{k} = 2^{k} - 1$."
   ]
  },
  {
   "cell_type": "markdown",
   "id": "7902bbfe-d4e3-4424-b988-6e413d133de4",
   "metadata": {},
   "source": [
    "O maior número primo conhecido é o número $2^{136279841} - 1$.  \n",
    "Percebe-se que este número segue a forma $2^{k} - 1$, portanto, é um primo de $Mersene$: $M_{136279841} = 2^{136279841} - 1$.\n"
   ]
  },
  {
   "cell_type": "markdown",
   "id": "d8e7f960-5b5f-42ff-9113-ec700ba3c908",
   "metadata": {},
   "source": [
    "### 2.3 Representação binária de 257 e 65537\n",
    "\n",
    "Nesta seção, implementarei um comando em python para encontrar a representação binária de 257 e 65537 (e qualquer outro numero inteiro)."
   ]
  },
  {
   "cell_type": "markdown",
   "id": "25b525b6-5439-4d13-8bcb-9e7df68b6f21",
   "metadata": {},
   "source": [
    "Função para encontrar a representação binária de qualquer número Inteiro:"
   ]
  },
  {
   "cell_type": "code",
   "execution_count": 10,
   "id": "5ea457f2-d0f6-4892-9e4f-564a5809d8d5",
   "metadata": {},
   "outputs": [],
   "source": [
    "def representacaoBinaria(n):\n",
    "    num=n\n",
    "    numeros = []\n",
    "    #print(n)\n",
    "    while n!=1:\n",
    "        resto = n%2\n",
    "        n = n//2\n",
    "        numeros.insert(0, resto)\n",
    "        #print(resto, n) # Imprime as etapas intermediárias\n",
    "    numeros.insert(0, n)\n",
    "    print(f\"O número {num} em binário é:\", end=\"\")\n",
    "    print(\"\".join(str(item) for item in numeros))"
   ]
  },
  {
   "cell_type": "markdown",
   "id": "61688759-1db9-4469-b363-653e03a10eb2",
   "metadata": {},
   "source": [
    "Encontrando a representação binária de 257 e 65537 usando o algoritmo acima:"
   ]
  },
  {
   "cell_type": "code",
   "execution_count": 9,
   "id": "0bfa88db-652f-470e-9f25-68eb4d06b916",
   "metadata": {},
   "outputs": [
    {
     "name": "stdout",
     "output_type": "stream",
     "text": [
      "O número 257 em binário é:100000001\n",
      "O número 65537 em binário é:10000000000000001\n"
     ]
    }
   ],
   "source": [
    "representacaoBinaria(257)\n",
    "representacaoBinaria(65537)"
   ]
  },
  {
   "cell_type": "markdown",
   "id": "7c5338d9-8a27-44ee-b158-58cd6f5fa131",
   "metadata": {},
   "source": [
    "Encontrando a representação binária de 257 e 65537 usando a função bin do python"
   ]
  },
  {
   "cell_type": "code",
   "execution_count": 14,
   "id": "7114fe70-4c0a-42f0-9a9c-657c445d41a4",
   "metadata": {},
   "outputs": [
    {
     "name": "stdout",
     "output_type": "stream",
     "text": [
      "100000001\n",
      "10000000000000001\n"
     ]
    }
   ],
   "source": [
    "print(bin(257)[2:])\n",
    "print(bin(65537)[2:])"
   ]
  },
  {
   "cell_type": "markdown",
   "id": "82d093d2-9edc-48e7-9f29-590cbf3ddf25",
   "metadata": {},
   "source": [
    "### 2.4 Estimando Primos de Tamanhos Criptográficos com o 'Teorema dos Números Primos'\n",
    "\n",
    "Nesta seção, irei estimar a quantidade de números primos com tamanhos de 1024 bits, 1536 bits e 2048 bits (os tamanhos usados na criptografia)\n",
    "\n",
    "$$Teorema\\enspace dos \\enspace Números \\enspace Primos:$$\n",
    "$$ \\lim_{N \\to \\infty} \\frac{\\pi(N)}{N} \\sim \\frac{1}{\\ln(N)} $$"
   ]
  },
  {
   "cell_type": "code",
   "execution_count": 1,
   "id": "831a0793-58a6-4826-9522-e99959f618b6",
   "metadata": {},
   "outputs": [
    {
     "name": "stdout",
     "output_type": "stream",
     "text": [
      "Aproximação pelo Teorema dos Números Primos para x = 1.80e+308:\n",
      "≈ 2.53e+305\n",
      "\n",
      "Aproximação pelo Teorema dos Números Primos para x = 2.41e+462:\n",
      "≈ 2.26e+459\n",
      "\n",
      "Aproximação pelo Teorema dos Números Primos para x = 3.23e+616:\n",
      "≈ 2.28e+613\n",
      "\n"
     ]
    }
   ],
   "source": [
    "import math\n",
    "\n",
    "def eh_primo(n):\n",
    "    for d in range(2,round(math.sqrt(n)+1)):\n",
    "        if (n % d==0):\n",
    "            return False\n",
    "    return True\n",
    "\n",
    "def pi(x):\n",
    "    count = 0\n",
    "    for i in range(2, x+1):\n",
    "        if eh_primo(i):\n",
    "            count +=1\n",
    "    return count\n",
    "\n",
    "def verificarTeorema(x):\n",
    "    pi_x = pi(x)\n",
    "    aprox = x / math.log(x) if x > 1 else 0\n",
    "    print(f\"π({x}) = {pi_x}\")\n",
    "    print(f\"Aproximação pelo Teorema dos Números Primos: {aprox:.2f}\")\n",
    "    print(f\"Razão π({x})/({x}) = {pi_x/x:.5f}\")\n",
    "    print(f\"1/ln({x}) = {1/math.log(x):.5f}\\n\")\n",
    "\n",
    "from decimal import Decimal, getcontext\n",
    "\n",
    "getcontext().prec = 1000\n",
    "\n",
    "def estimarPrimos(x):\n",
    "    x_decimal = Decimal(x)\n",
    "    aprox = x_decimal / x_decimal.ln() if x_decimal > 1 else 0\n",
    "    print(f\"Aproximação pelo Teorema dos Números Primos para x = {x_decimal:.2e}:\\n≈ {aprox:.2e}\\n\")\n",
    "\n",
    "valores = [2**1024, 2**1536, 2**2048]\n",
    "\n",
    "\n",
    "for v in valores:\n",
    "    estimarPrimos(v)\n"
   ]
  },
  {
   "cell_type": "markdown",
   "id": "c77570b5-6374-45fa-b10e-47d669a64226",
   "metadata": {},
   "source": [
    "### 2.5 Testando o Teorema de Fermat\n",
    "\n",
    "Nesta seção, testarei o Teorema de Fermat.\n"
   ]
  },
  {
   "cell_type": "markdown",
   "id": "df2bd451-89b4-4e7d-bd64-291a23d042d8",
   "metadata": {},
   "source": [
    "\n",
    "$$Teorema\\enspace de\\enspace Fermat:$$\n",
    "<p style=\"text-align:center\">Se $p$ é um número primo, então: </p>\n",
    "\n",
    "$$a^{p-1} \\equiv 1 \\pmod{p} \\space \\forall \\space a  \\in [1, p-1] $$\n",
    "\n",
    "\n",
    "<p style=\"text-align:center\"><strong>Contra-positivo:</strong> $a^{n-1} \\not\\equiv 1 \\pmod{n}$ para algum $a \\in [1, n-1]$, então n é composto<p/>\n"
   ]
  },
  {
   "cell_type": "code",
   "execution_count": 3,
   "id": "88da49df-934e-4876-8311-952bd2636032",
   "metadata": {},
   "outputs": [
    {
     "name": "stdout",
     "output_type": "stream",
     "text": [
      "6553 é provavelmente primo.\n"
     ]
    }
   ],
   "source": [
    "import random\n",
    "\n",
    "def fermat_primality_test(n, k=10):\n",
    "    if n <= 3:\n",
    "        return n == 2 or n == 3\n",
    "\n",
    "    for _ in range(k):\n",
    "        a = random.randint(2, n - 2)\n",
    "        if pow(a, n - 1, n) != 1:\n",
    "            return False  # composto\n",
    "    return True  # provavelmente primo\n",
    "\n",
    "numero = 6553 #int(input(\"Digite um número para testar: \"))\n",
    "if fermat_primality_test(numero):\n",
    "    print(f\"{numero} é provavelmente primo.\")\n",
    "else:\n",
    "    print(f\"{numero} é composto.\")\n"
   ]
  },
  {
   "cell_type": "markdown",
   "id": "00e73da2-693c-48d9-a8e9-1952e78af58b",
   "metadata": {},
   "source": [
    "### 2.6 Construindo um Número Primo com Meu Nome\n",
    "\n",
    "Nesta seção, criarei um número primo com meu nome.\n",
    "\n",
    "Instruções:\n",
    "\n",
    "1. **Crie um frase** com cerca de 45 letras contendo seu nome;\n",
    "\n",
    "2. **Converta pra números** como segue: $A = 1,..., Z = 26,$ space $= 27$, etc. Concatenando os dígitos, você obterá um número com cerca de 90 dígitos;\n",
    "\n",
    "3. **Complete com 10 dígitos aleatórios** para obter um número ímpar de 100 dígitos $n$ e teste se $n$ é primo. Caso contrário, altere os últimos 10 dígitos até que $n$ seja primo;\n",
    "\n",
    "4. **Teste de primalidade**:  você pode usar `fermat_primality_test(n, k=10)`."
   ]
  },
  {
   "cell_type": "code",
   "execution_count": 13,
   "id": "9d026143-32d8-4eab-a60d-bc1da0d2e4fb",
   "metadata": {},
   "outputs": [
    {
     "name": "stdout",
     "output_type": "stream",
     "text": [
      "Número primo gerado: 130118140525271305121527071519201521271321092015270405270519202104011827151927141541305181519271618091315198192233763\n",
      "Número de dígitos: 117\n"
     ]
    }
   ],
   "source": [
    "import random\n",
    "\n",
    "def letra_para_numero(c):\n",
    "    if c == ' ':\n",
    "        return '27'\n",
    "    else:\n",
    "        return f\"{ord(c.upper()) - ord('A') + 1:02d}\"\n",
    "\n",
    "def frase_para_numero(frase):\n",
    "    return ''.join(letra_para_numero(c) for c in frase if c.isalpha() or c == ' ')\n",
    "\n",
    "def gerar_numero_primo(frase):\n",
    "    base_numero = frase_para_numero(frase)\n",
    "    \n",
    "    while True:\n",
    "        sufixo = ''.join(random.choice('0123456789') for _ in range(9))\n",
    "        #print(sufixo)\n",
    "        ultimo_digito = random.choice('13579')\n",
    "        numero_str = base_numero + sufixo + ultimo_digito\n",
    "        numero = int(numero_str)\n",
    "        \n",
    "        if fermat_primality_test(numero):\n",
    "            return numero\n",
    "\n",
    "# FRASE EM UPERCASE\n",
    "frase = \"MARNEY MELO GOSTOU MUITO DE ESTUDAR OS NÚMEROS PRIMOS\"\n",
    "numero_primo = gerar_numero_primo(frase)\n",
    "\n",
    "#print(f\"Nome em números: {frase_para_numero(frase)}\")\n",
    "print(f\"Número primo gerado: {numero_primo}\")\n",
    "print(f\"Número de dígitos: {len(str(numero_primo))}\")\n"
   ]
  },
  {
   "cell_type": "code",
   "execution_count": null,
   "id": "a43c6bbd-bb41-4f5e-ad36-3b16d6439bca",
   "metadata": {},
   "outputs": [],
   "source": []
  }
 ],
 "metadata": {
  "kernelspec": {
   "display_name": "Python 3 (ipykernel)",
   "language": "python",
   "name": "python3"
  },
  "language_info": {
   "codemirror_mode": {
    "name": "ipython",
    "version": 3
   },
   "file_extension": ".py",
   "mimetype": "text/x-python",
   "name": "python",
   "nbconvert_exporter": "python",
   "pygments_lexer": "ipython3",
   "version": "3.13.3"
  }
 },
 "nbformat": 4,
 "nbformat_minor": 5
}
