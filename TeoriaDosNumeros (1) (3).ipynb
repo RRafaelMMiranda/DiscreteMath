{
 "cells": [
  {
   "cell_type": "markdown",
   "id": "78e87870-3e3f-4847-855a-5a5be0a7359a",
   "metadata": {},
   "source": [
    "# Trabalho Matemática Discreta:\n",
    "**Integrantes: Marney Melo e Rafael Miranda**"
   ]
  },
  {
   "cell_type": "markdown",
   "id": "5fbd565e-4a9c-44bf-8b71-3516d9934a91",
   "metadata": {},
   "source": [
    "# Inteiros\n",
    "\n",
    "Veja também Rosen Seção 3.4, 3.5 (final) e 5.6 (final).\n",
    "\n",
    "## Algoritmo de Divisão\n",
    "\n",
    "**Teorema** *$\\forall\\ a,b \\in \\mathbb{Z}$, $\\exists\\ q,r  \\in \\mathbb{Z}$ tais que $a=q\\cdot b+r$ com $0\\leq r<b$. Aqui, $q$ é o quociente e $r$ é o resto.*\n",
    "\n",
    "Uma prova formal deste fato bem conhecido pode ser obtida por indução em $|a|$.\n",
    "\n",
    "- O comando `q , r = divmod(a, b)` em Python executará a operação correspondente.\n",
    "- O comando `q = a // b` retornará o quociente, enquanto `r = a % b` retornará o resto. *ATENÇÃO:* o comando `q = a/b` sempre retornará um float, o que não é o que queremos neste contexto.\n",
    "\n",
    ". . .\n",
    "\n",
    "**Definição** Dizemos que $b$ divide $a$, ou que $b$ é um divisor de $a$, ou que $a$ é um múltiplo de $b$ se $\\exists q \\in \\mathbb{Z}$ tal que $qb = a$. Notação: $b \\mid a$.\n",
    "\n",
    "Exemplos: $5 \\mid 15; 6 \\not\\mid 15; 0 \\mid 0; 1 \\mid -1$\n",
    "\n",
    "A seguinte expressão booleana em Python testa a divisibilidade: `(a%b==0)`. Se quiser empacotar em uma função, temos:"
   ]
  },
  {
   "cell_type": "code",
   "execution_count": 291,
   "id": "d9ccfbdb-30b8-47b6-8750-bb00b2cc63ee",
   "metadata": {},
   "outputs": [],
   "source": [
    "def DIV(b,a):\n",
    "\treturn (a % b == 0)"
   ]
  },
  {
   "cell_type": "markdown",
   "id": "ac5a1588-bf18-4784-865c-736429bfdcaa",
   "metadata": {},
   "source": [
    "Mas na prática manter a expressão original é mais fácil."
   ]
  },
  {
   "cell_type": "markdown",
   "id": "d7e2fb26-1598-40d2-8fdd-3c493f2b4ffb",
   "metadata": {},
   "source": [
    "**<span style=\"color: red;\"> [1.1] Teste de exemplos: </span>**"
   ]
  },
  {
   "cell_type": "code",
   "execution_count": 5,
   "id": "61c610e8-c633-45cf-aaec-928eb118d9c2",
   "metadata": {},
   "outputs": [
    {
     "name": "stdout",
     "output_type": "stream",
     "text": [
      "3 | 15\n",
      "6 ∤ 15\n",
      "0 | 0\n",
      "1 | -1\n"
     ]
    }
   ],
   "source": [
    "def div(b, a):\n",
    "    if b == 0 and a == 0:\n",
    "        print(b, '|', a)  # Por definição, 0 divide 0\n",
    "    elif b == 0:\n",
    "        print(b, '∤',a)  # 0 não divide nenhum número, exceto 0\n",
    "    elif a % b == 0:\n",
    "        print(b, '|', a)\n",
    "    else:\n",
    "        print(b, '∤',a)\n",
    "\n",
    "test_cases = [(3, 15), (6, 15), (0, 0), (1, -1)]\n",
    "\n",
    "for b, a in test_cases:\n",
    "    div(b, a)"
   ]
  },
  {
   "cell_type": "markdown",
   "id": "c71e302f-a48c-4676-b4af-a6016e66ef54",
   "metadata": {},
   "source": [
    "\n",
    "**Propiedades**\n",
    "$$\n",
    "\\begin{array}{ll}\n",
    "i)\\quad & c \\mid b \\wedge b \\mid a ~\\Rightarrow ~ c \\mid a \\\\\n",
    "ii)\\quad & b \\mid a \\wedge b \\mid a' ~\\Rightarrow ~ b \\mid a\\mbox{+}a' \\\\\n",
    "iii)\\quad & b \\mid 0 ~~\\forall b \\in \\mathbb{Z} \\\\\n",
    "iv)\\quad & 1 \\mid a ~~\\forall a \\in \\mathbb{Z} \\\\\n",
    "v) &0 \\mid a \\iff a=0 \\\\\n",
    "\\end{array}\n",
    "$$"
   ]
  },
  {
   "cell_type": "markdown",
   "id": "b359e878-26f4-47a7-83bb-cb93ecde44b5",
   "metadata": {},
   "source": [
    "**<span style=\"color: red;\"> [1.2] Teste estas propriedades </span>**"
   ]
  },
  {
   "cell_type": "code",
   "execution_count": 6,
   "id": "2ec81574-5fad-44a5-82c7-8d76e09e19cb",
   "metadata": {},
   "outputs": [],
   "source": [
    "#Verifica se b divide a (retorna True/False).\n",
    "def divide(b, a):\n",
    "     if b == 0:\n",
    "        return a == 0  # 0 só divide 0\n",
    "     return a % b == 0  # Caso geral"
   ]
  },
  {
   "cell_type": "markdown",
   "id": "3ac7e252-24a7-418d-b24e-d18f15d273a4",
   "metadata": {},
   "source": [
    "**<span style=\"color: red;\"> Função auxiliar para divisibilidade. </span>**"
   ]
  },
  {
   "cell_type": "markdown",
   "id": "55fe7ccf-ed13-40ef-881b-8c8608ab3bd5",
   "metadata": {},
   "source": [
    "##### Propriedade (i) - Transitividade  \n",
    "$ i)\\quad c \\mid b \\land b \\mid a \\Rightarrow c \\mid a  $  "
   ]
  },
  {
   "cell_type": "code",
   "execution_count": 7,
   "id": "20c9f073-46a6-4ae4-a1e7-cc1a038e11ee",
   "metadata": {},
   "outputs": [
    {
     "name": "stdout",
     "output_type": "stream",
     "text": [
      "2|6 e 6|12 ⇒ 2|12? True (Transitividade válida)\n",
      "3|9 e 9|27 ⇒ 3|27? True (Transitividade válida)\n",
      "7|14 e 14|84 ⇒ 7|84? True (Transitividade válida)\n",
      "8∤15 (Premissa b|a inválida) ⇒ Transitividade não aplicável\n"
     ]
    }
   ],
   "source": [
    "exemplos_1 = [(2, 6, 12), (3, 9, 27), (7,14,84), (4, 8, 15)]\n",
    "\n",
    "def transitividade():\n",
    "    for c, b, a in exemplos_1:\n",
    "        # Verifica se as premissas são verdadeiras (c|b E b|a)\n",
    "        premissas_validas = divide(c, b) and divide(b, a)\n",
    "        \n",
    "        # Se as premissas forem válidas, verifica a conclusão (c|a)\n",
    "        if premissas_validas:\n",
    "            conclusao = divide(c, a)\n",
    "            print(f\"{c}|{b} e {b}|{a} ⇒ {c}|{a}? {conclusao} (Transitividade válida)\")\n",
    "        else:\n",
    "            # Mostra qual premissa falhou\n",
    "            if not divide(c, b):\n",
    "                print(f\"{c}∤{b} (Premissa c|b inválida) ⇒ Transitividade não aplicável\")\n",
    "            elif not divide(b, a):\n",
    "                print(f\"{b}∤{a} (Premissa b|a inválida) ⇒ Transitividade não aplicável\")\n",
    "transitividade()"
   ]
  },
  {
   "cell_type": "markdown",
   "id": "76213fc4-53dc-46db-8782-faaae3255cce",
   "metadata": {},
   "source": [
    "##### Propriedade (ii) - Linearidade:\n",
    "##### $ii) b \\mid a \\land b \\mid a' \\Rightarrow b \\mid a+a'$ "
   ]
  },
  {
   "cell_type": "code",
   "execution_count": 8,
   "id": "f13c0d81-82c5-4e06-aae8-198c6753abac",
   "metadata": {},
   "outputs": [
    {
     "name": "stdout",
     "output_type": "stream",
     "text": [
      "2|4 e 2|10 ⇒ 2|14? True (Lineariedade válida)\n",
      "3|9 e 3|30 ⇒ 3|39? True (Lineariedade válida)\n",
      "5|15 e 5|85 ⇒ 5|100? True (Lineariedade válida)\n",
      "9∤49 (Premissa b|a' inválida) ⇒ Lineariedade não aplicável\n"
     ]
    }
   ],
   "source": [
    "exemplos_2 = [(2,4,10), (3,9,30), (5,15,85), (9,36,49)]\n",
    "\n",
    "def lineariedade():\n",
    "    for c, b, a in exemplos_2:\n",
    "        # Verifica se as premissas são verdadeiras (c|b E b|a)\n",
    "        premissas_validas = divide(c, b) and divide(c, a)\n",
    "        \n",
    "        # Se as premissas forem válidas, verifica a conclusão (c|a)\n",
    "        if premissas_validas:\n",
    "            conclusao = divide(c, b+a)\n",
    "            print(f\"{c}|{b} e {c}|{a} ⇒ {c}|{b+a}? {conclusao} (Lineariedade válida)\")\n",
    "        else:\n",
    "            # Mostra qual premissa falhou\n",
    "            if not divide(c, b):\n",
    "                print(f\"{c}∤{b} (Premissa b|a inválida) ⇒ Lineariedade não aplicável\")\n",
    "            elif not divide(b, a):\n",
    "                print(f\"{c}∤{a} (Premissa b|a' inválida) ⇒ Lineariedade não aplicável\")\n",
    "lineariedade()"
   ]
  },
  {
   "cell_type": "markdown",
   "id": "6e4d9f29-9bee-4e39-9af1-a20a39747e42",
   "metadata": {},
   "source": [
    "##### Propriedade (iii) - Divisibilidade do Zero:  \n",
    "##### $iii)\\quad b \\mid 0 \\ \\text{$\\forall$ } b \\in \\mathbb{Z}\\$"
   ]
  },
  {
   "cell_type": "code",
   "execution_count": 9,
   "id": "9560fe93-ae1d-405f-9009-4e712ec3cba2",
   "metadata": {},
   "outputs": [
    {
     "name": "stdout",
     "output_type": "stream",
     "text": [
      "-2|0)? True (Divisibilidade do zero válida)\n",
      "-1|0)? True (Divisibilidade do zero válida)\n",
      "0|0)? True (Divisibilidade do zero válida)\n",
      "1|0)? True (Divisibilidade do zero válida)\n",
      "2|0)? True (Divisibilidade do zero válida)\n"
     ]
    }
   ],
   "source": [
    "def divisibilidadeDoZero():\n",
    "    for b in range(-2,3):\n",
    "        if divide(b,0):\n",
    "            conclusao = print(f\"{b}|{0})? {divide(b,0)} (Divisibilidade do zero válida)\")\n",
    "        else:\n",
    "            print(\"Não aplicável\")\n",
    "            \n",
    "divisibilidadeDoZero()\n",
    "        \n",
    "        "
   ]
  },
  {
   "cell_type": "markdown",
   "id": "4c9b2c45-12b6-4869-96b7-47222e1ba067",
   "metadata": {},
   "source": [
    "##### Divisibilidade por Um:  \n",
    "  $iv)\\quad 1 \\mid a \\ \\text{$\\forall$ } a \\in \\mathbb{Z}$\n"
   ]
  },
  {
   "cell_type": "code",
   "execution_count": 10,
   "id": "cd0f6f6f-78ba-4d24-a4bf-c3a2bba51f6d",
   "metadata": {},
   "outputs": [
    {
     "name": "stdout",
     "output_type": "stream",
     "text": [
      "1|-2 ? True (Divisibilidade por um válida)\n",
      "1|-1 ? True (Divisibilidade por um válida)\n",
      "1|0 ? True (Divisibilidade por um válida)\n",
      "1|1 ? True (Divisibilidade por um válida)\n",
      "1|2 ? True (Divisibilidade por um válida)\n"
     ]
    }
   ],
   "source": [
    "def divisibilidadePorUm():\n",
    "    for a in range(-2,3):\n",
    "        if divide(1,a):\n",
    "            conclusao = print(f\"{1}|{a} ? {divide(1,a)} (Divisibilidade por um válida)\")\n",
    "        else:\n",
    "            print(\"Não aplicável\")\n",
    "\n",
    "divisibilidadePorUm()\n",
    "            "
   ]
  },
  {
   "cell_type": "markdown",
   "id": "349bfab8-8f3c-4bc1-9eb3-4446d55753bf",
   "metadata": {},
   "source": [
    "##### Propriedade (v) - Divisibilidade por Zero:  \n",
    "  $v)\\quad 0 \\mid a \\iff a = 0$"
   ]
  },
  {
   "cell_type": "code",
   "execution_count": 11,
   "id": "188cfb44-2a34-4d68-83f4-f8d4f7cfb9ab",
   "metadata": {},
   "outputs": [
    {
     "name": "stdout",
     "output_type": "stream",
     "text": [
      "0|-2 ? Não aplicável, premissa a = 0 não satisfeita\n",
      "0|-1 ? Não aplicável, premissa a = 0 não satisfeita\n",
      "0|0 ? True (Divisibilidade por Zero)\n",
      "0|1 ? Não aplicável, premissa a = 0 não satisfeita\n",
      "0|2 ? Não aplicável, premissa a = 0 não satisfeita\n"
     ]
    }
   ],
   "source": [
    "def divisibilidadePorZero():\n",
    "    for a in range(-2,3):\n",
    "        premissa_valida = a == 0\n",
    "\n",
    "        if premissa_valida:\n",
    "            conclusao = print(f\"{0}|{a} ? {divide(a,a)} (Divisibilidade por Zero)\")\n",
    "        else:\n",
    "            print(f\"{0}|{a} ? Não aplicável, premissa a = 0 não satisfeita\")\n",
    "\n",
    "divisibilidadePorZero()\n",
    "            "
   ]
  },
  {
   "cell_type": "markdown",
   "id": "e7ce42a4-686b-483c-8074-438d28ece36a",
   "metadata": {},
   "source": [
    "O seguinte trecho computa todos os divisores de $121 = 11 \\cdot 11$:"
   ]
  },
  {
   "cell_type": "code",
   "execution_count": 12,
   "id": "35a6b438-5e08-4e22-984a-b642153e60c2",
   "metadata": {},
   "outputs": [
    {
     "data": {
      "text/plain": [
       "[1, 11, 121]"
      ]
     },
     "execution_count": 12,
     "metadata": {},
     "output_type": "execute_result"
    }
   ],
   "source": [
    ">>> n=121\n",
    ">>> D121=[d for d in range(1,n+1) if n%d == 0]\n",
    ">>> D121"
   ]
  },
  {
   "cell_type": "markdown",
   "id": "e18d6404-d1b6-4907-a7fe-bc1f2c473cda",
   "metadata": {},
   "source": [
    "Observe que o resultado é uma lista, a estrutura de dados mais importante do Python, denotada com `[` e `]`"
   ]
  },
  {
   "cell_type": "markdown",
   "id": "095ebe81-99d5-43c1-aec5-66fc2c1f2132",
   "metadata": {},
   "source": [
    "**<span style=\"color: red;\"> [1.3] Calcule `D48`, a lista de divisores de $48$, e para algum outro número $m < 200$. </span>**"
   ]
  },
  {
   "cell_type": "code",
   "execution_count": 13,
   "id": "d82f8117-a0c4-4255-8aa2-06cc6bce85b8",
   "metadata": {},
   "outputs": [
    {
     "data": {
      "text/plain": [
       "[1, 2, 3, 4, 6, 8, 12, 16, 24, 48]"
      ]
     },
     "execution_count": 13,
     "metadata": {},
     "output_type": "execute_result"
    }
   ],
   "source": [
    ">>> D48 = [d for d in range (1,49) if 48%d == 0]\n",
    ">>> D48"
   ]
  },
  {
   "cell_type": "code",
   "execution_count": 14,
   "id": "2c36ee7c-eea2-483c-89bb-7b2d0b85dac5",
   "metadata": {},
   "outputs": [
    {
     "data": {
      "text/plain": [
       "[1, 149]"
      ]
     },
     "execution_count": 14,
     "metadata": {},
     "output_type": "execute_result"
    }
   ],
   "source": [
    ">>> m = 149\n",
    ">>> D149 = [ d for d in range (1,m+1) if m%d == 0]\n",
    ">>> D149"
   ]
  },
  {
   "cell_type": "markdown",
   "id": "3a4e8543-8e6d-49eb-98dc-6f2d7d09a2b3",
   "metadata": {},
   "source": [
    "As funções `len(L)` e `sum(L)` computam o número de elementos e a soma dos elementos de uma lista, respectivamente, então podemos computar o número de divisores, $\\sum_{d \\mid n} 1$, e a soma de todos os divisores, $\\sum_{d \\mid n} d$."
   ]
  },
  {
   "cell_type": "code",
   "execution_count": 15,
   "id": "67dc6968-7e77-4cfd-821d-d35609f91ae6",
   "metadata": {},
   "outputs": [
    {
     "data": {
      "text/plain": [
       "133"
      ]
     },
     "execution_count": 15,
     "metadata": {},
     "output_type": "execute_result"
    }
   ],
   "source": [
    ">>> len(D121)\n",
    "3\n",
    ">>> sum(D121)\n",
    "133"
   ]
  },
  {
   "cell_type": "markdown",
   "id": "bd11e7f6-6e12-40a0-b3dd-e0e22fd1f57e",
   "metadata": {},
   "source": [
    " **<span style=\"color: red;\"> [1.4] Calcule esses valores para $48$ e para $m$. </span>**"
   ]
  },
  {
   "cell_type": "code",
   "execution_count": 16,
   "id": "3aca1f76-7395-4e41-8a1f-060f2685cc88",
   "metadata": {},
   "outputs": [
    {
     "data": {
      "text/plain": [
       "10"
      ]
     },
     "execution_count": 16,
     "metadata": {},
     "output_type": "execute_result"
    }
   ],
   "source": [
    ">>> len(D48)"
   ]
  },
  {
   "cell_type": "code",
   "execution_count": 17,
   "id": "3878cb9e-8d41-4411-b9be-38725e6de73e",
   "metadata": {},
   "outputs": [
    {
     "data": {
      "text/plain": [
       "124"
      ]
     },
     "execution_count": 17,
     "metadata": {},
     "output_type": "execute_result"
    }
   ],
   "source": [
    ">>> sum(D48)"
   ]
  },
  {
   "cell_type": "code",
   "execution_count": 18,
   "id": "0412076f-f5b3-43f5-8a6a-1981bd433798",
   "metadata": {},
   "outputs": [
    {
     "data": {
      "text/plain": [
       "2"
      ]
     },
     "execution_count": 18,
     "metadata": {},
     "output_type": "execute_result"
    }
   ],
   "source": [
    ">>> len(D149)"
   ]
  },
  {
   "cell_type": "code",
   "execution_count": 19,
   "id": "3bb021de-afec-450e-988d-dec60f5aa0ad",
   "metadata": {},
   "outputs": [
    {
     "data": {
      "text/plain": [
       "150"
      ]
     },
     "execution_count": 19,
     "metadata": {},
     "output_type": "execute_result"
    }
   ],
   "source": [
    ">>> sum(D149)"
   ]
  },
  {
   "cell_type": "markdown",
   "id": "3ee211ff-b22b-4299-92bb-5878daf98c56",
   "metadata": {},
   "source": [
    "**<span style=\"color: red;\"> *[1.5] Um número é perfeito se ele é igual à soma de seus divisores, excluindo ele mesmo. Então se $\\sum_{d \\mid n} d = 2n$. Escreva um programa para encontrar todos os números perfeitos menores que 1000.* </span>**"
   ]
  },
  {
   "cell_type": "code",
   "execution_count": 20,
   "id": "f64ae10e-f882-4acd-9c9e-0a7c11f4702a",
   "metadata": {},
   "outputs": [
    {
     "name": "stdout",
     "output_type": "stream",
     "text": [
      "O número 6 eh perfeito\n",
      "O número 28 eh perfeito\n",
      "O número 496 eh perfeito\n"
     ]
    }
   ],
   "source": [
    "def numeroPerfeito():\n",
    "    for i in range(1,1000):\n",
    "        Di = [ d for d in range(1,i) if i%d==0]\n",
    "        if sum(Di) == i: print(\"O número\", i, \"eh perfeito\")\n",
    "numeroPerfeito()"
   ]
  },
  {
   "cell_type": "markdown",
   "id": "3bf63292-ccdc-4d1f-afbd-e5b0181f313a",
   "metadata": {},
   "source": [
    "## Máximo Divisor Comum\n",
    "\n",
    "**Definição** O máximo divisor comum de $a$ e $b$ é o maior número $d$ que é divisor de ambos $a$ e $b$.\n",
    "\n",
    "*Notação:* $d=\\mathsf{gcd}(a,b)$\n",
    "\n",
    "**Definição** $a$ e $b$ são coprimos (ou primos entre si) se $\\mathsf{gcd}(a,b)=1$.\n",
    "\n",
    "**Teorema** A probabilidade de que $a$ e $b$ arbitrários sejam coprimos pode ser definida como\n",
    "$$\n",
    "\\lim_{N\\rightarrow\\infty}\\frac{|\\{1\\leq a,b \\leq N \\wedge \\mathsf{gcd}(a,b)=1 \\}|}{N^2} = \\frac{6}{\\pi^2}\n",
    "$$\n",
    "\n",
    "## Algoritmo de Euclides\n",
    "\n",
    "**Teorema** Sejam $a,b\\in\\mathbb{Z}$ e $d=gcd(a,b)$. Então, $d \\mid r$ tal que\n",
    "$$a=q\\cdot b+r\\ \\mathsf{com}\\ 0\\le r<b$$\n",
    "\n",
    ". . .\n",
    "\n",
    "O Algoritmo de Euclides encontrará tal $d$.\n",
    "\n",
    ". . .\n",
    "\n",
    "**Algoritmo** Para $a,b\\in\\mathbb{Z}$ tais que $a>b$,\n",
    "\n",
    "- defina $r_0=a$,\n",
    "- defina $r_1=b$,\n",
    "- enquanto $r_k\\neq0$\n",
    "  - defina $r_k$ recursivamente como o resto de $r_{k-2}/r_{k-1}$, ou seja, $$r_{k-2}=q_{k-1} \\cdot r_{k-1} + r_k\\ \\mathsf{com}\\ 0\\le r_k<r_{k-1}$$\n",
    "- retorne $gcd(a,b)=r_{k-1}$\n",
    "\n",
    "## Algoritmo de Euclides (exemplo)\n",
    "\n",
    "**Exemplo** $a=1057$, $b=315$, $gcd(a,b)=\\ ???$\n",
    "\n",
    "$$\\begin{array}{l|ccccc||ll}\n",
    "& & & & & & & r_0=1057 \\\\\n",
    "&r_{k-2} &=& q_{k-1} \\cdot r_{k-1} &+& r_k & & r_1=315 \\\\ \\hline\n",
    "k=2&1057 &=& 3\\cdot 315 &+& 112 & q_1=3 & r_2=112 \\\\\n",
    "k=3& 315 &=& 2\\cdot 112 &+& 91 & q_2=2 & r_3=91 \\\\\n",
    "k=4& 112 &=& 1\\cdot 91 &+& 21 & q_3=1 & r_4=21 \\\\\n",
    "k=5& 91 &=& 4\\cdot 21 &+& 7 & q_4=4 & r_5=7 \\longleftarrow \\\\\n",
    "k=6& 21 &=& 3\\cdot 7 &+& 0 & q_5=3 & r_6=0\n",
    "\\end{array}$$\n",
    "\n",
    "Quando $r_k  = 0$, o algoritmo termina e a resposta é $mdc(a,b) = r_{k-1} = r_5 = 7$.\n",
    "\n",
    "O programa a seguir calcula o MDC:\n",
    "\n"
   ]
  },
  {
   "cell_type": "code",
   "execution_count": 21,
   "id": "43ce6a36-fbc9-425d-8fff-30da74db30d5",
   "metadata": {},
   "outputs": [],
   "source": [
    "def gcd_euclid_iterative(a, b):\n",
    "# Calcula o MDC usando o algoritmo de Euclides (versão iterativa)\n",
    "    while b != 0:\n",
    "        (a, b) = (b, a%b) # usa uma tupla dupla\n",
    "        return a"
   ]
  },
  {
   "cell_type": "markdown",
   "id": "55d131fc-28fd-474d-b741-a2bf52de535b",
   "metadata": {},
   "source": [
    "**<span style=\"color: red;\"> [1.6] Modifique o programa para mostrar todas as etapas intermediárias. Use este programa modificado para verificar o exemplo, e para calcular o MDC entre sua matrícula e seu número de telefone. </span>**"
   ]
  },
  {
   "cell_type": "code",
   "execution_count": 22,
   "id": "c7777142-71c7-4e05-9b2e-8f72a92f7d85",
   "metadata": {},
   "outputs": [],
   "source": [
    "def gcd_euclid_iterative(a, b):\n",
    "    # Calcula o MDC usando o algoritmo de Euclides (versão iterativa), mostrando as etapas intermediárias\n",
    "    r0, r1 = a, b\n",
    "    \n",
    "    print(f\"r0 = {r0}\")\n",
    "    print(f\"r1 = {r1}\")\n",
    "    print(\"-----------------------------------------------\")\n",
    "    \n",
    "    i = 2\n",
    "\n",
    "    while b != 0:\n",
    "        q = a // b\n",
    "        r = a % b\n",
    "        \n",
    "        print(f\"{a} = {q}·{b} + {r}\")\n",
    "        print(f\"r{i} = {r} | q{i-1} = {q}\")\n",
    "        print(\"-----------------------------------------------\")\n",
    "        (a, b) = (b, r)\n",
    "        i += 1\n",
    "        \n",
    "\n",
    "    print(f\"GCD({r0}, {r1}) = r{i-2} = {a}\")\n",
    "    return a\n"
   ]
  },
  {
   "cell_type": "markdown",
   "id": "a95c5cee-6c4e-4ca2-99e8-f1338bb68fd9",
   "metadata": {},
   "source": [
    "Verificando o exemplo: $MDC(1057,315)$"
   ]
  },
  {
   "cell_type": "code",
   "execution_count": 23,
   "id": "7c30c894-1427-4286-9360-3e9bd4782f79",
   "metadata": {
    "scrolled": true
   },
   "outputs": [
    {
     "name": "stdout",
     "output_type": "stream",
     "text": [
      "r0 = 1057\n",
      "r1 = 315\n",
      "-----------------------------------------------\n",
      "1057 = 3·315 + 112\n",
      "r2 = 112 | q1 = 3\n",
      "-----------------------------------------------\n",
      "315 = 2·112 + 91\n",
      "r3 = 91 | q2 = 2\n",
      "-----------------------------------------------\n",
      "112 = 1·91 + 21\n",
      "r4 = 21 | q3 = 1\n",
      "-----------------------------------------------\n",
      "91 = 4·21 + 7\n",
      "r5 = 7 | q4 = 4\n",
      "-----------------------------------------------\n",
      "21 = 3·7 + 0\n",
      "r6 = 0 | q5 = 3\n",
      "-----------------------------------------------\n",
      "GCD(1057, 315) = r5 = 7\n"
     ]
    },
    {
     "data": {
      "text/plain": [
       "7"
      ]
     },
     "execution_count": 23,
     "metadata": {},
     "output_type": "execute_result"
    }
   ],
   "source": [
    "gcd_euclid_iterative(1057, 315)"
   ]
  },
  {
   "cell_type": "markdown",
   "id": "c6a49f5c-be50-41f5-9743-a82ffe835c80",
   "metadata": {},
   "source": [
    "Calculando o MDC entre minha matrícula e meu número de telefone:"
   ]
  },
  {
   "cell_type": "code",
   "execution_count": 24,
   "id": "f1cf3fc5-8f0b-4dc1-847d-c74277e90ac3",
   "metadata": {
    "scrolled": true
   },
   "outputs": [
    {
     "name": "stdout",
     "output_type": "stream",
     "text": [
      "r0 = 2024106034\n",
      "r1 = 31971466441\n",
      "-----------------------------------------------\n",
      "2024106034 = 0·31971466441 + 2024106034\n",
      "r2 = 2024106034 | q1 = 0\n",
      "-----------------------------------------------\n",
      "31971466441 = 15·2024106034 + 1609875931\n",
      "r3 = 1609875931 | q2 = 15\n",
      "-----------------------------------------------\n",
      "2024106034 = 1·1609875931 + 414230103\n",
      "r4 = 414230103 | q3 = 1\n",
      "-----------------------------------------------\n",
      "1609875931 = 3·414230103 + 367185622\n",
      "r5 = 367185622 | q4 = 3\n",
      "-----------------------------------------------\n",
      "414230103 = 1·367185622 + 47044481\n",
      "r6 = 47044481 | q5 = 1\n",
      "-----------------------------------------------\n",
      "367185622 = 7·47044481 + 37874255\n",
      "r7 = 37874255 | q6 = 7\n",
      "-----------------------------------------------\n",
      "47044481 = 1·37874255 + 9170226\n",
      "r8 = 9170226 | q7 = 1\n",
      "-----------------------------------------------\n",
      "37874255 = 4·9170226 + 1193351\n",
      "r9 = 1193351 | q8 = 4\n",
      "-----------------------------------------------\n",
      "9170226 = 7·1193351 + 816769\n",
      "r10 = 816769 | q9 = 7\n",
      "-----------------------------------------------\n",
      "1193351 = 1·816769 + 376582\n",
      "r11 = 376582 | q10 = 1\n",
      "-----------------------------------------------\n",
      "816769 = 2·376582 + 63605\n",
      "r12 = 63605 | q11 = 2\n",
      "-----------------------------------------------\n",
      "376582 = 5·63605 + 58557\n",
      "r13 = 58557 | q12 = 5\n",
      "-----------------------------------------------\n",
      "63605 = 1·58557 + 5048\n",
      "r14 = 5048 | q13 = 1\n",
      "-----------------------------------------------\n",
      "58557 = 11·5048 + 3029\n",
      "r15 = 3029 | q14 = 11\n",
      "-----------------------------------------------\n",
      "5048 = 1·3029 + 2019\n",
      "r16 = 2019 | q15 = 1\n",
      "-----------------------------------------------\n",
      "3029 = 1·2019 + 1010\n",
      "r17 = 1010 | q16 = 1\n",
      "-----------------------------------------------\n",
      "2019 = 1·1010 + 1009\n",
      "r18 = 1009 | q17 = 1\n",
      "-----------------------------------------------\n",
      "1010 = 1·1009 + 1\n",
      "r19 = 1 | q18 = 1\n",
      "-----------------------------------------------\n",
      "1009 = 1009·1 + 0\n",
      "r20 = 0 | q19 = 1009\n",
      "-----------------------------------------------\n",
      "GCD(2024106034, 31971466441) = r19 = 1\n"
     ]
    },
    {
     "data": {
      "text/plain": [
       "1"
      ]
     },
     "execution_count": 24,
     "metadata": {},
     "output_type": "execute_result"
    }
   ],
   "source": [
    "gcd_euclid_iterative(2024106034, 31971466441)"
   ]
  },
  {
   "cell_type": "markdown",
   "id": "390c9678-ada0-44dc-8c55-50b001d537bb",
   "metadata": {},
   "source": [
    "**<span style=\"color: red;\"> [1.7] Execute o programa modificado em $a=4181;b=2584$, dois números consecutivos da sequência de Fibonacci. O que você vê? Por que este é o pior caso para o algoritmo de Euclides? </span>**"
   ]
  },
  {
   "cell_type": "code",
   "execution_count": 25,
   "id": "53d79467-12ba-462a-8deb-7fdbe57e1d90",
   "metadata": {
    "scrolled": true
   },
   "outputs": [
    {
     "name": "stdout",
     "output_type": "stream",
     "text": [
      "r0 = 4181\n",
      "r1 = 2584\n",
      "-----------------------------------------------\n",
      "4181 = 1·2584 + 1597\n",
      "r2 = 1597 | q1 = 1\n",
      "-----------------------------------------------\n",
      "2584 = 1·1597 + 987\n",
      "r3 = 987 | q2 = 1\n",
      "-----------------------------------------------\n",
      "1597 = 1·987 + 610\n",
      "r4 = 610 | q3 = 1\n",
      "-----------------------------------------------\n",
      "987 = 1·610 + 377\n",
      "r5 = 377 | q4 = 1\n",
      "-----------------------------------------------\n",
      "610 = 1·377 + 233\n",
      "r6 = 233 | q5 = 1\n",
      "-----------------------------------------------\n",
      "377 = 1·233 + 144\n",
      "r7 = 144 | q6 = 1\n",
      "-----------------------------------------------\n",
      "233 = 1·144 + 89\n",
      "r8 = 89 | q7 = 1\n",
      "-----------------------------------------------\n",
      "144 = 1·89 + 55\n",
      "r9 = 55 | q8 = 1\n",
      "-----------------------------------------------\n",
      "89 = 1·55 + 34\n",
      "r10 = 34 | q9 = 1\n",
      "-----------------------------------------------\n",
      "55 = 1·34 + 21\n",
      "r11 = 21 | q10 = 1\n",
      "-----------------------------------------------\n",
      "34 = 1·21 + 13\n",
      "r12 = 13 | q11 = 1\n",
      "-----------------------------------------------\n",
      "21 = 1·13 + 8\n",
      "r13 = 8 | q12 = 1\n",
      "-----------------------------------------------\n",
      "13 = 1·8 + 5\n",
      "r14 = 5 | q13 = 1\n",
      "-----------------------------------------------\n",
      "8 = 1·5 + 3\n",
      "r15 = 3 | q14 = 1\n",
      "-----------------------------------------------\n",
      "5 = 1·3 + 2\n",
      "r16 = 2 | q15 = 1\n",
      "-----------------------------------------------\n",
      "3 = 1·2 + 1\n",
      "r17 = 1 | q16 = 1\n",
      "-----------------------------------------------\n",
      "2 = 2·1 + 0\n",
      "r18 = 0 | q17 = 2\n",
      "-----------------------------------------------\n",
      "GCD(4181, 2584) = r17 = 1\n"
     ]
    },
    {
     "data": {
      "text/plain": [
       "1"
      ]
     },
     "execution_count": 25,
     "metadata": {},
     "output_type": "execute_result"
    }
   ],
   "source": [
    "gcd_euclid_iterative(4181, 2584)"
   ]
  },
  {
   "cell_type": "markdown",
   "id": "1f2556a0-0a5a-40a3-945e-0069c73168c2",
   "metadata": {},
   "source": [
    "**Análise do pior caso do algoritmo de Euclides com números de Fibonacci**\n",
    "\n",
    "Ao executar o algoritmo de Euclides com os números `a = 4181` e `b = 2584`, observei que o algoritmo realiza **19 etapas** até encontrar o MDC. Esses dois números são consecutivos na sequência de Fibonacci: $ F_{19} = 4181  \\text{ e}  F_{18} = 2584 $.\n",
    "\n",
    "A cada etapa, os valores diminuem seguindo a própria sequência de Fibonacci em ordem decrescente: \\( (4181, 2584) \\), \\( (2584, 1597) \\), \\( (1597, 987) \\), ..., até chegar em \\( (1, 0) \\). Isso ocorre porque o algoritmo faz a operação `a % b`, e quando os números são consecutivos de Fibonacci, esse resto é sempre o número Fibonacci anterior.\n",
    "\n",
    "Este é considerado o **pior caso para o algoritmo de Euclides** porque o número de passos é **máximo** em relação ao tamanho dos números de entrada. O número de etapas cresce linearmente com a posição de Fibonacci, enquanto em casos comuns o número de passos cresce proporcional ao logaritmo dos números. Ou seja, para dois números tão grandes, o algoritmo normalmente terminaria mais rápido — mas com números de Fibonacci, ele faz o **número máximo possível de chamadas**.\n"
   ]
  },
  {
   "cell_type": "markdown",
   "id": "2adbc131-7383-4fb9-80f2-12b8f1f464b8",
   "metadata": {},
   "source": [
    "**<span style=\"color: red;\"> =============================================================================================</span>**"
   ]
  },
  {
   "cell_type": "markdown",
   "id": "72c2b9a7-7549-4f1c-9740-7cd5f7fda4df",
   "metadata": {},
   "source": [
    "# Números primos\n",
    "\n",
    "**Definição** $n$ é primo se tiver apenas dois divisores, a saber, $1$ e ele mesmo."
   ]
  },
  {
   "cell_type": "markdown",
   "id": "6e70b5b2-4dc3-48c5-aabd-fd206162d78f",
   "metadata": {},
   "source": [
    "**<span style=\"color: red;\"> [2.1] Escreva um teste em Python para verificar se $n$ é primo. </span>**"
   ]
  },
  {
   "cell_type": "code",
   "execution_count": 26,
   "id": "0ecf6b17-ec86-4465-950c-0c3dc74a96e2",
   "metadata": {},
   "outputs": [
    {
     "name": "stdout",
     "output_type": "stream",
     "text": [
      "Eh primo\n"
     ]
    },
    {
     "data": {
      "text/plain": [
       "True"
      ]
     },
     "execution_count": 26,
     "metadata": {},
     "output_type": "execute_result"
    }
   ],
   "source": [
    "import math\n",
    "def ehPrimo(n):\n",
    "    for d in range(2,round(math.sqrt(n)+1)):\n",
    "        if (n % d==0):\n",
    "            print(\"Não eh primo, divisor encontrado:\", d)\n",
    "            return False\n",
    "    print(\"Eh primo\")\n",
    "    return True\n",
    "\n",
    "ehPrimo(65537)"
   ]
  },
  {
   "cell_type": "markdown",
   "id": "e5194aff-01ad-4953-9241-e05e837cc2b0",
   "metadata": {},
   "source": [
    "**Teorema** Existem infinitos primos.\n",
    "\n",
    "**Demonstração (Euclides)** Considere $n=(2\\cdot 3\\cdot 5\\cdot \\ldots\\cdot p_{max})+1$. Certamente $n>p_{max}$ e $p_i\\not\\mid\\n$ para todo $i$ (já que $p_i \\mid n-1$). Portanto, ou $n$ é primo, ou o produto de primos maiores que $p_{max}$.\n",
    "\n",
    "### Fatos sobre números primos\n",
    "\n",
    "**Definição** Um primo de Mersenne é um primo da forma $M_k=2^k-1$\n",
    "\n",
    "$$\\begin{array}{c|ccccccccc}\n",
    "k & 2 & 3 & 5 & 7 & 13 & 17 & 19 & 31 & \\ldots \\\\ \\hline\n",
    "2^k & 4 & 8 & 32 & 128 & 8192 & 131072 & 524288 & 2147483648 & \\ldots \\\\\n",
    "M_k & 3 & 7 & 31 & 127 & 8191 & 131071 & 524287 & 2147483647 & \\ldots\n",
    "\\end{array}$$\n",
    "\n",
    "Existe uma competição mundial para encontrar o maior primo; sempre da forma $M_k=2^k-1$. São mais simples de encontrar porque: $M_k\\ \\mathsf{primo} \\stackrel{\\not\\Leftarrow}{\\Rightarrow}k\\ \\mathsf{primo}$. Caso contrário, os primos de Mersenne não têm importância prática."
   ]
  },
  {
   "cell_type": "markdown",
   "id": "4b2ee675-aff7-4f93-8482-f646a561a042",
   "metadata": {},
   "source": [
    "**<span style=\"color: red;\"> [2.2] Encontre na internet qual é o maior número primo conhecido no momento. É um primo de Mersenne? </span>**"
   ]
  },
  {
   "cell_type": "markdown",
   "id": "7902bbfe-d4e3-4424-b988-6e413d133de4",
   "metadata": {},
   "source": [
    "O maior número primo conhecido é o número $2^{136279841} - 1$.  \n",
    "Percebe-se que este número segue a forma $2^{k} - 1$, portanto, é um primo de $Mersene$: $M_{136279841} = 2^{136279841} - 1$.\n"
   ]
  },
  {
   "cell_type": "markdown",
   "id": "d8e7f960-5b5f-42ff-9113-ec700ba3c908",
   "metadata": {},
   "source": [
    "**Definição** Um primo de Fermat é um primo da forma $F_k = 2^{2^k}+1$\n",
    "\n",
    "$$\\begin{array}{c|cccccc}\n",
    "k & 1 & 2 & 3 & 4 & 5 & \\ldots \\\\ \\hline\n",
    "2^k & 2 & 4 & 8 & 16 & 32 & \\ldots \\\\\n",
    "F_k & 5 & 17 & 257 & 65537 & 4294967297 & \\ldots\n",
    "\\end{array}$$\n",
    "\n",
    "- Fermat observou que $F_1,F_2,F_3,F_4$ são primos e conjecturou que todos os outros eram primos.\n",
    "\n",
    "- De fato, nenhum primo de Fermat $F_k$ foi encontrado para $k>4$.\n",
    "\n",
    "- Os primos de Fermat são usados em criptografia devido à sua representação binária simples."
   ]
  },
  {
   "cell_type": "markdown",
   "id": "bf85bfa5-ffe6-4431-8281-b5237a861bbc",
   "metadata": {},
   "source": [
    "**<span style=\"color: red;\"> [2.3] Qual é a representação binária de $257$ e de $65537$? Você consegue encontrar um comando em Python que faça isso para você </span>**"
   ]
  },
  {
   "cell_type": "markdown",
   "id": "25b525b6-5439-4d13-8bcb-9e7df68b6f21",
   "metadata": {},
   "source": [
    "Função para encontrar a representação binária de qualquer número Inteiro:"
   ]
  },
  {
   "cell_type": "code",
   "execution_count": 27,
   "id": "5ea457f2-d0f6-4892-9e4f-564a5809d8d5",
   "metadata": {},
   "outputs": [],
   "source": [
    "def representacaoBinaria(n):\n",
    "    num=n\n",
    "    numeros = []\n",
    "    #print(n)\n",
    "    while n!=1:\n",
    "        resto = n%2\n",
    "        n = n//2\n",
    "        numeros.insert(0, resto)\n",
    "        #print(resto, n) # Imprime as etapas intermediárias\n",
    "    numeros.insert(0, n)\n",
    "    print(f\"O número {num} em binário é:\", end=\"\")\n",
    "    print(\"\".join(str(item) for item in numeros))"
   ]
  },
  {
   "cell_type": "markdown",
   "id": "61688759-1db9-4469-b363-653e03a10eb2",
   "metadata": {},
   "source": [
    "Encontrando a representação binária de 257 e 65537 usando o algoritmo acima:"
   ]
  },
  {
   "cell_type": "code",
   "execution_count": 28,
   "id": "0bfa88db-652f-470e-9f25-68eb4d06b916",
   "metadata": {},
   "outputs": [
    {
     "name": "stdout",
     "output_type": "stream",
     "text": [
      "O número 257 em binário é:100000001\n"
     ]
    }
   ],
   "source": [
    "representacaoBinaria(257)"
   ]
  },
  {
   "cell_type": "code",
   "execution_count": 29,
   "id": "0f46a868-c713-4ebd-995c-a6eed87e02b6",
   "metadata": {},
   "outputs": [
    {
     "name": "stdout",
     "output_type": "stream",
     "text": [
      "O número 65537 em binário é:10000000000000001\n"
     ]
    }
   ],
   "source": [
    "representacaoBinaria(65537)"
   ]
  },
  {
   "cell_type": "markdown",
   "id": "7c5338d9-8a27-44ee-b158-58cd6f5fa131",
   "metadata": {},
   "source": [
    "Encontrando a representação binária de 257 e 65537 usando a função bin do python:"
   ]
  },
  {
   "cell_type": "code",
   "execution_count": 30,
   "id": "7114fe70-4c0a-42f0-9a9c-657c445d41a4",
   "metadata": {},
   "outputs": [
    {
     "name": "stdout",
     "output_type": "stream",
     "text": [
      "100000001\n"
     ]
    }
   ],
   "source": [
    "print(bin(257)[2:])"
   ]
  },
  {
   "cell_type": "code",
   "execution_count": 31,
   "id": "4cfe1d2e-5933-4f51-8f4d-ad724ae5c7b7",
   "metadata": {},
   "outputs": [
    {
     "name": "stdout",
     "output_type": "stream",
     "text": [
      "10000000000000001\n"
     ]
    }
   ],
   "source": [
    "print(bin(65537)[2:])"
   ]
  },
  {
   "cell_type": "markdown",
   "id": "82d093d2-9edc-48e7-9f29-590cbf3ddf25",
   "metadata": {},
   "source": [
    "## Quantos números primos existem?\n",
    "\n",
    "**Definição** A função $\\pi(x)$ conta todos os números primos até $x$.\n",
    "\n",
    "$$\\pi(x) = | \\{ 1<p\\leq x : p \\ \\mathsf{é\\ primo}\\}|$$\n",
    "\n",
    "**Exemplos** $\\pi(10)=|\\{2,3,5,7\\}|= 4$\n",
    "\n",
    "A expressão $\\pi(x)/x$ representa a densidade de primos entre todos os inteiros.\n",
    "\n",
    "**Teorema dos Números Primos**\n",
    "$$\\lim_{N\\rightarrow\\infty}\\frac{\\pi(N)}{N}\\sim\\frac{1}{\\ln(N)}$$\n",
    "\n",
    "A demonstração deste teorema é muito difícil.\n",
    "\n",
    "![](PrimeNumberTheorem.png)"
   ]
  },
  {
   "cell_type": "markdown",
   "id": "6f34e01c-9505-4728-96f4-2951eababae9",
   "metadata": {},
   "source": [
    "**<span style=\"color: red;\"> [2.4] Use este teorema para estimar quantos números primos existem com tamanhos de 1024 bits, 1536 bits e 2048 bits (os tamanhos usados na criptografia) </span>**"
   ]
  },
  {
   "cell_type": "code",
   "execution_count": 32,
   "id": "831a0793-58a6-4826-9522-e99959f618b6",
   "metadata": {},
   "outputs": [
    {
     "name": "stdout",
     "output_type": "stream",
     "text": [
      "Aproximação pelo Teorema dos Números Primos para x = 1.80e+308:\n",
      "≈ 2.53e+305\n",
      "\n",
      "Aproximação pelo Teorema dos Números Primos para x = 2.41e+462:\n",
      "≈ 2.26e+459\n",
      "\n",
      "Aproximação pelo Teorema dos Números Primos para x = 3.23e+616:\n",
      "≈ 2.28e+613\n",
      "\n"
     ]
    }
   ],
   "source": [
    "import math\n",
    "\n",
    "def eh_primo(n):\n",
    "    for d in range(2,round(math.sqrt(n)+1)):\n",
    "        if (n % d==0):\n",
    "            return False\n",
    "    return True\n",
    "\n",
    "def pi(x):\n",
    "    count = 0\n",
    "    for i in range(2, x+1):\n",
    "        if eh_primo(i):\n",
    "            count +=1\n",
    "    return count\n",
    "\n",
    "def verificarTeorema(x):\n",
    "    pi_x = pi(x)\n",
    "    aprox = x / math.log(x) if x > 1 else 0\n",
    "    print(f\"π({x}) = {pi_x}\")\n",
    "    print(f\"Aproximação pelo Teorema dos Números Primos: {aprox:.2f}\")\n",
    "    print(f\"Razão π({x})/({x}) = {pi_x/x:.5f}\")\n",
    "    print(f\"1/ln({x}) = {1/math.log(x):.5f}\\n\")\n",
    "\n",
    "from decimal import Decimal, getcontext\n",
    "\n",
    "getcontext().prec = 1000\n",
    "\n",
    "def estimarPrimos(x):\n",
    "    x_decimal = Decimal(x)\n",
    "    aprox = x_decimal / x_decimal.ln() if x_decimal > 1 else 0\n",
    "    print(f\"Aproximação pelo Teorema dos Números Primos para x = {x_decimal:.2e}:\\n≈ {aprox:.2e}\\n\")\n",
    "\n",
    "valores = [2**1024, 2**1536, 2**2048]\n",
    "\n",
    "\n",
    "for v in valores:\n",
    "    estimarPrimos(v)\n"
   ]
  },
  {
   "cell_type": "markdown",
   "id": "c77570b5-6374-45fa-b10e-47d669a64226",
   "metadata": {},
   "source": [
    "**Teorema de Fermat** Se $p$ é primo, então $a^{p-1}\\equiv 1 \\pmod{p}$ para todo $a \\in [1,p-1]$.\n",
    "\n",
    "Exemplo: $2^{10} = 1024 = 93 \\cdot 11 + 1\\equiv 1 \\pmod{11}$\n"
   ]
  },
  {
   "cell_type": "code",
   "execution_count": 33,
   "id": "288d2249-7b65-40d2-9576-954ac8f17151",
   "metadata": {},
   "outputs": [
    {
     "data": {
      "text/plain": [
       "1024"
      ]
     },
     "execution_count": 33,
     "metadata": {},
     "output_type": "execute_result"
    }
   ],
   "source": [
    ">>> pow(2,10)"
   ]
  },
  {
   "cell_type": "code",
   "execution_count": 34,
   "id": "db735493-a84c-4377-a9c7-bc59d56be27f",
   "metadata": {},
   "outputs": [
    {
     "data": {
      "text/plain": [
       "1"
      ]
     },
     "execution_count": 34,
     "metadata": {},
     "output_type": "execute_result"
    }
   ],
   "source": [
    ">>> pow(2,10,11)"
   ]
  },
  {
   "cell_type": "markdown",
   "id": "2c81620b-139e-444f-b27a-8bd31eace9e0",
   "metadata": {},
   "source": [
    "**<span style=\"color: red;\"> [2.5] Use Python para testar o Teorema de Fermat para outros valores de $a$ e $p$. </span>**"
   ]
  },
  {
   "cell_type": "markdown",
   "id": "50521ae2-1a5f-4267-a1c4-78e794f81184",
   "metadata": {},
   "source": [
    "$3^{6} = 729 = 104 \\cdot 7 + 1\\equiv 1 \\pmod{7}$"
   ]
  },
  {
   "cell_type": "code",
   "execution_count": 35,
   "id": "a8516cb8-0eb8-44b8-84c7-057bb174960e",
   "metadata": {},
   "outputs": [
    {
     "data": {
      "text/plain": [
       "729"
      ]
     },
     "execution_count": 35,
     "metadata": {},
     "output_type": "execute_result"
    }
   ],
   "source": [
    ">>> pow(3, 6)"
   ]
  },
  {
   "cell_type": "code",
   "execution_count": 36,
   "id": "923417f9-36ab-4278-a120-29db2cd44f51",
   "metadata": {},
   "outputs": [
    {
     "data": {
      "text/plain": [
       "1"
      ]
     },
     "execution_count": 36,
     "metadata": {},
     "output_type": "execute_result"
    }
   ],
   "source": [
    ">>> pow(3, 6, 7)"
   ]
  },
  {
   "cell_type": "markdown",
   "id": "d831885d-36e9-47ab-9c5a-8f552ffe3ee1",
   "metadata": {},
   "source": [
    "$4^{4} = 256 = 51 \\cdot 5 + 1\\equiv 1 \\pmod{5}$"
   ]
  },
  {
   "cell_type": "code",
   "execution_count": 37,
   "id": "3a0bda1f-eb20-46a0-b4ba-b973e1ab4367",
   "metadata": {},
   "outputs": [
    {
     "data": {
      "text/plain": [
       "256"
      ]
     },
     "execution_count": 37,
     "metadata": {},
     "output_type": "execute_result"
    }
   ],
   "source": [
    ">>> pow(4, 4)"
   ]
  },
  {
   "cell_type": "code",
   "execution_count": 38,
   "id": "b3498b6d-55e6-498b-bb4d-f6cc4133a2da",
   "metadata": {},
   "outputs": [
    {
     "data": {
      "text/plain": [
       "1"
      ]
     },
     "execution_count": 38,
     "metadata": {},
     "output_type": "execute_result"
    }
   ],
   "source": [
    ">>> pow(4, 4, 5)"
   ]
  },
  {
   "cell_type": "markdown",
   "id": "00e73da2-693c-48d9-a8e9-1952e78af58b",
   "metadata": {},
   "source": [
    "O inverso do teorema de Fermat pode ser usado como um teste de primalidade, pois se $n$ não satisfaz a equação para algum $a$, então não pode ser primo.\n",
    "\n",
    "**Contra-positivo** Se $a^{n-1}\\not\\equiv 1 \\pmod{n}$ para algum $a \\in [1,n-1]$, então $n$ é composto.\n",
    "\n",
    "\n",
    "\n",
    "**Teste de primalidade de Fermat** Para $n,k\\in\\mathbb{N}$,\n",
    "\n",
    "- repita $k=10$ vezes:\n",
    "- escolha aleatoriamente $a \\in [2,n-2]$\n",
    "- defina $b\\equiv a^{n-1} \\pmod{n}$\n",
    "- se $b \\neq 1$ retorne **composto** (com testemunha $a$)\n",
    "- retorne **(provavelmente) primo**\n",
    "\n",
    "O teste de primalidade de Fermat não fornece certeza absoluta sobre $n$ ser primo ou não, pois alguns números são imunes a esse teste.\n",
    "\n",
    "**Definição** Um número de Carmichael é um composto $n$ tal que ${a^{n-1}\\equiv 1\\pmod{n}}$ para todo $a \\in [2,n-1]$.\n",
    "\n",
    "**Exemplo** $561 = 3\\cdot 11\\cdot 17$, ou $41041 = 7\\cdot 11\\cdot 13$\n",
    "\n",
    "Mas os números de Carmichael são raros. Até 10000 são apenas 7, a saber $561, 1105, 1729, 2465, 2821, 6601, 8911$. A probabilidade de por acaso testar um número de Carmichael é muito pequena, então não nos preocuparemos com eles.\n",
    "\n",
    "Isso nos leva ao seguinte programa para primalidade, que você pode usar na próxima questão."
   ]
  },
  {
   "cell_type": "code",
   "execution_count": 39,
   "id": "2e34925f-1d0b-4362-92dc-c58d9f1fd17a",
   "metadata": {},
   "outputs": [],
   "source": [
    "import random\n",
    "\n",
    "def fermat_primality_test(n, k=10):\n",
    "\t\t\"\"\"\n",
    "\t\tTeste de primalidade de Fermat para verificar se n é provavelmente primo.\n",
    "\n",
    "\t\tArgumentos:\n",
    "\t\t\t\tn (int): O número a ser testado.\n",
    "\t\t\t\tk (int): O número de testes aleatórios a serem realizados (padrão=10).\n",
    "\n",
    "\t\tRetorna:\n",
    "\t\t\t\tbool: Verdadeiro se n passar em todos os testes (provavelmente primo), Falso se composto.\n",
    "\"\"\"\n",
    "\t\tif n <= 1:\n",
    "\t\t\t\treturn False\n",
    "\t\telif n <= 3:\n",
    "\t\t\t\treturn True # 2 e 3 são primos\n",
    "\t\telif n % 2 == 0:\n",
    "\t\t\t\treturn False # Números pares >2 são compostos\n",
    "\n",
    "\t\tfor _ in range(k):\n",
    "\t\t\t\ta = random.randint(2, n - 2) # Escolha um valor aleatório a onde 1 < a < n-1\n",
    "\t\t\t\tif pow(a, n - 1, n) != 1: # Calcula a^(n-1) mod n eficientemente\n",
    "\t\t\t\t\t\treturn False # Definitivamente composto\n",
    "\t\t\t\treturn True # Provavelmente primo"
   ]
  },
  {
   "cell_type": "markdown",
   "id": "9e9a4aa1-67de-4ae1-9983-e1ecd4dfa65e",
   "metadata": {},
   "source": [
    "**<span style=\"color: red;\"> [2.6] Construa um número primo com seu nome </span>**"
   ]
  },
  {
   "cell_type": "markdown",
   "id": "bb9c4fa2-510e-4722-8a89-b0bc7467bbc0",
   "metadata": {},
   "source": [
    "1. Crie uma frase com cerca de 45 letras, incluindo seu nome. Cada aluno de uma dupla/tripla deve fazer isso.\n",
    "2. Converta para um número como segue: $A=01, ..., Z=26, \\mathsf{space}=27$ etc. Concatenando os dígitos, você obterá um número com cerca de 90 dígitos.\n",
    "3. Adicione 10 dígitos aleatórios no final para obter um número ímpar de 100 dígitos $n$ e teste se $n$ é um número primo. Caso contrário, altere os últimos 10 dígitos até que $n$ seja primo.\n",
    "4. Você pode usar `fermat_primality_test(n, k=10)`."
   ]
  },
  {
   "cell_type": "code",
   "execution_count": 40,
   "id": "9d026143-32d8-4eab-a60d-bc1da0d2e4fb",
   "metadata": {},
   "outputs": [
    {
     "name": "stdout",
     "output_type": "stream",
     "text": [
      "Número gerado: 130118140525271305121527071519200127040527051920210401182715192714211305181519271618091315192279029529\n",
      "Número de dígitos: 102\n",
      "Provavelmente primo (segundo o Teste de Fermat)\n"
     ]
    }
   ],
   "source": [
    "import random\n",
    "\n",
    "# Funções auxiliares (letra_para_numero, frase_para_numero)\n",
    "def letra_para_numero(c):\n",
    "    if c == ' ':\n",
    "        return '27'\n",
    "    else:\n",
    "        return f\"{ord(c.upper()) - ord('A') + 1:02d}\"\n",
    "\n",
    "def frase_para_numero(frase):\n",
    "    return ''.join(letra_para_numero(c) for c in frase)\n",
    "\n",
    "frase = \"MARNEY MELO GOSTA DE ESTUDAR OS NUMEROS PRIMOS\"\n",
    "base_numero = frase_para_numero(frase)\n",
    "\n",
    "# Adicionar 10 dígitos aleatórios e testar até encontrar um primo.\n",
    "while True:\n",
    "    sufixo_aleatorio = ''.join(random.choice('0123456789') for _ in range(9))\n",
    "    ultimo_digito_impar = random.choice('1379')\n",
    "    \n",
    "    numero_candidato = int(base_numero + sufixo_aleatorio + ultimo_digito_impar)\n",
    "    \n",
    "    if fermat_primality_test(numero_candidato, k=10):\n",
    "        print(f\"Número gerado: {numero_candidato}\")\n",
    "        print(f\"Número de dígitos: {len(str(numero_candidato))}\")\n",
    "        print(\"Provavelmente primo (segundo o Teste de Fermat)\")\n",
    "        break"
   ]
  },
  {
   "cell_type": "markdown",
   "id": "c87ec285-3acb-4b55-b605-35597efbbb9d",
   "metadata": {},
   "source": [
    "**<span style=\"color: red;\"> =============================================================================================</span>**"
   ]
  },
  {
   "cell_type": "markdown",
   "id": "18141ae2-1502-41a2-b78f-8224f73b1bf7",
   "metadata": {},
   "source": [
    "# Classes de congruência\n",
    "\n",
    "\n",
    "\n",
    "**Definição** Seja $m$ um inteiro. Dizemos que $a$ é congruente a $b$ módulo $m$, ou que $a$ e $b$ pertencem à mesma classe de congruência, se $a-b$ for múltiplo de $m$, ou seja, existe $k \\in \\mathbb{Z}$ tal que\n",
    "$$\n",
    "a-b = k\\cdot m\n",
    "$$\n",
    "Notação matemática:\n",
    "$$\n",
    "a \\equiv b \\pmod m\n",
    "$$\n",
    "\n",
    "Em outras palavras, significa que o resto módulo $m$ é o mesmo em ambos os casos. Em Python, C e Python, `%` é o operador mod, então isso significa que o teste\n",
    "```\n",
    "a % m == b % m\n",
    "```\n",
    "retorna `True`.\n",
    "\n",
    "Usamos aritmética modular no dia a dia:\n",
    "\n",
    "- $8272107104 \\equiv 8274104 \\pmod {1000}$ apenas verificando os três últimos dígitos.\n",
    "- $2 \\equiv 14 \\pmod {12}$, então ambos representam 2 horas, de noite ou de tarde.\n",
    "- $3 \\equiv 24 \\mod{7}$, então o 3º e o 24º dia de um mês caem no mesmo dia da semana\n",
    "- Curiosidade: as datas 04/04, 06/06, 08/08, 10/10 e 12/12 de um ano caem todos no mesmo dia da semana; em 2025, esta é uma sexta-feira. Isso ocorre porque, em todos os casos, o número de dias entre duas datas é $30+31+2=63$ ou $31+30+2=63$, um múltiplo de $7$. Também temos que 09/05, 05/09 e 07/11 e 11/07 caem no mesmo dia da semana. Março e fevereiro são mais complicados por causa dos anos bissextos. Mas o último dia de fevereiro, matematicamente conhecido como 00/03, também cai neste dia. Se não for um ano bissexto, o último dia de janeiro, 31/01, cai no mesmo dia.\n",
    "\n",
    "\n",
    "\n",
    "### Adição modular\n",
    "\n",
    "É possível realizar a adição módulo $n$:\n",
    "$$\n",
    "a \\text{\\ mod\\ } n+b \\text{\\ mod\\ } n = (a+b) \\text{\\ mod\\ } n\n",
    "$$\n",
    "Observe que obtemos as propriedades de um grupo Abeliano:\n",
    "\n",
    "- **fechado** $\\forall\\ a,b \\in G: a + b \\in \\mathbb{Z}_n^*$\n",
    "\n",
    "- **associativo** $\\forall\\ a,b,c \\in \\mathbb{Z}_n^*: (a + b) + c = a + (b + c)$\n",
    "\n",
    "- **elemento neutro de existência** $\\forall\\ a \\in \\mathbb{Z}_n^*: a + 0 = 0 + a = a$\n",
    "\n",
    "- **elemento inverso de existência** $\\forall\\ a \\in \\mathbb{Z}_n^*\\ \\exists\\ -a: a + (-a) = (-a) + a = 0$\n",
    "\n",
    "- **comutativo** $\\forall\\ a,b \\in \\mathbb{Z}_n^*: a + b = b+a$\n",
    "\n",
    "A adição modular é usada em criptografia.\n",
    "\n",
    "### Exemplo: Cifra de Vigenère usando o grupo aditivo módulo $n$\n",
    "\n",
    "**Contexto:**\n",
    "\n",
    "1. **Grupo aditivo $\\mathbb{Z}_n$**\n",
    "- O conjunto $\\{0, 1, 2, \\dots, n-1\\}$ sob adição módulo $n$.\n",
    "- Exemplo: Em $\\mathbb{Z}_{26}$, $25 + 3 = 2 \\mod 26$.\n",
    "\n",
    "2. **Cifra de Vigenère**\n",
    "- **Criptografia**: $C_i = (P_i + K_i) \\mod 26$\n",
    "- **Descriptografia**: $P_i = (C_i - K_i) \\mod 26$\n",
    "- Aqui, $P_i, K_i, C_i$ são representações numéricas de letras de texto simples, chave e texto cifrado (A=0, B=1, ..., Z=25).\n",
    "\n",
    "**Parte 1: Cifrar**\n",
    "\n",
    "1. **Texto simples**: `\"CRYPTO\"`\n",
    "- Converta para números: $C=2, R=17, Y=24, P=15, T=19, O=14$.\n",
    "2. **Chave**: `\"KEY\"` (repetido como `\"KEYKEY\"`).\n",
    "- Converta para números: $K=10, E=4, Y=24$.\n",
    "3. **Criptografe** usando $C_i = (P_i + K_i) \\mod 26$:\n",
    "- $(2+10) \\mod 26 = 12$ → M\n",
    "- $(17+4) \\mod 26 = 21$ → V\n",
    "- $(24+24) \\mod 26 = 48 \\mod 26 = 22$ → W\n",
    "- $(15+10) \\mod 26 = 25$ → Z\n",
    "- $(19+4) \\mod 26 = 23$ → X\n",
    "- $(14+24) \\mod 26 = 38 \\mod 26 = 12$ → M\n",
    "4. **Texto cifrado**: `\"MVWZXM\"`."
   ]
  },
  {
   "cell_type": "markdown",
   "id": "da1fbbbe-212f-464a-983b-79d1b922c77b",
   "metadata": {},
   "source": [
    "**<span style=\"color: red;\">[3.1] Verifique este exemplo usando Python. Use as seguintes funções para converter entre letras e números</span>**"
   ]
  },
  {
   "cell_type": "code",
   "execution_count": 41,
   "id": "8d4ca7f4-3982-41bb-bcda-a08c1aa09468",
   "metadata": {},
   "outputs": [],
   "source": [
    "# Versão  usando string e index()\n",
    "def numero_para_letra_v2(numero):\n",
    "    \"\"\"Converte um número (0-25) para letra (A-Z) usando string e index.\"\"\"\n",
    "    letras = \"ABCDEFGHIJKLMNOPQRSTUVWXYZ\"\n",
    "    if not 0 <= numero <= 25:\n",
    "        raise ValueError(\"O número deve estar entre 0 e 25.\")\n",
    "    return letras[numero]\n",
    "\n",
    "def letra_para_numero_v2(letra):\n",
    "    \"\"\"Converte uma letra (A-Z) para número (0-25) usando string e index().\"\"\"\n",
    "    letras = \"ABCDEFGHIJKLMNOPQRSTUVWXYZ\"\n",
    "    if not letra.isalpha() or not letra.isupper() or len(letra) != 1:\n",
    "        raise ValueError(\"A entrada deve ser uma única letra maiúscula (A-Z).\")\n",
    "    return letras.index(letra)\n",
    "\n",
    "def cifragem_vigenere(mensagem_enviada, chave_cifra):\n",
    "    index = 0;\n",
    "    mensagem_criptografada = []\n",
    "    for c in mensagem_enviada:\n",
    "        numero_cripto = letra_para_numero_v2(c) + letra_para_numero_v2(chave_cifra[index % len(chave_cifra)])\n",
    "        mensagem_criptografada.append(numero_para_letra_v2(numero_cripto % 26))\n",
    "        index+=1\n",
    "    return \"\".join(mensagem_criptografada)"
   ]
  },
  {
   "cell_type": "markdown",
   "id": "d9ad892d-b171-4989-9cd3-8ec5affe9bfb",
   "metadata": {},
   "source": [
    "**Testando algumas possibilidades de criptografia:**"
   ]
  },
  {
   "cell_type": "markdown",
   "id": "a6202c9f-273b-43e5-928c-de559c19e5f0",
   "metadata": {},
   "source": [
    "**1.1 Exemplo que foi dado pelo roteiro:**"
   ]
  },
  {
   "cell_type": "code",
   "execution_count": 42,
   "id": "acff0298-ef37-4ae2-b8ce-78289a8b2f58",
   "metadata": {},
   "outputs": [
    {
     "name": "stdout",
     "output_type": "stream",
     "text": [
      "Mensagem criptografada: MVWZXM\n"
     ]
    }
   ],
   "source": [
    "print(\"Mensagem criptografada:\", cifragem_vigenere(\"CRYPTO\", \"KEY\"))"
   ]
  },
  {
   "cell_type": "markdown",
   "id": "4fb72b0e-be3c-4de7-b417-f98304e2c1f9",
   "metadata": {},
   "source": [
    "**1.2 Vamos testar com qualquer tamanho de palavra e chave:**"
   ]
  },
  {
   "cell_type": "code",
   "execution_count": 43,
   "id": "3a1b5e1e-53ee-446e-ad24-9430bb5f0a5b",
   "metadata": {},
   "outputs": [
    {
     "name": "stdout",
     "output_type": "stream",
     "text": [
      "Mensagem criptografada: OLNNEIMRJURLRNIEZJKA\n"
     ]
    }
   ],
   "source": [
    "print(\"Mensagem criptografada:\", cifragem_vigenere(\"MENSAGEMSUPERSECRETA\", \"CHAVECIFRA\"))"
   ]
  },
  {
   "cell_type": "markdown",
   "id": "b8902adf-5f29-4216-b1ce-9c08aa3a2bd2",
   "metadata": {},
   "source": [
    "**1.2.1 E se tivermos uma palavra menor que a chave, a criptografia ainda funciona?**"
   ]
  },
  {
   "cell_type": "code",
   "execution_count": 44,
   "id": "839f1b36-1999-4b61-a0ce-fff76063cc70",
   "metadata": {},
   "outputs": [
    {
     "name": "stdout",
     "output_type": "stream",
     "text": [
      "Mensagem criptografada: OWELYGVF\n"
     ]
    }
   ],
   "source": [
    "print(\"Mensagem criptografada:\", cifragem_vigenere(\"MPEQUENA\", \"CHAVECIFRAGIGANTE\"))"
   ]
  },
  {
   "cell_type": "markdown",
   "id": "f547f560-e123-4814-bdaa-9d000d095046",
   "metadata": {},
   "source": [
    "**Parte 2: Decifrar**\n",
    "1. **Texto cifrado**: `\"MVWZXM\"` → $M=12, V=21, W=22, Z=25, X=23, M=12$.\n",
    "2. **Mesma chave**: `\"KEYKEY\"` → $K=10, E=4, Y=24$.\n",
    "3. **Descriptografe** usando $P_i = (C_i - K_i) \\mod 26$:\n",
    "- $(12-10) \\mod 26 = 2$ → C\n",
    "- $(21-4) \\mod 26 = 17$ → R\n",
    "- $(22-24) \\mod 26 = -2 \\mod 26 = 24$ → Y\n",
    "- $(25-10) \\mod 26 = 15$ → P\n",
    "- $(23-4) \\mod 26 = 19$ → T\n",
    "- $(12-24) \\mod 26 = -12 \\mod 26 = 14$ → O\n",
    "4. **Texto Simples Recuperado**: `\"CRYPTO\"`."
   ]
  },
  {
   "cell_type": "markdown",
   "id": "b67dbcd1-9956-47b9-b5f2-04d4c580faf6",
   "metadata": {},
   "source": [
    "**<span style=\"color: red;\">[3.2] Verifique este exemplo de descriptografia.</span>**"
   ]
  },
  {
   "cell_type": "code",
   "execution_count": 45,
   "id": "eaac2849-fb9c-4e22-86d3-ba54ea1b3657",
   "metadata": {},
   "outputs": [],
   "source": [
    "def descriptografia_vigenere(mensagem_criptografada, chave_cifra):\n",
    "    index = 0;\n",
    "    mensagem_descriptografada = []\n",
    "    for c in mensagem_criptografada:\n",
    "        numero_descripto = letra_para_numero_v2(c) - letra_para_numero_v2(chave_cifra[index % len(chave_cifra)])\n",
    "        mensagem_descriptografada.append(numero_para_letra_v2(numero_descripto % 26))\n",
    "        index+=1\n",
    "    return \"\".join(mensagem_descriptografada)\n",
    "        "
   ]
  },
  {
   "cell_type": "markdown",
   "id": "d379224f-3e5b-4ba0-9d22-2d6b6fbd63c2",
   "metadata": {},
   "source": [
    "**Vamos testar a descriptografia do exemplo assim como pede o relatório, mas também, vamos analisar se a criptografia realizada anteriormente, em todos os exemplos, é verdadeira:**"
   ]
  },
  {
   "cell_type": "code",
   "execution_count": 46,
   "id": "57c843c5-6614-4621-83c6-d9a39901e40e",
   "metadata": {},
   "outputs": [
    {
     "name": "stdout",
     "output_type": "stream",
     "text": [
      "Mensagem original: CRYPTO\n"
     ]
    }
   ],
   "source": [
    "print (\"Mensagem original:\", descriptografia_vigenere(\"MVWZXM\", \"KEY\"))"
   ]
  },
  {
   "cell_type": "code",
   "execution_count": 47,
   "id": "f3266ee8-8c7a-48a4-bf6a-409a442532d0",
   "metadata": {},
   "outputs": [
    {
     "name": "stdout",
     "output_type": "stream",
     "text": [
      "Mensagem original: MPEQUENA\n"
     ]
    }
   ],
   "source": [
    "print (\"Mensagem original:\", descriptografia_vigenere(\"OWELYGVF\", \"CHAVECIFRAGIGANTE\"))"
   ]
  },
  {
   "cell_type": "markdown",
   "id": "de779166-fc46-49bf-a679-2a4fcb6de0db",
   "metadata": {},
   "source": [
    "**No caso a seguir, fica claro que a mensagem original é a mesma que foi passada como parâmetro para ser criptografada e, logo em sequência, ser descriptografada. Dessa forma, podemos ver que nossa função funciona corretamente.**"
   ]
  },
  {
   "cell_type": "raw",
   "id": "1897b889-1622-4843-8084-d26ea4eac58d",
   "metadata": {},
   "source": [
    "Esperamos o resultado: MENSAGEMSUPERSECRETA"
   ]
  },
  {
   "cell_type": "code",
   "execution_count": 48,
   "id": "e6764db3-9cd8-4434-bbe6-3986f90e672c",
   "metadata": {},
   "outputs": [
    {
     "name": "stdout",
     "output_type": "stream",
     "text": [
      "Mensagem original: MENSAGEMSUPERSECRETA\n"
     ]
    }
   ],
   "source": [
    "print (\"Mensagem original:\", descriptografia_vigenere(cifragem_vigenere(\"MENSAGEMSUPERSECRETA\", \"CHAVECIFRA\"), \"CHAVECIFRA\"))"
   ]
  },
  {
   "cell_type": "markdown",
   "id": "9410b09c-28dd-4e95-a4ca-f856e600a5c1",
   "metadata": {},
   "source": [
    "**<span style=\"color: red;\">[3.3]Desafio Bônus: Tente quebrar este texto cifrado (use $\\mathbb{Z}_{26}$)</span>**:\n",
    "\n",
    "- Texto cifrado: `\"MOBIAKCKVGCNNJSJZRIB\"`\n",
    "- Comprimento da chave conhecido: 2 (ex.: `\"AB\"`).\n",
    "- Texto simples: `\"MNBHAJCJVFCMNRJYRHB\"` (provavelmente chave errada; demonstra tentativa e erro).\n",
    "- Tente outras chaves até encontrar uma palavra em inglês."
   ]
  },
  {
   "cell_type": "code",
   "execution_count": 49,
   "id": "4a126334-90b4-4b9a-8fb3-48af2023d3b9",
   "metadata": {},
   "outputs": [
    {
     "name": "stdout",
     "output_type": "stream",
     "text": [
      "Mensagem original: KLZFYHAHTDAKLGQGXOGY  - NÃO SERVE\n",
      "Mensagem original: MNBHAJCJVFCMNISIZQIA  - NÃO SERVE\n",
      "Mensagem original: VDKXJZLZEVLCWYBYIGRQ  - NÃO SERVE\n",
      "Mensagem original: ALPFOHQHJDQKBGGGNOWY  - NÃO SERVE\n"
     ]
    }
   ],
   "source": [
    "print (\"Mensagem original:\", descriptografia_vigenere(\"MOBIAKCKVGCNNJSJZRIB\", \"CD\"), \" - NÃO SERVE\")\n",
    "print (\"Mensagem original:\", descriptografia_vigenere(\"MOBIAKCKVGCNNJSJZRIB\", \"AB\"), \" - NÃO SERVE\")\n",
    "print (\"Mensagem original:\", descriptografia_vigenere(\"MOBIAKCKVGCNNJSJZRIB\", \"RL\"), \" - NÃO SERVE\")\n",
    "print (\"Mensagem original:\", descriptografia_vigenere(\"MOBIAKCKVGCNNJSJZRIB\", \"MD\"), \" - NÃO SERVE\")"
   ]
  },
  {
   "cell_type": "markdown",
   "id": "fca42702-cccd-4093-a6c7-6d7936feaf90",
   "metadata": {},
   "source": [
    "**Por quê não automatizar a busca?**"
   ]
  },
  {
   "cell_type": "code",
   "execution_count": 50,
   "id": "4f62b408-224d-44fb-b35e-04e3e5ce747f",
   "metadata": {
    "scrolled": true
   },
   "outputs": [
    {
     "name": "stdout",
     "output_type": "stream",
     "text": [
      "MOBIAKCKVGCNNJSJZRIB Senha usada: AA\n",
      "MNBHAJCJVFCMNISIZQIA Senha usada: AB\n",
      "MMBGAICIVECLNHSHZPIZ Senha usada: AC\n",
      "MLBFAHCHVDCKNGSGZOIY Senha usada: AD\n",
      "MKBEAGCGVCCJNFSFZNIX Senha usada: AE\n",
      "MJBDAFCFVBCINESEZMIW Senha usada: AF\n",
      "MIBCAECEVACHNDSDZLIV Senha usada: AG\n",
      "MHBBADCDVZCGNCSCZKIU Senha usada: AH\n",
      "MGBAACCCVYCFNBSBZJIT Senha usada: AI\n",
      "MFBZABCBVXCENASAZIIS Senha usada: AJ\n",
      "MEBYAACAVWCDNZSZZHIR Senha usada: AK\n",
      "MDBXAZCZVVCCNYSYZGIQ Senha usada: AL\n",
      "MCBWAYCYVUCBNXSXZFIP Senha usada: AM\n",
      "MBBVAXCXVTCANWSWZEIO Senha usada: AN\n",
      "MABUAWCWVSCZNVSVZDIN Senha usada: AO\n",
      "MZBTAVCVVRCYNUSUZCIM Senha usada: AP\n",
      "MYBSAUCUVQCXNTSTZBIL Senha usada: AQ\n",
      "MXBRATCTVPCWNSSSZAIK Senha usada: AR\n",
      "MWBQASCSVOCVNRSRZZIJ Senha usada: AS\n",
      "MVBPARCRVNCUNQSQZYII Senha usada: AT\n",
      "MUBOAQCQVMCTNPSPZXIH Senha usada: AU\n",
      "MTBNAPCPVLCSNOSOZWIG Senha usada: AV\n",
      "MSBMAOCOVKCRNNSNZVIF Senha usada: AW\n",
      "MRBLANCNVJCQNMSMZUIE Senha usada: AX\n",
      "MQBKAMCMVICPNLSLZTID Senha usada: AY\n",
      "MPBJALCLVHCONKSKZSIC Senha usada: AZ\n",
      "LOAIZKBKUGBNMJRJYRHB Senha usada: BA\n",
      "LNAHZJBJUFBMMIRIYQHA Senha usada: BB\n",
      "LMAGZIBIUEBLMHRHYPHZ Senha usada: BC\n",
      "LLAFZHBHUDBKMGRGYOHY Senha usada: BD\n",
      "LKAEZGBGUCBJMFRFYNHX Senha usada: BE\n",
      "LJADZFBFUBBIMEREYMHW Senha usada: BF\n",
      "LIACZEBEUABHMDRDYLHV Senha usada: BG\n",
      "LHABZDBDUZBGMCRCYKHU Senha usada: BH\n",
      "LGAAZCBCUYBFMBRBYJHT Senha usada: BI\n",
      "LFAZZBBBUXBEMARAYIHS Senha usada: BJ\n",
      "LEAYZABAUWBDMZRZYHHR Senha usada: BK\n",
      "LDAXZZBZUVBCMYRYYGHQ Senha usada: BL\n",
      "LCAWZYBYUUBBMXRXYFHP Senha usada: BM\n",
      "LBAVZXBXUTBAMWRWYEHO Senha usada: BN\n",
      "LAAUZWBWUSBZMVRVYDHN Senha usada: BO\n",
      "LZATZVBVURBYMURUYCHM Senha usada: BP\n",
      "LYASZUBUUQBXMTRTYBHL Senha usada: BQ\n",
      "LXARZTBTUPBWMSRSYAHK Senha usada: BR\n",
      "LWAQZSBSUOBVMRRRYZHJ Senha usada: BS\n",
      "LVAPZRBRUNBUMQRQYYHI Senha usada: BT\n",
      "LUAOZQBQUMBTMPRPYXHH Senha usada: BU\n",
      "LTANZPBPULBSMOROYWHG Senha usada: BV\n",
      "LSAMZOBOUKBRMNRNYVHF Senha usada: BW\n",
      "LRALZNBNUJBQMMRMYUHE Senha usada: BX\n",
      "LQAKZMBMUIBPMLRLYTHD Senha usada: BY\n",
      "LPAJZLBLUHBOMKRKYSHC Senha usada: BZ\n",
      "KOZIYKAKTGANLJQJXRGB Senha usada: CA\n",
      "KNZHYJAJTFAMLIQIXQGA Senha usada: CB\n",
      "KMZGYIAITEALLHQHXPGZ Senha usada: CC\n",
      "KLZFYHAHTDAKLGQGXOGY Senha usada: CD\n",
      "KKZEYGAGTCAJLFQFXNGX Senha usada: CE\n",
      "KJZDYFAFTBAILEQEXMGW Senha usada: CF\n",
      "KIZCYEAETAAHLDQDXLGV Senha usada: CG\n",
      "KHZBYDADTZAGLCQCXKGU Senha usada: CH\n",
      "KGZAYCACTYAFLBQBXJGT Senha usada: CI\n",
      "KFZZYBABTXAELAQAXIGS Senha usada: CJ\n",
      "KEZYYAAATWADLZQZXHGR Senha usada: CK\n",
      "KDZXYZAZTVACLYQYXGGQ Senha usada: CL\n",
      "KCZWYYAYTUABLXQXXFGP Senha usada: CM\n",
      "KBZVYXAXTTAALWQWXEGO Senha usada: CN\n",
      "KAZUYWAWTSAZLVQVXDGN Senha usada: CO\n",
      "KZZTYVAVTRAYLUQUXCGM Senha usada: CP\n",
      "KYZSYUAUTQAXLTQTXBGL Senha usada: CQ\n",
      "KXZRYTATTPAWLSQSXAGK Senha usada: CR\n",
      "KWZQYSASTOAVLRQRXZGJ Senha usada: CS\n",
      "KVZPYRARTNAULQQQXYGI Senha usada: CT\n",
      "KUZOYQAQTMATLPQPXXGH Senha usada: CU\n",
      "KTZNYPAPTLASLOQOXWGG Senha usada: CV\n",
      "KSZMYOAOTKARLNQNXVGF Senha usada: CW\n",
      "KRZLYNANTJAQLMQMXUGE Senha usada: CX\n",
      "KQZKYMAMTIAPLLQLXTGD Senha usada: CY\n",
      "KPZJYLALTHAOLKQKXSGC Senha usada: CZ\n",
      "JOYIXKZKSGZNKJPJWRFB Senha usada: DA\n",
      "JNYHXJZJSFZMKIPIWQFA Senha usada: DB\n",
      "JMYGXIZISEZLKHPHWPFZ Senha usada: DC\n",
      "JLYFXHZHSDZKKGPGWOFY Senha usada: DD\n",
      "JKYEXGZGSCZJKFPFWNFX Senha usada: DE\n",
      "JJYDXFZFSBZIKEPEWMFW Senha usada: DF\n",
      "JIYCXEZESAZHKDPDWLFV Senha usada: DG\n",
      "JHYBXDZDSZZGKCPCWKFU Senha usada: DH\n",
      "JGYAXCZCSYZFKBPBWJFT Senha usada: DI\n",
      "JFYZXBZBSXZEKAPAWIFS Senha usada: DJ\n",
      "JEYYXAZASWZDKZPZWHFR Senha usada: DK\n",
      "JDYXXZZZSVZCKYPYWGFQ Senha usada: DL\n",
      "JCYWXYZYSUZBKXPXWFFP Senha usada: DM\n",
      "JBYVXXZXSTZAKWPWWEFO Senha usada: DN\n",
      "JAYUXWZWSSZZKVPVWDFN Senha usada: DO\n",
      "JZYTXVZVSRZYKUPUWCFM Senha usada: DP\n",
      "JYYSXUZUSQZXKTPTWBFL Senha usada: DQ\n",
      "JXYRXTZTSPZWKSPSWAFK Senha usada: DR\n",
      "JWYQXSZSSOZVKRPRWZFJ Senha usada: DS\n",
      "JVYPXRZRSNZUKQPQWYFI Senha usada: DT\n",
      "JUYOXQZQSMZTKPPPWXFH Senha usada: DU\n",
      "JTYNXPZPSLZSKOPOWWFG Senha usada: DV\n",
      "JSYMXOZOSKZRKNPNWVFF Senha usada: DW\n",
      "JRYLXNZNSJZQKMPMWUFE Senha usada: DX\n",
      "JQYKXMZMSIZPKLPLWTFD Senha usada: DY\n",
      "JPYJXLZLSHZOKKPKWSFC Senha usada: DZ\n",
      "IOXIWKYKRGYNJJOJVREB Senha usada: EA\n",
      "INXHWJYJRFYMJIOIVQEA Senha usada: EB\n",
      "IMXGWIYIREYLJHOHVPEZ Senha usada: EC\n",
      "ILXFWHYHRDYKJGOGVOEY Senha usada: ED\n",
      "IKXEWGYGRCYJJFOFVNEX Senha usada: EE\n",
      "IJXDWFYFRBYIJEOEVMEW Senha usada: EF\n",
      "IIXCWEYERAYHJDODVLEV Senha usada: EG\n",
      "IHXBWDYDRZYGJCOCVKEU Senha usada: EH\n",
      "IGXAWCYCRYYFJBOBVJET Senha usada: EI\n",
      "IFXZWBYBRXYEJAOAVIES Senha usada: EJ\n",
      "IEXYWAYARWYDJZOZVHER Senha usada: EK\n",
      "IDXXWZYZRVYCJYOYVGEQ Senha usada: EL\n",
      "ICXWWYYYRUYBJXOXVFEP Senha usada: EM\n",
      "IBXVWXYXRTYAJWOWVEEO Senha usada: EN\n",
      "IAXUWWYWRSYZJVOVVDEN Senha usada: EO\n",
      "IZXTWVYVRRYYJUOUVCEM Senha usada: EP\n",
      "IYXSWUYURQYXJTOTVBEL Senha usada: EQ\n",
      "IXXRWTYTRPYWJSOSVAEK Senha usada: ER\n",
      "IWXQWSYSROYVJRORVZEJ Senha usada: ES\n",
      "IVXPWRYRRNYUJQOQVYEI Senha usada: ET\n",
      "IUXOWQYQRMYTJPOPVXEH Senha usada: EU\n",
      "ITXNWPYPRLYSJOOOVWEG Senha usada: EV\n",
      "ISXMWOYORKYRJNONVVEF Senha usada: EW\n",
      "IRXLWNYNRJYQJMOMVUEE Senha usada: EX\n",
      "IQXKWMYMRIYPJLOLVTED Senha usada: EY\n",
      "IPXJWLYLRHYOJKOKVSEC Senha usada: EZ\n",
      "HOWIVKXKQGXNIJNJURDB Senha usada: FA\n",
      "HNWHVJXJQFXMIINIUQDA Senha usada: FB\n",
      "HMWGVIXIQEXLIHNHUPDZ Senha usada: FC\n",
      "HLWFVHXHQDXKIGNGUODY Senha usada: FD\n",
      "HKWEVGXGQCXJIFNFUNDX Senha usada: FE\n",
      "HJWDVFXFQBXIIENEUMDW Senha usada: FF\n",
      "HIWCVEXEQAXHIDNDULDV Senha usada: FG\n",
      "HHWBVDXDQZXGICNCUKDU Senha usada: FH\n",
      "HGWAVCXCQYXFIBNBUJDT Senha usada: FI\n",
      "HFWZVBXBQXXEIANAUIDS Senha usada: FJ\n",
      "HEWYVAXAQWXDIZNZUHDR Senha usada: FK\n",
      "HDWXVZXZQVXCIYNYUGDQ Senha usada: FL\n",
      "HCWWVYXYQUXBIXNXUFDP Senha usada: FM\n",
      "HBWVVXXXQTXAIWNWUEDO Senha usada: FN\n",
      "HAWUVWXWQSXZIVNVUDDN Senha usada: FO\n",
      "HZWTVVXVQRXYIUNUUCDM Senha usada: FP\n",
      "HYWSVUXUQQXXITNTUBDL Senha usada: FQ\n",
      "HXWRVTXTQPXWISNSUADK Senha usada: FR\n",
      "HWWQVSXSQOXVIRNRUZDJ Senha usada: FS\n",
      "HVWPVRXRQNXUIQNQUYDI Senha usada: FT\n",
      "HUWOVQXQQMXTIPNPUXDH Senha usada: FU\n",
      "HTWNVPXPQLXSIONOUWDG Senha usada: FV\n",
      "HSWMVOXOQKXRINNNUVDF Senha usada: FW\n",
      "HRWLVNXNQJXQIMNMUUDE Senha usada: FX\n",
      "HQWKVMXMQIXPILNLUTDD Senha usada: FY\n",
      "HPWJVLXLQHXOIKNKUSDC Senha usada: FZ\n",
      "GOVIUKWKPGWNHJMJTRCB Senha usada: GA\n",
      "GNVHUJWJPFWMHIMITQCA Senha usada: GB\n",
      "GMVGUIWIPEWLHHMHTPCZ Senha usada: GC\n",
      "GLVFUHWHPDWKHGMGTOCY Senha usada: GD\n",
      "GKVEUGWGPCWJHFMFTNCX Senha usada: GE\n",
      "GJVDUFWFPBWIHEMETMCW Senha usada: GF\n",
      "GIVCUEWEPAWHHDMDTLCV Senha usada: GG\n",
      "GHVBUDWDPZWGHCMCTKCU Senha usada: GH\n",
      "GGVAUCWCPYWFHBMBTJCT Senha usada: GI\n",
      "GFVZUBWBPXWEHAMATICS Senha usada: GJ\n",
      "GEVYUAWAPWWDHZMZTHCR Senha usada: GK\n",
      "GDVXUZWZPVWCHYMYTGCQ Senha usada: GL\n",
      "GCVWUYWYPUWBHXMXTFCP Senha usada: GM\n",
      "GBVVUXWXPTWAHWMWTECO Senha usada: GN\n",
      "GAVUUWWWPSWZHVMVTDCN Senha usada: GO\n",
      "GZVTUVWVPRWYHUMUTCCM Senha usada: GP\n",
      "GYVSUUWUPQWXHTMTTBCL Senha usada: GQ\n",
      "GXVRUTWTPPWWHSMSTACK Senha usada: GR\n",
      "GWVQUSWSPOWVHRMRTZCJ Senha usada: GS\n",
      "GVVPURWRPNWUHQMQTYCI Senha usada: GT\n",
      "GUVOUQWQPMWTHPMPTXCH Senha usada: GU\n",
      "GTVNUPWPPLWSHOMOTWCG Senha usada: GV\n",
      "GSVMUOWOPKWRHNMNTVCF Senha usada: GW\n",
      "GRVLUNWNPJWQHMMMTUCE Senha usada: GX\n",
      "GQVKUMWMPIWPHLMLTTCD Senha usada: GY\n",
      "GPVJULWLPHWOHKMKTSCC Senha usada: GZ\n",
      "FOUITKVKOGVNGJLJSRBB Senha usada: HA\n",
      "FNUHTJVJOFVMGILISQBA Senha usada: HB\n",
      "FMUGTIVIOEVLGHLHSPBZ Senha usada: HC\n",
      "FLUFTHVHODVKGGLGSOBY Senha usada: HD\n",
      "FKUETGVGOCVJGFLFSNBX Senha usada: HE\n",
      "FJUDTFVFOBVIGELESMBW Senha usada: HF\n",
      "FIUCTEVEOAVHGDLDSLBV Senha usada: HG\n",
      "FHUBTDVDOZVGGCLCSKBU Senha usada: HH\n",
      "FGUATCVCOYVFGBLBSJBT Senha usada: HI\n",
      "FFUZTBVBOXVEGALASIBS Senha usada: HJ\n",
      "FEUYTAVAOWVDGZLZSHBR Senha usada: HK\n",
      "FDUXTZVZOVVCGYLYSGBQ Senha usada: HL\n",
      "FCUWTYVYOUVBGXLXSFBP Senha usada: HM\n",
      "FBUVTXVXOTVAGWLWSEBO Senha usada: HN\n",
      "FAUUTWVWOSVZGVLVSDBN Senha usada: HO\n",
      "FZUTTVVVORVYGULUSCBM Senha usada: HP\n",
      "FYUSTUVUOQVXGTLTSBBL Senha usada: HQ\n",
      "FXURTTVTOPVWGSLSSABK Senha usada: HR\n",
      "FWUQTSVSOOVVGRLRSZBJ Senha usada: HS\n",
      "FVUPTRVRONVUGQLQSYBI Senha usada: HT\n",
      "FUUOTQVQOMVTGPLPSXBH Senha usada: HU\n",
      "FTUNTPVPOLVSGOLOSWBG Senha usada: HV\n",
      "FSUMTOVOOKVRGNLNSVBF Senha usada: HW\n",
      "FRULTNVNOJVQGMLMSUBE Senha usada: HX\n",
      "FQUKTMVMOIVPGLLLSTBD Senha usada: HY\n",
      "FPUJTLVLOHVOGKLKSSBC Senha usada: HZ\n",
      "EOTISKUKNGUNFJKJRRAB Senha usada: IA\n",
      "ENTHSJUJNFUMFIKIRQAA Senha usada: IB\n",
      "EMTGSIUINEULFHKHRPAZ Senha usada: IC\n",
      "ELTFSHUHNDUKFGKGROAY Senha usada: ID\n",
      "EKTESGUGNCUJFFKFRNAX Senha usada: IE\n",
      "EJTDSFUFNBUIFEKERMAW Senha usada: IF\n",
      "EITCSEUENAUHFDKDRLAV Senha usada: IG\n",
      "EHTBSDUDNZUGFCKCRKAU Senha usada: IH\n",
      "EGTASCUCNYUFFBKBRJAT Senha usada: II\n",
      "EFTZSBUBNXUEFAKARIAS Senha usada: IJ\n",
      "EETYSAUANWUDFZKZRHAR Senha usada: IK\n",
      "EDTXSZUZNVUCFYKYRGAQ Senha usada: IL\n",
      "ECTWSYUYNUUBFXKXRFAP Senha usada: IM\n",
      "EBTVSXUXNTUAFWKWREAO Senha usada: IN\n",
      "EATUSWUWNSUZFVKVRDAN Senha usada: IO\n",
      "EZTTSVUVNRUYFUKURCAM Senha usada: IP\n",
      "EYTSSUUUNQUXFTKTRBAL Senha usada: IQ\n",
      "EXTRSTUTNPUWFSKSRAAK Senha usada: IR\n",
      "EWTQSSUSNOUVFRKRRZAJ Senha usada: IS\n",
      "EVTPSRURNNUUFQKQRYAI Senha usada: IT\n",
      "EUTOSQUQNMUTFPKPRXAH Senha usada: IU\n",
      "ETTNSPUPNLUSFOKORWAG Senha usada: IV\n",
      "ESTMSOUONKURFNKNRVAF Senha usada: IW\n",
      "ERTLSNUNNJUQFMKMRUAE Senha usada: IX\n",
      "EQTKSMUMNIUPFLKLRTAD Senha usada: IY\n",
      "EPTJSLULNHUOFKKKRSAC Senha usada: IZ\n",
      "DOSIRKTKMGTNEJJJQRZB Senha usada: JA\n",
      "DNSHRJTJMFTMEIJIQQZA Senha usada: JB\n",
      "DMSGRITIMETLEHJHQPZZ Senha usada: JC\n",
      "DLSFRHTHMDTKEGJGQOZY Senha usada: JD\n",
      "DKSERGTGMCTJEFJFQNZX Senha usada: JE\n",
      "DJSDRFTFMBTIEEJEQMZW Senha usada: JF\n",
      "DISCRETEMATHEDJDQLZV Senha usada: JG\n",
      "DHSBRDTDMZTGECJCQKZU Senha usada: JH\n",
      "DGSARCTCMYTFEBJBQJZT Senha usada: JI\n",
      "DFSZRBTBMXTEEAJAQIZS Senha usada: JJ\n",
      "DESYRATAMWTDEZJZQHZR Senha usada: JK\n",
      "DDSXRZTZMVTCEYJYQGZQ Senha usada: JL\n",
      "DCSWRYTYMUTBEXJXQFZP Senha usada: JM\n",
      "DBSVRXTXMTTAEWJWQEZO Senha usada: JN\n",
      "DASURWTWMSTZEVJVQDZN Senha usada: JO\n",
      "DZSTRVTVMRTYEUJUQCZM Senha usada: JP\n",
      "DYSSRUTUMQTXETJTQBZL Senha usada: JQ\n",
      "DXSRRTTTMPTWESJSQAZK Senha usada: JR\n",
      "DWSQRSTSMOTVERJRQZZJ Senha usada: JS\n",
      "DVSPRRTRMNTUEQJQQYZI Senha usada: JT\n",
      "DUSORQTQMMTTEPJPQXZH Senha usada: JU\n",
      "DTSNRPTPMLTSEOJOQWZG Senha usada: JV\n",
      "DSSMROTOMKTRENJNQVZF Senha usada: JW\n",
      "DRSLRNTNMJTQEMJMQUZE Senha usada: JX\n",
      "DQSKRMTMMITPELJLQTZD Senha usada: JY\n",
      "DPSJRLTLMHTOEKJKQSZC Senha usada: JZ\n",
      "CORIQKSKLGSNDJIJPRYB Senha usada: KA\n",
      "CNRHQJSJLFSMDIIIPQYA Senha usada: KB\n",
      "CMRGQISILESLDHIHPPYZ Senha usada: KC\n",
      "CLRFQHSHLDSKDGIGPOYY Senha usada: KD\n",
      "CKREQGSGLCSJDFIFPNYX Senha usada: KE\n",
      "CJRDQFSFLBSIDEIEPMYW Senha usada: KF\n",
      "CIRCQESELASHDDIDPLYV Senha usada: KG\n",
      "CHRBQDSDLZSGDCICPKYU Senha usada: KH\n",
      "CGRAQCSCLYSFDBIBPJYT Senha usada: KI\n",
      "CFRZQBSBLXSEDAIAPIYS Senha usada: KJ\n",
      "CERYQASALWSDDZIZPHYR Senha usada: KK\n",
      "CDRXQZSZLVSCDYIYPGYQ Senha usada: KL\n",
      "CCRWQYSYLUSBDXIXPFYP Senha usada: KM\n",
      "CBRVQXSXLTSADWIWPEYO Senha usada: KN\n",
      "CARUQWSWLSSZDVIVPDYN Senha usada: KO\n",
      "CZRTQVSVLRSYDUIUPCYM Senha usada: KP\n",
      "CYRSQUSULQSXDTITPBYL Senha usada: KQ\n",
      "CXRRQTSTLPSWDSISPAYK Senha usada: KR\n",
      "CWRQQSSSLOSVDRIRPZYJ Senha usada: KS\n",
      "CVRPQRSRLNSUDQIQPYYI Senha usada: KT\n",
      "CUROQQSQLMSTDPIPPXYH Senha usada: KU\n",
      "CTRNQPSPLLSSDOIOPWYG Senha usada: KV\n",
      "CSRMQOSOLKSRDNINPVYF Senha usada: KW\n",
      "CRRLQNSNLJSQDMIMPUYE Senha usada: KX\n",
      "CQRKQMSMLISPDLILPTYD Senha usada: KY\n",
      "CPRJQLSLLHSODKIKPSYC Senha usada: KZ\n",
      "BOQIPKRKKGRNCJHJORXB Senha usada: LA\n",
      "BNQHPJRJKFRMCIHIOQXA Senha usada: LB\n",
      "BMQGPIRIKERLCHHHOPXZ Senha usada: LC\n",
      "BLQFPHRHKDRKCGHGOOXY Senha usada: LD\n",
      "BKQEPGRGKCRJCFHFONXX Senha usada: LE\n",
      "BJQDPFRFKBRICEHEOMXW Senha usada: LF\n",
      "BIQCPEREKARHCDHDOLXV Senha usada: LG\n",
      "BHQBPDRDKZRGCCHCOKXU Senha usada: LH\n",
      "BGQAPCRCKYRFCBHBOJXT Senha usada: LI\n",
      "BFQZPBRBKXRECAHAOIXS Senha usada: LJ\n",
      "BEQYPARAKWRDCZHZOHXR Senha usada: LK\n",
      "BDQXPZRZKVRCCYHYOGXQ Senha usada: LL\n",
      "BCQWPYRYKURBCXHXOFXP Senha usada: LM\n",
      "BBQVPXRXKTRACWHWOEXO Senha usada: LN\n",
      "BAQUPWRWKSRZCVHVODXN Senha usada: LO\n",
      "BZQTPVRVKRRYCUHUOCXM Senha usada: LP\n",
      "BYQSPURUKQRXCTHTOBXL Senha usada: LQ\n",
      "BXQRPTRTKPRWCSHSOAXK Senha usada: LR\n",
      "BWQQPSRSKORVCRHROZXJ Senha usada: LS\n",
      "BVQPPRRRKNRUCQHQOYXI Senha usada: LT\n",
      "BUQOPQRQKMRTCPHPOXXH Senha usada: LU\n",
      "BTQNPPRPKLRSCOHOOWXG Senha usada: LV\n",
      "BSQMPOROKKRRCNHNOVXF Senha usada: LW\n",
      "BRQLPNRNKJRQCMHMOUXE Senha usada: LX\n",
      "BQQKPMRMKIRPCLHLOTXD Senha usada: LY\n",
      "BPQJPLRLKHROCKHKOSXC Senha usada: LZ\n",
      "AOPIOKQKJGQNBJGJNRWB Senha usada: MA\n",
      "ANPHOJQJJFQMBIGINQWA Senha usada: MB\n",
      "AMPGOIQIJEQLBHGHNPWZ Senha usada: MC\n",
      "ALPFOHQHJDQKBGGGNOWY Senha usada: MD\n",
      "AKPEOGQGJCQJBFGFNNWX Senha usada: ME\n",
      "AJPDOFQFJBQIBEGENMWW Senha usada: MF\n",
      "AIPCOEQEJAQHBDGDNLWV Senha usada: MG\n",
      "AHPBODQDJZQGBCGCNKWU Senha usada: MH\n",
      "AGPAOCQCJYQFBBGBNJWT Senha usada: MI\n",
      "AFPZOBQBJXQEBAGANIWS Senha usada: MJ\n",
      "AEPYOAQAJWQDBZGZNHWR Senha usada: MK\n",
      "ADPXOZQZJVQCBYGYNGWQ Senha usada: ML\n",
      "ACPWOYQYJUQBBXGXNFWP Senha usada: MM\n",
      "ABPVOXQXJTQABWGWNEWO Senha usada: MN\n",
      "AAPUOWQWJSQZBVGVNDWN Senha usada: MO\n",
      "AZPTOVQVJRQYBUGUNCWM Senha usada: MP\n",
      "AYPSOUQUJQQXBTGTNBWL Senha usada: MQ\n",
      "AXPROTQTJPQWBSGSNAWK Senha usada: MR\n",
      "AWPQOSQSJOQVBRGRNZWJ Senha usada: MS\n",
      "AVPPORQRJNQUBQGQNYWI Senha usada: MT\n",
      "AUPOOQQQJMQTBPGPNXWH Senha usada: MU\n",
      "ATPNOPQPJLQSBOGONWWG Senha usada: MV\n",
      "ASPMOOQOJKQRBNGNNVWF Senha usada: MW\n",
      "ARPLONQNJJQQBMGMNUWE Senha usada: MX\n",
      "AQPKOMQMJIQPBLGLNTWD Senha usada: MY\n",
      "APPJOLQLJHQOBKGKNSWC Senha usada: MZ\n",
      "ZOOINKPKIGPNAJFJMRVB Senha usada: NA\n",
      "ZNOHNJPJIFPMAIFIMQVA Senha usada: NB\n",
      "ZMOGNIPIIEPLAHFHMPVZ Senha usada: NC\n",
      "ZLOFNHPHIDPKAGFGMOVY Senha usada: ND\n",
      "ZKOENGPGICPJAFFFMNVX Senha usada: NE\n",
      "ZJODNFPFIBPIAEFEMMVW Senha usada: NF\n",
      "ZIOCNEPEIAPHADFDMLVV Senha usada: NG\n",
      "ZHOBNDPDIZPGACFCMKVU Senha usada: NH\n",
      "ZGOANCPCIYPFABFBMJVT Senha usada: NI\n",
      "ZFOZNBPBIXPEAAFAMIVS Senha usada: NJ\n",
      "ZEOYNAPAIWPDAZFZMHVR Senha usada: NK\n",
      "ZDOXNZPZIVPCAYFYMGVQ Senha usada: NL\n",
      "ZCOWNYPYIUPBAXFXMFVP Senha usada: NM\n",
      "ZBOVNXPXITPAAWFWMEVO Senha usada: NN\n",
      "ZAOUNWPWISPZAVFVMDVN Senha usada: NO\n",
      "ZZOTNVPVIRPYAUFUMCVM Senha usada: NP\n",
      "ZYOSNUPUIQPXATFTMBVL Senha usada: NQ\n",
      "ZXORNTPTIPPWASFSMAVK Senha usada: NR\n",
      "ZWOQNSPSIOPVARFRMZVJ Senha usada: NS\n",
      "ZVOPNRPRINPUAQFQMYVI Senha usada: NT\n",
      "ZUOONQPQIMPTAPFPMXVH Senha usada: NU\n",
      "ZTONNPPPILPSAOFOMWVG Senha usada: NV\n",
      "ZSOMNOPOIKPRANFNMVVF Senha usada: NW\n",
      "ZROLNNPNIJPQAMFMMUVE Senha usada: NX\n",
      "ZQOKNMPMIIPPALFLMTVD Senha usada: NY\n",
      "ZPOJNLPLIHPOAKFKMSVC Senha usada: NZ\n",
      "YONIMKOKHGONZJEJLRUB Senha usada: OA\n",
      "YNNHMJOJHFOMZIEILQUA Senha usada: OB\n",
      "YMNGMIOIHEOLZHEHLPUZ Senha usada: OC\n",
      "YLNFMHOHHDOKZGEGLOUY Senha usada: OD\n",
      "YKNEMGOGHCOJZFEFLNUX Senha usada: OE\n",
      "YJNDMFOFHBOIZEEELMUW Senha usada: OF\n",
      "YINCMEOEHAOHZDEDLLUV Senha usada: OG\n",
      "YHNBMDODHZOGZCECLKUU Senha usada: OH\n",
      "YGNAMCOCHYOFZBEBLJUT Senha usada: OI\n",
      "YFNZMBOBHXOEZAEALIUS Senha usada: OJ\n",
      "YENYMAOAHWODZZEZLHUR Senha usada: OK\n",
      "YDNXMZOZHVOCZYEYLGUQ Senha usada: OL\n",
      "YCNWMYOYHUOBZXEXLFUP Senha usada: OM\n",
      "YBNVMXOXHTOAZWEWLEUO Senha usada: ON\n",
      "YANUMWOWHSOZZVEVLDUN Senha usada: OO\n",
      "YZNTMVOVHROYZUEULCUM Senha usada: OP\n",
      "YYNSMUOUHQOXZTETLBUL Senha usada: OQ\n",
      "YXNRMTOTHPOWZSESLAUK Senha usada: OR\n",
      "YWNQMSOSHOOVZRERLZUJ Senha usada: OS\n",
      "YVNPMRORHNOUZQEQLYUI Senha usada: OT\n",
      "YUNOMQOQHMOTZPEPLXUH Senha usada: OU\n",
      "YTNNMPOPHLOSZOEOLWUG Senha usada: OV\n",
      "YSNMMOOOHKORZNENLVUF Senha usada: OW\n",
      "YRNLMNONHJOQZMEMLUUE Senha usada: OX\n",
      "YQNKMMOMHIOPZLELLTUD Senha usada: OY\n",
      "YPNJMLOLHHOOZKEKLSUC Senha usada: OZ\n",
      "XOMILKNKGGNNYJDJKRTB Senha usada: PA\n",
      "XNMHLJNJGFNMYIDIKQTA Senha usada: PB\n",
      "XMMGLINIGENLYHDHKPTZ Senha usada: PC\n",
      "XLMFLHNHGDNKYGDGKOTY Senha usada: PD\n",
      "XKMELGNGGCNJYFDFKNTX Senha usada: PE\n",
      "XJMDLFNFGBNIYEDEKMTW Senha usada: PF\n",
      "XIMCLENEGANHYDDDKLTV Senha usada: PG\n",
      "XHMBLDNDGZNGYCDCKKTU Senha usada: PH\n",
      "XGMALCNCGYNFYBDBKJTT Senha usada: PI\n",
      "XFMZLBNBGXNEYADAKITS Senha usada: PJ\n",
      "XEMYLANAGWNDYZDZKHTR Senha usada: PK\n",
      "XDMXLZNZGVNCYYDYKGTQ Senha usada: PL\n",
      "XCMWLYNYGUNBYXDXKFTP Senha usada: PM\n",
      "XBMVLXNXGTNAYWDWKETO Senha usada: PN\n",
      "XAMULWNWGSNZYVDVKDTN Senha usada: PO\n",
      "XZMTLVNVGRNYYUDUKCTM Senha usada: PP\n",
      "XYMSLUNUGQNXYTDTKBTL Senha usada: PQ\n",
      "XXMRLTNTGPNWYSDSKATK Senha usada: PR\n",
      "XWMQLSNSGONVYRDRKZTJ Senha usada: PS\n",
      "XVMPLRNRGNNUYQDQKYTI Senha usada: PT\n",
      "XUMOLQNQGMNTYPDPKXTH Senha usada: PU\n",
      "XTMNLPNPGLNSYODOKWTG Senha usada: PV\n",
      "XSMMLONOGKNRYNDNKVTF Senha usada: PW\n",
      "XRMLLNNNGJNQYMDMKUTE Senha usada: PX\n",
      "XQMKLMNMGINPYLDLKTTD Senha usada: PY\n",
      "XPMJLLNLGHNOYKDKKSTC Senha usada: PZ\n",
      "WOLIKKMKFGMNXJCJJRSB Senha usada: QA\n",
      "WNLHKJMJFFMMXICIJQSA Senha usada: QB\n",
      "WMLGKIMIFEMLXHCHJPSZ Senha usada: QC\n",
      "WLLFKHMHFDMKXGCGJOSY Senha usada: QD\n",
      "WKLEKGMGFCMJXFCFJNSX Senha usada: QE\n",
      "WJLDKFMFFBMIXECEJMSW Senha usada: QF\n",
      "WILCKEMEFAMHXDCDJLSV Senha usada: QG\n",
      "WHLBKDMDFZMGXCCCJKSU Senha usada: QH\n",
      "WGLAKCMCFYMFXBCBJJST Senha usada: QI\n",
      "WFLZKBMBFXMEXACAJISS Senha usada: QJ\n",
      "WELYKAMAFWMDXZCZJHSR Senha usada: QK\n",
      "WDLXKZMZFVMCXYCYJGSQ Senha usada: QL\n",
      "WCLWKYMYFUMBXXCXJFSP Senha usada: QM\n",
      "WBLVKXMXFTMAXWCWJESO Senha usada: QN\n",
      "WALUKWMWFSMZXVCVJDSN Senha usada: QO\n",
      "WZLTKVMVFRMYXUCUJCSM Senha usada: QP\n",
      "WYLSKUMUFQMXXTCTJBSL Senha usada: QQ\n",
      "WXLRKTMTFPMWXSCSJASK Senha usada: QR\n",
      "WWLQKSMSFOMVXRCRJZSJ Senha usada: QS\n",
      "WVLPKRMRFNMUXQCQJYSI Senha usada: QT\n",
      "WULOKQMQFMMTXPCPJXSH Senha usada: QU\n",
      "WTLNKPMPFLMSXOCOJWSG Senha usada: QV\n",
      "WSLMKOMOFKMRXNCNJVSF Senha usada: QW\n",
      "WRLLKNMNFJMQXMCMJUSE Senha usada: QX\n",
      "WQLKKMMMFIMPXLCLJTSD Senha usada: QY\n",
      "WPLJKLMLFHMOXKCKJSSC Senha usada: QZ\n",
      "VOKIJKLKEGLNWJBJIRRB Senha usada: RA\n",
      "VNKHJJLJEFLMWIBIIQRA Senha usada: RB\n",
      "VMKGJILIEELLWHBHIPRZ Senha usada: RC\n",
      "VLKFJHLHEDLKWGBGIORY Senha usada: RD\n",
      "VKKEJGLGECLJWFBFINRX Senha usada: RE\n",
      "VJKDJFLFEBLIWEBEIMRW Senha usada: RF\n",
      "VIKCJELEEALHWDBDILRV Senha usada: RG\n",
      "VHKBJDLDEZLGWCBCIKRU Senha usada: RH\n",
      "VGKAJCLCEYLFWBBBIJRT Senha usada: RI\n",
      "VFKZJBLBEXLEWABAIIRS Senha usada: RJ\n",
      "VEKYJALAEWLDWZBZIHRR Senha usada: RK\n",
      "VDKXJZLZEVLCWYBYIGRQ Senha usada: RL\n",
      "VCKWJYLYEULBWXBXIFRP Senha usada: RM\n",
      "VBKVJXLXETLAWWBWIERO Senha usada: RN\n",
      "VAKUJWLWESLZWVBVIDRN Senha usada: RO\n",
      "VZKTJVLVERLYWUBUICRM Senha usada: RP\n",
      "VYKSJULUEQLXWTBTIBRL Senha usada: RQ\n",
      "VXKRJTLTEPLWWSBSIARK Senha usada: RR\n",
      "VWKQJSLSEOLVWRBRIZRJ Senha usada: RS\n",
      "VVKPJRLRENLUWQBQIYRI Senha usada: RT\n",
      "VUKOJQLQEMLTWPBPIXRH Senha usada: RU\n",
      "VTKNJPLPELLSWOBOIWRG Senha usada: RV\n",
      "VSKMJOLOEKLRWNBNIVRF Senha usada: RW\n",
      "VRKLJNLNEJLQWMBMIURE Senha usada: RX\n",
      "VQKKJMLMEILPWLBLITRD Senha usada: RY\n",
      "VPKJJLLLEHLOWKBKISRC Senha usada: RZ\n",
      "UOJIIKKKDGKNVJAJHRQB Senha usada: SA\n",
      "UNJHIJKJDFKMVIAIHQQA Senha usada: SB\n",
      "UMJGIIKIDEKLVHAHHPQZ Senha usada: SC\n",
      "ULJFIHKHDDKKVGAGHOQY Senha usada: SD\n",
      "UKJEIGKGDCKJVFAFHNQX Senha usada: SE\n",
      "UJJDIFKFDBKIVEAEHMQW Senha usada: SF\n",
      "UIJCIEKEDAKHVDADHLQV Senha usada: SG\n",
      "UHJBIDKDDZKGVCACHKQU Senha usada: SH\n",
      "UGJAICKCDYKFVBABHJQT Senha usada: SI\n",
      "UFJZIBKBDXKEVAAAHIQS Senha usada: SJ\n",
      "UEJYIAKADWKDVZAZHHQR Senha usada: SK\n",
      "UDJXIZKZDVKCVYAYHGQQ Senha usada: SL\n",
      "UCJWIYKYDUKBVXAXHFQP Senha usada: SM\n",
      "UBJVIXKXDTKAVWAWHEQO Senha usada: SN\n",
      "UAJUIWKWDSKZVVAVHDQN Senha usada: SO\n",
      "UZJTIVKVDRKYVUAUHCQM Senha usada: SP\n",
      "UYJSIUKUDQKXVTATHBQL Senha usada: SQ\n",
      "UXJRITKTDPKWVSASHAQK Senha usada: SR\n",
      "UWJQISKSDOKVVRARHZQJ Senha usada: SS\n",
      "UVJPIRKRDNKUVQAQHYQI Senha usada: ST\n",
      "UUJOIQKQDMKTVPAPHXQH Senha usada: SU\n",
      "UTJNIPKPDLKSVOAOHWQG Senha usada: SV\n",
      "USJMIOKODKKRVNANHVQF Senha usada: SW\n",
      "URJLINKNDJKQVMAMHUQE Senha usada: SX\n",
      "UQJKIMKMDIKPVLALHTQD Senha usada: SY\n",
      "UPJJILKLDHKOVKAKHSQC Senha usada: SZ\n",
      "TOIIHKJKCGJNUJZJGRPB Senha usada: TA\n",
      "TNIHHJJJCFJMUIZIGQPA Senha usada: TB\n",
      "TMIGHIJICEJLUHZHGPPZ Senha usada: TC\n",
      "TLIFHHJHCDJKUGZGGOPY Senha usada: TD\n",
      "TKIEHGJGCCJJUFZFGNPX Senha usada: TE\n",
      "TJIDHFJFCBJIUEZEGMPW Senha usada: TF\n",
      "TIICHEJECAJHUDZDGLPV Senha usada: TG\n",
      "THIBHDJDCZJGUCZCGKPU Senha usada: TH\n",
      "TGIAHCJCCYJFUBZBGJPT Senha usada: TI\n",
      "TFIZHBJBCXJEUAZAGIPS Senha usada: TJ\n",
      "TEIYHAJACWJDUZZZGHPR Senha usada: TK\n",
      "TDIXHZJZCVJCUYZYGGPQ Senha usada: TL\n",
      "TCIWHYJYCUJBUXZXGFPP Senha usada: TM\n",
      "TBIVHXJXCTJAUWZWGEPO Senha usada: TN\n",
      "TAIUHWJWCSJZUVZVGDPN Senha usada: TO\n",
      "TZITHVJVCRJYUUZUGCPM Senha usada: TP\n",
      "TYISHUJUCQJXUTZTGBPL Senha usada: TQ\n",
      "TXIRHTJTCPJWUSZSGAPK Senha usada: TR\n",
      "TWIQHSJSCOJVURZRGZPJ Senha usada: TS\n",
      "TVIPHRJRCNJUUQZQGYPI Senha usada: TT\n",
      "TUIOHQJQCMJTUPZPGXPH Senha usada: TU\n",
      "TTINHPJPCLJSUOZOGWPG Senha usada: TV\n",
      "TSIMHOJOCKJRUNZNGVPF Senha usada: TW\n",
      "TRILHNJNCJJQUMZMGUPE Senha usada: TX\n",
      "TQIKHMJMCIJPULZLGTPD Senha usada: TY\n",
      "TPIJHLJLCHJOUKZKGSPC Senha usada: TZ\n",
      "SOHIGKIKBGINTJYJFROB Senha usada: UA\n",
      "SNHHGJIJBFIMTIYIFQOA Senha usada: UB\n",
      "SMHGGIIIBEILTHYHFPOZ Senha usada: UC\n",
      "SLHFGHIHBDIKTGYGFOOY Senha usada: UD\n",
      "SKHEGGIGBCIJTFYFFNOX Senha usada: UE\n",
      "SJHDGFIFBBIITEYEFMOW Senha usada: UF\n",
      "SIHCGEIEBAIHTDYDFLOV Senha usada: UG\n",
      "SHHBGDIDBZIGTCYCFKOU Senha usada: UH\n",
      "SGHAGCICBYIFTBYBFJOT Senha usada: UI\n",
      "SFHZGBIBBXIETAYAFIOS Senha usada: UJ\n",
      "SEHYGAIABWIDTZYZFHOR Senha usada: UK\n",
      "SDHXGZIZBVICTYYYFGOQ Senha usada: UL\n",
      "SCHWGYIYBUIBTXYXFFOP Senha usada: UM\n",
      "SBHVGXIXBTIATWYWFEOO Senha usada: UN\n",
      "SAHUGWIWBSIZTVYVFDON Senha usada: UO\n",
      "SZHTGVIVBRIYTUYUFCOM Senha usada: UP\n",
      "SYHSGUIUBQIXTTYTFBOL Senha usada: UQ\n",
      "SXHRGTITBPIWTSYSFAOK Senha usada: UR\n",
      "SWHQGSISBOIVTRYRFZOJ Senha usada: US\n",
      "SVHPGRIRBNIUTQYQFYOI Senha usada: UT\n",
      "SUHOGQIQBMITTPYPFXOH Senha usada: UU\n",
      "STHNGPIPBLISTOYOFWOG Senha usada: UV\n",
      "SSHMGOIOBKIRTNYNFVOF Senha usada: UW\n",
      "SRHLGNINBJIQTMYMFUOE Senha usada: UX\n",
      "SQHKGMIMBIIPTLYLFTOD Senha usada: UY\n",
      "SPHJGLILBHIOTKYKFSOC Senha usada: UZ\n",
      "ROGIFKHKAGHNSJXJERNB Senha usada: VA\n",
      "RNGHFJHJAFHMSIXIEQNA Senha usada: VB\n",
      "RMGGFIHIAEHLSHXHEPNZ Senha usada: VC\n",
      "RLGFFHHHADHKSGXGEONY Senha usada: VD\n",
      "RKGEFGHGACHJSFXFENNX Senha usada: VE\n",
      "RJGDFFHFABHISEXEEMNW Senha usada: VF\n",
      "RIGCFEHEAAHHSDXDELNV Senha usada: VG\n",
      "RHGBFDHDAZHGSCXCEKNU Senha usada: VH\n",
      "RGGAFCHCAYHFSBXBEJNT Senha usada: VI\n",
      "RFGZFBHBAXHESAXAEINS Senha usada: VJ\n",
      "REGYFAHAAWHDSZXZEHNR Senha usada: VK\n",
      "RDGXFZHZAVHCSYXYEGNQ Senha usada: VL\n",
      "RCGWFYHYAUHBSXXXEFNP Senha usada: VM\n",
      "RBGVFXHXATHASWXWEENO Senha usada: VN\n",
      "RAGUFWHWASHZSVXVEDNN Senha usada: VO\n",
      "RZGTFVHVARHYSUXUECNM Senha usada: VP\n",
      "RYGSFUHUAQHXSTXTEBNL Senha usada: VQ\n",
      "RXGRFTHTAPHWSSXSEANK Senha usada: VR\n",
      "RWGQFSHSAOHVSRXREZNJ Senha usada: VS\n",
      "RVGPFRHRANHUSQXQEYNI Senha usada: VT\n",
      "RUGOFQHQAMHTSPXPEXNH Senha usada: VU\n",
      "RTGNFPHPALHSSOXOEWNG Senha usada: VV\n",
      "RSGMFOHOAKHRSNXNEVNF Senha usada: VW\n",
      "RRGLFNHNAJHQSMXMEUNE Senha usada: VX\n",
      "RQGKFMHMAIHPSLXLETND Senha usada: VY\n",
      "RPGJFLHLAHHOSKXKESNC Senha usada: VZ\n",
      "QOFIEKGKZGGNRJWJDRMB Senha usada: WA\n",
      "QNFHEJGJZFGMRIWIDQMA Senha usada: WB\n",
      "QMFGEIGIZEGLRHWHDPMZ Senha usada: WC\n",
      "QLFFEHGHZDGKRGWGDOMY Senha usada: WD\n",
      "QKFEEGGGZCGJRFWFDNMX Senha usada: WE\n",
      "QJFDEFGFZBGIREWEDMMW Senha usada: WF\n",
      "QIFCEEGEZAGHRDWDDLMV Senha usada: WG\n",
      "QHFBEDGDZZGGRCWCDKMU Senha usada: WH\n",
      "QGFAECGCZYGFRBWBDJMT Senha usada: WI\n",
      "QFFZEBGBZXGERAWADIMS Senha usada: WJ\n",
      "QEFYEAGAZWGDRZWZDHMR Senha usada: WK\n",
      "QDFXEZGZZVGCRYWYDGMQ Senha usada: WL\n",
      "QCFWEYGYZUGBRXWXDFMP Senha usada: WM\n",
      "QBFVEXGXZTGARWWWDEMO Senha usada: WN\n",
      "QAFUEWGWZSGZRVWVDDMN Senha usada: WO\n",
      "QZFTEVGVZRGYRUWUDCMM Senha usada: WP\n",
      "QYFSEUGUZQGXRTWTDBML Senha usada: WQ\n",
      "QXFRETGTZPGWRSWSDAMK Senha usada: WR\n",
      "QWFQESGSZOGVRRWRDZMJ Senha usada: WS\n",
      "QVFPERGRZNGURQWQDYMI Senha usada: WT\n",
      "QUFOEQGQZMGTRPWPDXMH Senha usada: WU\n",
      "QTFNEPGPZLGSROWODWMG Senha usada: WV\n",
      "QSFMEOGOZKGRRNWNDVMF Senha usada: WW\n",
      "QRFLENGNZJGQRMWMDUME Senha usada: WX\n",
      "QQFKEMGMZIGPRLWLDTMD Senha usada: WY\n",
      "QPFJELGLZHGORKWKDSMC Senha usada: WZ\n",
      "POEIDKFKYGFNQJVJCRLB Senha usada: XA\n",
      "PNEHDJFJYFFMQIVICQLA Senha usada: XB\n",
      "PMEGDIFIYEFLQHVHCPLZ Senha usada: XC\n",
      "PLEFDHFHYDFKQGVGCOLY Senha usada: XD\n",
      "PKEEDGFGYCFJQFVFCNLX Senha usada: XE\n",
      "PJEDDFFFYBFIQEVECMLW Senha usada: XF\n",
      "PIECDEFEYAFHQDVDCLLV Senha usada: XG\n",
      "PHEBDDFDYZFGQCVCCKLU Senha usada: XH\n",
      "PGEADCFCYYFFQBVBCJLT Senha usada: XI\n",
      "PFEZDBFBYXFEQAVACILS Senha usada: XJ\n",
      "PEEYDAFAYWFDQZVZCHLR Senha usada: XK\n",
      "PDEXDZFZYVFCQYVYCGLQ Senha usada: XL\n",
      "PCEWDYFYYUFBQXVXCFLP Senha usada: XM\n",
      "PBEVDXFXYTFAQWVWCELO Senha usada: XN\n",
      "PAEUDWFWYSFZQVVVCDLN Senha usada: XO\n",
      "PZETDVFVYRFYQUVUCCLM Senha usada: XP\n",
      "PYESDUFUYQFXQTVTCBLL Senha usada: XQ\n",
      "PXERDTFTYPFWQSVSCALK Senha usada: XR\n",
      "PWEQDSFSYOFVQRVRCZLJ Senha usada: XS\n",
      "PVEPDRFRYNFUQQVQCYLI Senha usada: XT\n",
      "PUEODQFQYMFTQPVPCXLH Senha usada: XU\n",
      "PTENDPFPYLFSQOVOCWLG Senha usada: XV\n",
      "PSEMDOFOYKFRQNVNCVLF Senha usada: XW\n",
      "PRELDNFNYJFQQMVMCULE Senha usada: XX\n",
      "PQEKDMFMYIFPQLVLCTLD Senha usada: XY\n",
      "PPEJDLFLYHFOQKVKCSLC Senha usada: XZ\n",
      "OODICKEKXGENPJUJBRKB Senha usada: YA\n",
      "ONDHCJEJXFEMPIUIBQKA Senha usada: YB\n",
      "OMDGCIEIXEELPHUHBPKZ Senha usada: YC\n",
      "OLDFCHEHXDEKPGUGBOKY Senha usada: YD\n",
      "OKDECGEGXCEJPFUFBNKX Senha usada: YE\n",
      "OJDDCFEFXBEIPEUEBMKW Senha usada: YF\n",
      "OIDCCEEEXAEHPDUDBLKV Senha usada: YG\n",
      "OHDBCDEDXZEGPCUCBKKU Senha usada: YH\n",
      "OGDACCECXYEFPBUBBJKT Senha usada: YI\n",
      "OFDZCBEBXXEEPAUABIKS Senha usada: YJ\n",
      "OEDYCAEAXWEDPZUZBHKR Senha usada: YK\n",
      "ODDXCZEZXVECPYUYBGKQ Senha usada: YL\n",
      "OCDWCYEYXUEBPXUXBFKP Senha usada: YM\n",
      "OBDVCXEXXTEAPWUWBEKO Senha usada: YN\n",
      "OADUCWEWXSEZPVUVBDKN Senha usada: YO\n",
      "OZDTCVEVXREYPUUUBCKM Senha usada: YP\n",
      "OYDSCUEUXQEXPTUTBBKL Senha usada: YQ\n",
      "OXDRCTETXPEWPSUSBAKK Senha usada: YR\n",
      "OWDQCSESXOEVPRURBZKJ Senha usada: YS\n",
      "OVDPCRERXNEUPQUQBYKI Senha usada: YT\n",
      "OUDOCQEQXMETPPUPBXKH Senha usada: YU\n",
      "OTDNCPEPXLESPOUOBWKG Senha usada: YV\n",
      "OSDMCOEOXKERPNUNBVKF Senha usada: YW\n",
      "ORDLCNENXJEQPMUMBUKE Senha usada: YX\n",
      "OQDKCMEMXIEPPLULBTKD Senha usada: YY\n",
      "OPDJCLELXHEOPKUKBSKC Senha usada: YZ\n",
      "NOCIBKDKWGDNOJTJARJB Senha usada: ZA\n",
      "NNCHBJDJWFDMOITIAQJA Senha usada: ZB\n",
      "NMCGBIDIWEDLOHTHAPJZ Senha usada: ZC\n",
      "NLCFBHDHWDDKOGTGAOJY Senha usada: ZD\n",
      "NKCEBGDGWCDJOFTFANJX Senha usada: ZE\n",
      "NJCDBFDFWBDIOETEAMJW Senha usada: ZF\n",
      "NICCBEDEWADHODTDALJV Senha usada: ZG\n",
      "NHCBBDDDWZDGOCTCAKJU Senha usada: ZH\n",
      "NGCABCDCWYDFOBTBAJJT Senha usada: ZI\n",
      "NFCZBBDBWXDEOATAAIJS Senha usada: ZJ\n",
      "NECYBADAWWDDOZTZAHJR Senha usada: ZK\n",
      "NDCXBZDZWVDCOYTYAGJQ Senha usada: ZL\n",
      "NCCWBYDYWUDBOXTXAFJP Senha usada: ZM\n",
      "NBCVBXDXWTDAOWTWAEJO Senha usada: ZN\n",
      "NACUBWDWWSDZOVTVADJN Senha usada: ZO\n",
      "NZCTBVDVWRDYOUTUACJM Senha usada: ZP\n",
      "NYCSBUDUWQDXOTTTABJL Senha usada: ZQ\n",
      "NXCRBTDTWPDWOSTSAAJK Senha usada: ZR\n",
      "NWCQBSDSWODVORTRAZJJ Senha usada: ZS\n",
      "NVCPBRDRWNDUOQTQAYJI Senha usada: ZT\n",
      "NUCOBQDQWMDTOPTPAXJH Senha usada: ZU\n",
      "NTCNBPDPWLDSOOTOAWJG Senha usada: ZV\n",
      "NSCMBODOWKDRONTNAVJF Senha usada: ZW\n",
      "NRCLBNDNWJDQOMTMAUJE Senha usada: ZX\n",
      "NQCKBMDMWIDPOLTLATJD Senha usada: ZY\n",
      "NPCJBLDLWHDOOKTKASJC Senha usada: ZZ\n"
     ]
    }
   ],
   "source": [
    "for a in range(0,26):\n",
    "    for b in range(0,26):\n",
    "        aux = str()\n",
    "        aux += numero_para_letra_v2(a)\n",
    "        aux += numero_para_letra_v2(b)\n",
    "        print(descriptografia_vigenere(\"MOBIAKCKVGCNNJSJZRIB\",aux), \"Senha usada:\", aux)"
   ]
  },
  {
   "cell_type": "markdown",
   "id": "422417ac-4a95-4f03-b01e-f92bb7f41845",
   "metadata": {},
   "source": [
    "**Podemos perceber que a senha \"JG\" resulta em uma palavra em inglês:**"
   ]
  },
  {
   "cell_type": "code",
   "execution_count": 51,
   "id": "f4995ecc-aaa7-4f0f-b69d-b12581d50c7d",
   "metadata": {},
   "outputs": [
    {
     "name": "stdout",
     "output_type": "stream",
     "text": [
      "DISCRETEMATHEDJDQLZV Senha usada: JG\n"
     ]
    }
   ],
   "source": [
    "print(descriptografia_vigenere(\"MOBIAKCKVGCNNJSJZRIB\",\"JG\"), \"Senha usada:\", \"JG\")"
   ]
  },
  {
   "cell_type": "markdown",
   "id": "4b02a572-8e6e-4fde-9f89-3ec5f809692c",
   "metadata": {},
   "source": [
    "**Principais Conclusões**\n",
    "- Vigenère usa **aritmética modular** ($\\mathbb{Z}_{26}$) para generalizar deslocamentos.\n",
    "- A segurança depende do **comprimento da chave** e da **aleatoriedade**.\n",
    "- O grupo aditivo $\\mathbb{Z}_n$ é fundamental para cifras clássicas."
   ]
  },
  {
   "cell_type": "markdown",
   "id": "4a81f098-22bc-440c-afee-023044b0ae34",
   "metadata": {},
   "source": [
    "### Como fica no mundo digital, dos bits 0 e 1"
   ]
  },
  {
   "cell_type": "markdown",
   "id": "b8085e38-8ac6-4c4c-b2bb-f4061b826393",
   "metadata": {},
   "source": [
    "**<span style=\"color: red;\">[3.4] Produza uma tabela para todas as quatro adições possíveis módulo 2. Compare-a com uma tabela da operação ou-exclusivo (xor). O que você vê?</span>**\n"
   ]
  },
  {
   "cell_type": "markdown",
   "id": "abd9b949-e506-4636-b31f-dec1b6524302",
   "metadata": {},
   "source": [
    "$$\n",
    "\\begin{array}{c|cc}\n",
    "+&0&1\\\\ \\hline\n",
    "0&0&1 \\\\\n",
    "1&1&0\\\\\n",
    "\\end{array}\n",
    "$$\n",
    "\n",
    "\n",
    "$$\n",
    "\\begin{array}{c|cc}\n",
    "\\oplus&0&1\\\\ \\hline\n",
    "0&0&1 \\\\\n",
    "1&1&0 \\\\\n",
    "\\end{array}\n",
    "$$\n",
    "\n",
    "**Pode-se notar que as tabelas são equivalentes**"
   ]
  },
  {
   "cell_type": "markdown",
   "id": "49e717ee-67bc-4ac7-b200-7d46028da9f2",
   "metadata": {},
   "source": [
    "# Produto direto de grupos aditivos\n",
    "\n",
    "**Definição** Sejam $G_1$ e $G_2$ dois grupos. Então, o produto direto $G$ tem\n",
    "\n",
    "- defina $$G_1 \\times G_2 = \\{(g_1,g_2)|g_1 \\in G_1 \\wedge g_2 \\in G_2\\}$$;\n",
    "\n",
    "- operação $(g_1,g_2) \\cdot (h_1,h_2) := (g_1 h_1, g_2 h_2)$\n",
    "\n",
    "**Exemplo**\n",
    "\n",
    "$\\mathbb{Z}_3 \\times \\mathbb{Z}_5 = \\{(g,h) \\mid 0 \\leq g < 3 \\wedge 0 \\leq h < 5 \\}$\n",
    "\n",
    "$(2,4)+(0,3)=(2+0\\!\\pmod 3, 4+3 \\!\\pmod 5)=(2,2)$\n",
    "\n",
    "Na verdade, $\\mathbb{Z}_3 \\times \\mathbb{Z}_5$ é equivalente (exceto pela notação) a $\\mathbb{Z}_{15}$:\n",
    "$$\n",
    "\\mathbb{Z}_3 \\times \\mathbb{Z}_5 = \\mathbb{Z}_{15}\n",
    "$$\n",
    "\n",
    "$$\n",
    "\\begin{array}{c|ccccc}\n",
    "&0&1&2&3&4\\\\ \\hline\n",
    "0&0=(0,0)&6=(0,1)&12=(0,2)&3=(0,3)&9=(0,4) \\\\\n",
    "1&10=(1,0)&1=(1,1)&7=(1,2)&13=(1,3)&4=(1,4) \\\\\n",
    "2&5=(2,0)&11=(2,1)&2=(2,2)&8=(2,3)&14=(2,4) \\\\\n",
    "\\end{array}\n",
    "$$\n"
   ]
  },
  {
   "cell_type": "markdown",
   "id": "190d3a99-1df1-43f5-8ae9-b007bf8ba0bf",
   "metadata": {},
   "source": [
    "**<span style=\"color: red;\">[3.5] Produza uma tabela semelhante para n = 35</span>**\n"
   ]
  },
  {
   "cell_type": "markdown",
   "id": "ab8d7d5d-6e92-44dd-a8ef-08528ca6c0c3",
   "metadata": {},
   "source": [
    "**Precisamos de uma tabela para n = 35, e para fazer isso, basta multiplicar $\\mathbb{Z}_5 \\times \\mathbb{Z}_7$, posto que ambos são coprimos e, se multiplicados, são igual a 35.**\n",
    "\n",
    "$$\n",
    "\\begin{array}{c|ccccc}\n",
    "&0&1&2&3&4&5&6\\\\ \\hline\n",
    "0&0=(0,0)&15=(0,1)&30=(0,2)&10=(0,3)&25=(0,4)&5=(0,5)&20=(0,6) \\\\\n",
    "1&21=(1,0)&1=(1,1)&16=(1,2)&31=(1,3)&11=(1,4)&26=(1,5)&6=(1,6) \\\\\n",
    "2&7=(2,0)&22=(2,1)&2=(2,2)&17=(2,3)&32=(2,4)&12=(2,5)&27=(2,6) \\\\\n",
    "3&28=(3,0)&8=(3,1)&23=(3,2)&3=(3,3)&18=(3,4)&33=(3,5)&13=(3,6) \\\\\n",
    "4&14=(4,0)&29=(4,1)&9=(4,2)&24=(4,3)&4=(4,4)&19=(4,5)&34=(4,6) \\\\\n",
    "\\end{array}\n",
    "$$"
   ]
  },
  {
   "cell_type": "markdown",
   "id": "9df26319-725a-4623-91e9-266a390bf9e2",
   "metadata": {},
   "source": [
    "# Outro exemplo: 11 x 13 = 143\n",
    "\n",
    "![Captura de tela 2021-07-01 140847](.\\Screenshot 2021-07-01 140847.png)\n",
    "\n",
    "Vimos que $\\mathbb{Z}_{143}^+ \\cong \\mathbb{Z}_{11}^+ \\times \\mathbb{Z}_{13}^+$. Isso pode ser generalizado:\n",
    "\n",
    "**Teorema** Sejam $n$ e $m$ coprimos. Então\n",
    "$$\n",
    "\\mathbb{Z}_{nm}^+ \\cong \\mathbb{Z}_n^+ \\times \\mathbb{Z}_m^+\n",
    "$$\n",
    "significando que ambos os grupos são isomorfos. Ou seja, os grupos são idênticos, exceto pela notação usada nos elementos.\n",
    "\n",
    "Outra maneira de afirmar isso é por meio do teorema chinês do resto.\n",
    "\n",
    "# Teorema Chinês do Resto\n",
    "\n",
    "**Intuição** Suponha que se saiba que $a \\equiv 3 \\!\\pmod {11}$ e $a \\equiv 5 \\!\\pmod {13}$. Existe apenas um valor $\\pmod {143}$ que satisfaz ambas as equações. A tabela acima mostra que esse valor é $135$.\n",
    "\n",
    "Esta afirmação pode ser generalizada.\n",
    "\n",
    "### **Teorema Chinês do Resto (TCR)**\n",
    "O Teorema Chinês do Resto afirma que, para um sistema de módulos **coprimos em pares** $n_1, n_2, \\dots, n_k$ e números inteiros dados $a_1, a_2, \\dots, a_k$, existe uma **solução única** $x$ módulo $N = n_1 \\cdot n_2 \\cdots n_k$ para o sistema de congruências:\n",
    "\n",
    "$$\n",
    "\\begin{cases}\n",
    "x \\equiv a_1 \\mod n_1 \\\\\n",
    "x \\equiv a_2 \\mod n_2 \\\\\n",
    "\\vdots \\\\\n",
    "x \\equiv a_k \\mod n_k\n",
    "\\end{cases}\n",
    "$$\n",
    "\n",
    "Além disso, se $x$ é uma solução, então toda solução é congruente a $x \\mod N$.\n",
    "\n",
    "---\n",
    "\n",
    "### **Problema de Exemplo**\n",
    "Encontre um inteiro $x$ tal que:\n",
    "$$\n",
    "\\begin{cases}\n",
    "x \\equiv 2 \\mod 3 \\\\\n",
    "x \\equiv 3 \\mod 5 \\\\\n",
    "x \\equiv 2 \\mod 7\n",
    "\\end{cases}\n",
    "$$\n",
    "\n",
    "#### **Solução Passo a Passo**"
   ]
  },
  {
   "cell_type": "markdown",
   "id": "e6c34ca5-1253-463f-b440-e9eab5d3b19f",
   "metadata": {},
   "source": [
    "\n",
    "1. **Verifique se os módulos são primos entre si**:\n",
    "$mdc(3,5) = 1$, $mdc(3,7) = 1$, $mdc(5,7) = 1$.\n",
    "→ O TCR se aplica, pois todos os módulos são primos entre si.\n",
    "\n",
    "2. **Calcule $N = 3 \\times 5 \\times 7 = 105$**.\n",
    "\n",
    "3. **Encontre soluções parciais**:\n",
    "- Para $x \\equiv 2 \\mod 3$:\n",
    "- Seja $x = 5 \\times 7 \\times k_1 = 35k_1$.\n",
    "- Use tentativa e erro para encontrar um múltiplo de 35 que seja $2 \\mod 3$. Ou seja, encontre $k_1 \\in \\{1,2\\}$ tal que $35k_1 \\equiv 2 \\mod 3$.\n",
    "- $k_1 = 1$ está correto, já que $35 k_1 \\equiv 25 \\equiv 2 \\mod3$\n",
    "- A solução parcial é $x_1 = 35 \\times 1 = 35$.\n",
    "- Observe que $35 = (2,0,0) \\mod {(3,5,7)}$\n",
    "\n",
    "- Para $x \\equiv 3 \\mod 5$:\n",
    "- Seja $x = 3 \\times 7 \\times k_2 = 21k_2$.\n",
    "- Use tentativa e erro para encontrar um múltiplo de 21 que seja $3 \\mod 5$. Ou seja, encontre $k_2 \\in \\{1,2,3,4\\}$ tal que $21k_2 \\equiv 3 \\mod 5$.\n",
    "- $k_2 = 3$ é aceitável, já que $21 k_2 = 21 \\cdot 3 = 63 \\equiv 3 \\mod 5$\n",
    "- A solução parcial é $x_2 = 21 \\times 3 = 63$.\n",
    "\n",
    "- Observe que $63 = (0,3,0) \\mod {(3,5,7)}$\n",
    "\n",
    "- Para $x \\equiv 2 \\mod 7$:\n",
    "- Seja $x = 3 \\times 5 \\times k_3 = 15k_3$.\n",
    "- Encontre um múltiplo de 15 que seja $2 \\mod 7$.\n",
    "- Resolva $15k_3 \\equiv 2 \\mod 7$.\n",
    "- Como $15 \\equiv 1 \\mod 7$, temos $k_3 \\equiv 2 \\mod 7$.\n",
    "- Portanto, $k_3 = 2 + 7m$, e a solução parcial é $x_3 = 15 \\times 2 = 30$.\n",
    "- Observe que $30 = (0,0,2) \\mod {(3,5,7)}$\n",
    "\n",
    "4. **Combine as soluções parciais**:\n",
    "A solução geral é:\n",
    "$$\n",
    "x \\equiv x_1 + x_2 + x_3 \\mod 105\n",
    "$$\n",
    "$$\n",
    "x=(2,0,0)+(0,3,0)+(0,0,2) \\mod {(3,5,7)}\n",
    "$$\n",
    "$$\n",
    "x \\equiv 35 + 63 + 30 \\mod 105\n",
    "$$\n",
    "$$\n",
    "x \\equiv 128 \\mod 105 \\implies\n",
    "$$\n",
    "$$\n",
    "x \\equiv 23 \\mod 105\n",
    "$$\n",
    "\n",
    "5. **Verificação**:\n",
    "- $23 \\mod 3 = 2$ ✓\n",
    "- $23 \\mod 5 = 3$ ✓\n",
    "- $23 \\mod 7 = 2$ ✓\n",
    "\n",
    "#### **Resposta final**:\n",
    "A menor solução positiva é $x = 23$. Todas as soluções têm a forma $x = 23 + 105k$ para o inteiro $k$.\n"
   ]
  },
  {
   "cell_type": "markdown",
   "id": "2c6d8eca-aff1-4e3b-b009-106825e7a125",
   "metadata": {},
   "source": [
    "**<span style=\"color: red;\">[3.6] Use Python para encontrar uma solução para\n",
    "$$\n",
    "\\begin{cases}\n",
    "x \\equiv 5 \\mod 7 \\\\\n",
    "x \\equiv 4 \\mod 11 \\\\\n",
    "x \\equiv 10 \\mod 13\n",
    "\\end{cases}\n",
    "$$\n",
    "Verifique sua resposta.</span>**"
   ]
  },
  {
   "cell_type": "code",
   "execution_count": 52,
   "id": "fed68f52-313d-4f8c-bada-8a0514c8f9bc",
   "metadata": {},
   "outputs": [],
   "source": [
    "import math\n",
    "def tcr(a, amod, b, bmod, c, cmod):\n",
    "    if math.gcd(amod, bmod) == 1 and math.gcd(amod, cmod) == 1 and math.gcd(bmod, cmod) == 1:\n",
    "        mdc = amod * bmod * cmod\n",
    "        xa = 0\n",
    "        xb = 0\n",
    "        xc = 0\n",
    "        for k in range(1, amod):\n",
    "            xa = bmod*cmod*k\n",
    "            if xa % amod == a:\n",
    "                print(\"Solução Parcial I:\", xa)\n",
    "                break;\n",
    "        for k in range(1, bmod):\n",
    "            xb = amod*cmod*k\n",
    "            if xb % bmod == b:\n",
    "                print(\"Solução Parcial II:\", xb)\n",
    "                break;\n",
    "        for k in range(1, cmod):\n",
    "            xc = amod*bmod*k\n",
    "            if xc % cmod == c:\n",
    "                print(\"Solução Parcial III:\", xc)\n",
    "                break;\n",
    "        return (xa + xb + xc) % mdc\n"
   ]
  },
  {
   "cell_type": "markdown",
   "id": "c99810b9-a08a-4cb6-9b28-2d33df53d5c3",
   "metadata": {},
   "source": [
    "**Primeiro, vamos ver se a nossa função do Teorema Chinês do Resto funciona, usando o exemplo já dado pelo roteiro:**"
   ]
  },
  {
   "cell_type": "code",
   "execution_count": 53,
   "id": "3d08210a-1b27-40d1-be56-8f1f0c6c4095",
   "metadata": {},
   "outputs": [
    {
     "name": "stdout",
     "output_type": "stream",
     "text": [
      "Solução Parcial I: 35\n",
      "Solução Parcial II: 63\n",
      "Solução Parcial III: 30\n",
      "Resposta final: x = 23\n"
     ]
    }
   ],
   "source": [
    "print(\"Resposta final: x =\", tcr(2, 3, 3, 5, 2, 7))"
   ]
  },
  {
   "cell_type": "markdown",
   "id": "8ac9363b-1ee5-4adc-ac5b-4aa3d4e1bab3",
   "metadata": {},
   "source": [
    "**Agora, vamos resolver**\n",
    "$$\n",
    "\\begin{cases}\n",
    "x \\equiv 5 \\mod 7 \\\\\n",
    "x \\equiv 4 \\mod 11 \\\\\n",
    "x \\equiv 10 \\mod 13\n",
    "\\end{cases}\n",
    "$$"
   ]
  },
  {
   "cell_type": "code",
   "execution_count": 55,
   "id": "689cc1b3-1fd0-4a46-991b-6deb2119c2f1",
   "metadata": {},
   "outputs": [
    {
     "name": "stdout",
     "output_type": "stream",
     "text": [
      "Solução Parcial I: 572\n",
      "Solução Parcial II: 455\n",
      "Solução Parcial III: 231\n",
      "Resposta final: x = 257\n"
     ]
    }
   ],
   "source": [
    "print(\"Resposta final: x =\", tcr(5, 7, 4, 11, 10, 13))"
   ]
  },
  {
   "cell_type": "markdown",
   "id": "0c35ab07-fc8e-4c7a-90ee-e5275f2a7fa7",
   "metadata": {},
   "source": [
    "\n",
    "### **Principais Conclusões**\n",
    "- A TCR garante uma **solução única** módulo $N$ se os módulos forem primos entre si.\n",
    "- Usado em criptografia (por exemplo, descriptografia RSA), hashing e cálculos rápidos."
   ]
  },
  {
   "cell_type": "markdown",
   "id": "a08fe581-2976-423b-846a-4d33de02a711",
   "metadata": {},
   "source": [
    "**<span style=\"color: red;\"> =============================================================================================</span>**"
   ]
  },
  {
   "cell_type": "markdown",
   "id": "cf29bb4d-0359-4511-8464-2a1ec7374341",
   "metadata": {},
   "source": [
    "# Grupo Multiplicativo Módulo $N$\n",
    "### **Grupos cíclicos**\n",
    "\n",
    "Um grupo finito é chamado de **cíclico** se puder ser gerado inteiramente por um único elemento, chamado de **gerador**. Isso significa que cada elemento do grupo pode ser expresso como aplicações repetidas da operação de grupo (adição ou multiplicação) no gerador.\n",
    "\n",
    "**Definição**\n",
    "Um grupo $(G, \\circ)$ é **cíclico** se existe um elemento $g \\in G$ (o gerador) tal que todos os elementos podem ser obtidos aplicando a operação de grupo repetidamente em $g$, onde:\n",
    "\n",
    "- Para **grupos aditivos** (como $\\mathbb{Z}_n$), isso significa a adição de $g$ consigo mesmo $n$ vezes $\\underbrace{g + g + \\dots + g}_{n \\text{ vezes}} = n \\cdot g$; ou seja, multiplicação.\n",
    "\n",
    "- Para **grupos multiplicativos** (como $(\\mathbb{Z}_n^*$), isso significa a adição de $g$ consigo mesmo $n$ vezes $\\underbrace{g \\cdot g \\cdot \\ldots \\cdot g}_{n \\text{ vezes}} = g^n$; ou seja, exponenciação.\n",
    "\n",
    "##### **Exemplo: Grupo Aditivo $\\mathbb{Z}_{35}^+$**\n",
    "\n",
    "- **Elementos**: $\\{0, 1, 2, \\dots, 34\\}$.\n",
    "- **Operação**: Adição módulo 35.\n",
    "- **Cíclico?** **Sim**, pois é gerada por $1$:\n",
    "$$\n",
    "1 + 1 + \\dots + 1 \\ (\\text{35 vezes}) \\equiv 0 \\mod 35.\n",
    "$$\n",
    "Todo elemento $k \\in \\mathbb{Z}_{35}$ pode ser escrito como $k \\cdot 1 \\mod 35$.\n",
    "- **Geradores**: Todos os números que são coprimos com 35 (ou seja, $\\text{mdc}(k, 35) = 1$):\n",
    "$$\n",
    "\\text{Geradores} = \\{1, 2, 3, 4, 6, 8, 9, 11, 12, 13, 16, 17, 18, 19, 22, 23, 24, 26, 27, 29, 31, 32, 33, 34\\}.\n",
    "$$"
   ]
  },
  {
   "cell_type": "markdown",
   "id": "adf075d0-0a20-4570-8964-6dba3d688128",
   "metadata": {},
   "source": [
    "Por exemplo:\n",
    "- $2$ é um gerador porque seus múltiplos abrangem todos os elementos: $2, 4, 6, \\cdots, 34, 1, 3, 5, \\cdots$.\n",
    "- $5$ **não** é um gerador porque $\\text{mdc}(5, 35) = 5 \\neq 1$, e gera apenas $\\{0, 5, 10, 15, 20, 25, 30\\}$."
   ]
  },
  {
   "cell_type": "markdown",
   "id": "30d555c0-48c0-4b06-8e25-0ed67b87753c",
   "metadata": {},
   "source": [
    "**<span style=\"color: red;\">\n",
    "[4.1] Use Python para encontrar todos os geradores de $\\mathbb{Z}_{36}^+$ e de $\\mathbb{Z}_{37}^+$.\n",
    "    </span>**"
   ]
  },
  {
   "cell_type": "code",
   "execution_count": 56,
   "id": "17f54ba3-f8e5-43e5-8cf2-7fd39ecc9388",
   "metadata": {},
   "outputs": [],
   "source": [
    "import math\n",
    "def gerador(n):\n",
    "    geradores = []\n",
    "    for g in range(0, n):\n",
    "        if math.gcd(g, n) == 1:\n",
    "            geradores.append(g)\n",
    "    return geradores"
   ]
  },
  {
   "cell_type": "markdown",
   "id": "1223a906-64a6-468f-8ff3-f03083b4bf98",
   "metadata": {},
   "source": [
    "**Vamos testar a nossa função com o exemplo dado, $\\mathbb{Z}_{35}^+$. Logo em seguida, vamos testar para $\\mathbb{Z}_{36}^+$ e $\\mathbb{Z}_{37}^+$:**"
   ]
  },
  {
   "cell_type": "code",
   "execution_count": 57,
   "id": "efbf77d7-6a81-4757-8fdf-60b8e1de9852",
   "metadata": {},
   "outputs": [
    {
     "name": "stdout",
     "output_type": "stream",
     "text": [
      "Geradores: [1, 2, 3, 4, 6, 8, 9, 11, 12, 13, 16, 17, 18, 19, 22, 23, 24, 26, 27, 29, 31, 32, 33, 34]\n"
     ]
    }
   ],
   "source": [
    "print(\"Geradores:\", gerador(35))"
   ]
  },
  {
   "cell_type": "code",
   "execution_count": 58,
   "id": "a7ad2a29-6c66-4721-8af4-79fd6763538b",
   "metadata": {},
   "outputs": [
    {
     "name": "stdout",
     "output_type": "stream",
     "text": [
      "Geradores: [1, 5, 7, 11, 13, 17, 19, 23, 25, 29, 31, 35]\n"
     ]
    }
   ],
   "source": [
    "print(\"Geradores:\", gerador(36))"
   ]
  },
  {
   "cell_type": "code",
   "execution_count": 59,
   "id": "270ec743-2360-4c74-a16b-67b3e1fa0545",
   "metadata": {},
   "outputs": [
    {
     "name": "stdout",
     "output_type": "stream",
     "text": [
      "Geradores: [1, 2, 3, 4, 5, 6, 7, 8, 9, 10, 11, 12, 13, 14, 15, 16, 17, 18, 19, 20, 21, 22, 23, 24, 25, 26, 27, 28, 29, 30, 31, 32, 33, 34, 35, 36]\n"
     ]
    }
   ],
   "source": [
    "print(\"Geradores:\", gerador(37))"
   ]
  },
  {
   "cell_type": "markdown",
   "id": "f6b1a4a9-6ee5-48ae-ba97-4708547858a4",
   "metadata": {},
   "source": [
    "A **função phi de Euler** (ou **função totiente de Euler**), denotada como **φ(n)**, conta o número de inteiros até **n** que são **coprimos com n** (ou seja, inteiros $1 \\leq a \\leq n$ com $\\text{mdc}(a, n) = 1$).\n",
    "\n",
    "**Fórmula**\n",
    "Para um inteiro positivo $n$ com fatoração em primos:\n",
    "$$\n",
    "n = p_1^{k_1} p_2^{k_2} \\cdots p_m^{k_m},\n",
    "$$\n",
    "\n",
    "A função totiente é:\n",
    "\n",
    "$$\n",
    "\\varphi(n) = n \\prod_{p \\mid n} \\left(1 - \\frac{1}{p}\\right).\n",
    "$$\n",
    "\n",
    "**Exemplos**\n",
    "- $\\varphi(10) = 4$ (coprimos: 1, 3, 7, 9).\n",
    "- $\\varphi(7) = 6$ (todos os números de 1 a 6, já que 7 é primo)."
   ]
  },
  {
   "attachments": {},
   "cell_type": "markdown",
   "id": "7c7d0701-2294-4992-9c3d-33a575191446",
   "metadata": {},
   "source": [
    "**<span style=\"color: red;\">\n",
    "    [4.2] Calcule os valores de $\\varphi(35),\\varphi(36),\\varphi(37)$ e compare com os resultados obtidos acima.\n",
    "    </span>**"
   ]
  },
  {
   "cell_type": "code",
   "execution_count": 60,
   "id": "90e97cd5-5784-4fe5-9be8-3814e2191e8b",
   "metadata": {},
   "outputs": [],
   "source": [
    "import math\n",
    "def phi_euler(n):\n",
    "    contador = 0\n",
    "    valores_phi = []\n",
    "    for p in range(1, n+1):\n",
    "        if math.gcd(p, n) == 1:\n",
    "            valores_phi.append(p)\n",
    "            contador+=1\n",
    "    print(\"Coprimos:\", valores_phi)\n",
    "    return contador"
   ]
  },
  {
   "cell_type": "markdown",
   "id": "03533972-2e90-4260-9bc0-4c91fd08f30c",
   "metadata": {},
   "source": [
    "**Vamos agora testar a nossa função com os exemplos dados $\\varphi(7),\\varphi(10)$:**"
   ]
  },
  {
   "cell_type": "code",
   "execution_count": 61,
   "id": "24fd68a3-15f8-439a-85a3-766aa1172424",
   "metadata": {},
   "outputs": [
    {
     "name": "stdout",
     "output_type": "stream",
     "text": [
      "Coprimos: [1, 2, 3, 4, 5, 6]\n",
      "6\n"
     ]
    }
   ],
   "source": [
    "print(phi_euler(7))"
   ]
  },
  {
   "cell_type": "code",
   "execution_count": 62,
   "id": "49736c07-65c4-4e3b-a387-1547343fb786",
   "metadata": {},
   "outputs": [
    {
     "name": "stdout",
     "output_type": "stream",
     "text": [
      "Coprimos: [1, 3, 7, 9]\n",
      "4\n"
     ]
    }
   ],
   "source": [
    "print(phi_euler(10))"
   ]
  },
  {
   "cell_type": "markdown",
   "id": "a5eb3eff-022c-46ac-b22a-012b9603baac",
   "metadata": {},
   "source": [
    "**Agora, com a função testada, vamos chamar a função phi de euler para $\\varphi(35),\\varphi(36),\\varphi(37)$ e, logo em seguida, vamos chamar também a função geradores para cada respectivo $n$. Com isso, será possível identificar uma relação entre elas.**"
   ]
  },
  {
   "cell_type": "code",
   "execution_count": 63,
   "id": "554979a6-973c-474a-9dd1-afbb0659abb5",
   "metadata": {},
   "outputs": [
    {
     "name": "stdout",
     "output_type": "stream",
     "text": [
      "Coprimos: [1, 2, 3, 4, 6, 8, 9, 11, 12, 13, 16, 17, 18, 19, 22, 23, 24, 26, 27, 29, 31, 32, 33, 34]\n",
      "24\n",
      "Geradores: [1, 2, 3, 4, 6, 8, 9, 11, 12, 13, 16, 17, 18, 19, 22, 23, 24, 26, 27, 29, 31, 32, 33, 34]\n"
     ]
    }
   ],
   "source": [
    "print(phi_euler(35))\n",
    "print(\"Geradores:\",gerador(35))\n"
   ]
  },
  {
   "cell_type": "code",
   "execution_count": 64,
   "id": "cab2a417-4dfe-4633-89cb-98f88beaf7e2",
   "metadata": {},
   "outputs": [
    {
     "name": "stdout",
     "output_type": "stream",
     "text": [
      "Coprimos: [1, 5, 7, 11, 13, 17, 19, 23, 25, 29, 31, 35]\n",
      "12\n",
      "Geradores: [1, 5, 7, 11, 13, 17, 19, 23, 25, 29, 31, 35]\n"
     ]
    }
   ],
   "source": [
    "print(phi_euler(36))\n",
    "print(\"Geradores:\", gerador(36))"
   ]
  },
  {
   "cell_type": "code",
   "execution_count": 65,
   "id": "701540df-507a-48ae-9049-ddec402ea557",
   "metadata": {
    "scrolled": true
   },
   "outputs": [
    {
     "name": "stdout",
     "output_type": "stream",
     "text": [
      "Coprimos: [1, 2, 3, 4, 5, 6, 7, 8, 9, 10, 11, 12, 13, 14, 15, 16, 17, 18, 19, 20, 21, 22, 23, 24, 25, 26, 27, 28, 29, 30, 31, 32, 33, 34, 35, 36]\n",
      "36\n",
      "Geradores: [1, 2, 3, 4, 5, 6, 7, 8, 9, 10, 11, 12, 13, 14, 15, 16, 17, 18, 19, 20, 21, 22, 23, 24, 25, 26, 27, 28, 29, 30, 31, 32, 33, 34, 35, 36]\n"
     ]
    }
   ],
   "source": [
    "print(phi_euler(37))\n",
    "print(\"Geradores:\", gerador(37))"
   ]
  },
  {
   "cell_type": "markdown",
   "id": "1654b2f0-8f8b-4d6e-88b6-eff66f247f1f",
   "metadata": {},
   "source": [
    "**Pode-se perceber que os termos geradores são exatamente os mesmos termos que compõem a função phi de Euler.**"
   ]
  },
  {
   "cell_type": "markdown",
   "id": "a56e73de-2b70-44ed-b214-993946ec4ecd",
   "metadata": {},
   "source": [
    "\n",
    "A função phi de Euler possui muitas propriedades interessantes, incluindo:\n",
    "\n",
    "1. **Multiplicativa**: Se $\\text{mdc}(a, b) = 1$, então $\\varphi(ab) = \\varphi(a)\\varphi(b)$.\n",
    "2. **Teorema de Euler**: Se $\\text{mdc}(a, n) = 1$, então $a^{\\varphi(n)} \\equiv 1 \\mod n$.\n",
    "\n",
    "\n",
    "\n",
    "### Grupos multiplicativos\n",
    "\n",
    "Para multiplicação, o elemento neutro é sempre $1$, e a definição de um grupo requer que cada elemento tenha um inverso. É por isso que, módulo $N$, precisamos nos restringir aos elementos $a$ que são coprimos com $N$, pois, caso contrário, $a^{-1}$ não existe."
   ]
  },
  {
   "cell_type": "markdown",
   "id": "30db12e5-753f-486c-ab5e-50d12392bd6f",
   "metadata": {},
   "source": [
    "**<span style=\"color: red;\">[4.3] Mostre que $5$ módulo $35$ não tem inverso multiplicativo. </span>**"
   ]
  },
  {
   "cell_type": "markdown",
   "id": "078d7922-9e25-4f4d-92a1-e0a407753cd0",
   "metadata": {},
   "source": [
    "**Existem duas formas de provar se um número tem inverso multiplicativo:**\n",
    "\n",
    ">**Podemos testar todas as possiblididades, até encontrar uma em que $a \\cdot b \\equiv 1 \\pmod n$, sendo $a$ o número testado e $b$ o inverso multiplicativo;**\n"
   ]
  },
  {
   "cell_type": "code",
   "execution_count": 70,
   "id": "6728409e-8587-447b-b5da-559e27910929",
   "metadata": {},
   "outputs": [],
   "source": [
    "def check_inverso_multiplicativo(a, amod):\n",
    "    tem_inverso_multiplicativo = False\n",
    "    for b in range(1, amod):\n",
    "        aux = 0\n",
    "        aux = a * b\n",
    "        if aux % amod == 1:\n",
    "            tem_inverso_multiplicativo = True\n",
    "            print(b,\"é inverso multiplicativo de\", a, \"em mod\", amod)\n",
    "            return\n",
    "    print(a, \"não tem inverso multplicativo em mod\", amod)\n",
    "    return  "
   ]
  },
  {
   "cell_type": "code",
   "execution_count": 71,
   "id": "59200b45-c7d2-4f58-8772-710bc5bacc84",
   "metadata": {},
   "outputs": [
    {
     "name": "stdout",
     "output_type": "stream",
     "text": [
      "5 não tem inverso multplicativo em mod 35\n"
     ]
    }
   ],
   "source": [
    "check_inverso_multiplicativo(5, 35)"
   ]
  },
  {
   "cell_type": "markdown",
   "id": "2294c384-a912-4411-af6c-d06370e6b6d7",
   "metadata": {},
   "source": [
    "\n",
    ">**Ou podemos somente verificar se $a$ e $n$ são coprimos, caso forem, existe um inverso multiplicativo para $a$ em $mod$ n**"
   ]
  },
  {
   "cell_type": "code",
   "execution_count": 72,
   "id": "fb7330c1-92f6-415e-bb7f-41d0c3ac9cba",
   "metadata": {},
   "outputs": [],
   "source": [
    "def check_facil_inverso_multiplicativo(a, amod):\n",
    "    if math.gcd(a, amod) == 1:\n",
    "        print(a, \"tem inverso multiplicativo em mod\", amod)\n",
    "        return\n",
    "    print(a, \"não tem inverso multiplicativo em mod\", amod)"
   ]
  },
  {
   "cell_type": "code",
   "execution_count": 73,
   "id": "45947b56-76ff-4c5c-9442-173118a4ce65",
   "metadata": {},
   "outputs": [
    {
     "name": "stdout",
     "output_type": "stream",
     "text": [
      "5 não tem inverso multiplicativo em mod 35\n"
     ]
    }
   ],
   "source": [
    "check_facil_inverso_multiplicativo(5, 35)"
   ]
  },
  {
   "cell_type": "markdown",
   "id": "ad3db3bd-c869-41e7-aed1-95d9de4047b7",
   "metadata": {},
   "source": [
    "**Definição**\n",
    "O **grupo multiplicativo módulo $N$**, denotado como $(\\mathbb{Z}/N\\mathbb{Z})^*$ ou $\\mathbb{Z}_N^*$, consiste em todos os inteiros entre $1$ e $N-1$ que são **coprimos com $N$** (ou seja, $\\text{mdc}(a, N) = 1$).\n",
    "\n",
    "Este é um grupo sob multiplicação módulo $N$ e possui as seguintes propriedades:\n",
    "\n",
    "1. **Fechamento**: Se $a, b \\in \\mathbb{Z}_N^*$, então $a \\times b \\mod N \\in \\mathbb{Z}_N^*$.\n",
    "2. **Associatividade**: $(a \\times b) \\times c \\equiv a \\times (b \\times c) \\mod N$.\n",
    "3. **Elemento neutro**: O número $1$ é a identidade multiplicativa/elemento neutro.\n",
    "4. **Inversos**: Todo elemento $a$ possui um único inverso $a^{-1}$ tal que $a \\times a^{-1} \\equiv 1 \\mod N$.\n",
    "5. **Abeliano**: $a \\times b \\equiv b \\times a \\mod N$.\n",
    "6. **Ordem**: O **tamanho** do grupo é dado pela função totiente de Euler $\\phi(N)$.\n",
    "\n",
    "##### Exemplo 1. Módulo $15$ ($\\mathbb{Z}_{15}^*$)\n",
    "\n",
    "O grupo multiplicativo $\\mathbb{Z}_{15}^*$ consiste em inteiros módulo 15 que são coprimos com 15 (ou seja, elementos invertíveis sob multiplicação).\n",
    "\n",
    "$$\n",
    "\\mathbb{Z}_{15}^* = \\{1, 2, 4, 7, 8, 11, 13, 14\\}\n",
    "$$\n",
    "Confirma-se: $|\\mathbb{Z}_{15}^*|=\\varphi(15) = (5-1)(3-1)= 4 \\cdot 2 = 8$.\n",
    "\n",
    "Eis a tabela de multiplicação do grupo $\\mathbb{Z}_{15}^*$:\n",
    "$$\n",
    "\\begin{array}{c|cccccccc}\n",
    "\\times \\ (\\text{mod } 15) & 1 & 2 & 4 & 7 & 8 & 11 & 13 & 14 \\\\\n",
    "\\hline\n",
    "1 & 1 & 2 & 4 & 7 & 8 & 11 & 13 & 14 \\\\\n",
    "2 & 2 & 4 & 8 & 14 & 1 & 7 & 11 & 13 \\\\\n",
    "4 & 4 & 8 & 1 & 13 & 2 & 14 & 7 & 11 \\\\\n",
    "7 & 7 & 14 & 13 & 4 & 11 & 2 & 1 & 8 \\\\\n",
    "8 & 8 & 1 & 2 & 11 & 4 & 13 & 14 & 7 \\\\\n",
    "11 & 11 & 7 & 14 & 2 & 13 & 1 & 8 & 4 \\\\\n",
    "13 & 13 & 11 & 7 & 1 & 14 & 8 & 4 & 2 \\\\\n",
    "14 & 14 & 13 & 11 & 8 & 7 & 4 & 2 & 1 \\\\\n",
    "\\end{array}\n",
    "$$\n",
    "\n",
    "**Observações Principais:**\n",
    "1. **Elemento Identidade**: $1$ (já que $a \\cdot 1 \\equiv a \\mod 15$).\n",
    "2. **Inversos**:\n",
    "- $1^{-1} = 1$\n",
    "- $2^{-1} = 8$ (já que $2 \\cdot 8 = 16 \\equiv 1 \\mod 15$)\n",
    "- $4^{-1} = 4$\n",
    "- $7^{-1} = 13$\n",
    "- $14^{-1} = 14$ (autoinverso).\n",
    "3. **Ordem dos Elementos**:\n",
    "- $2$ tem ordem 4 ($2^4 = 16 \\equiv 1 \\mod 15$).\n",
    "- $4$ tem ordem 2.\n",
    "- $7, 13, 14$ têm ordem 2.\n",
    "- $8, 11$ têm ordem 4.\n",
    "\n",
    "**Estrutura do Grupo:**\n",
    "\n",
    "Na Aula 3 vimos que $\\mathbb{Z}_3 \\times \\mathbb{Z}_5 = \\{(g,h) \\mid 0 \\leq g < 3 \\wedge 0 \\leq h < 5 \\}$. Da mesma form temos que $\\mathbb{Z}_3^* \\times \\mathbb{Z}_5^*$ é equivalente (exceto pela notação) a $\\mathbb{Z}_{15}^*$:\n",
    "\n",
    "$$\n",
    "\\mathbb{Z}_3^* \\times \\mathbb{Z}_5^* = \\mathbb{Z}_{15}^*\n",
    "$$\n",
    "\n",
    "$$\n",
    "\\begin{array}{c|ccccc}\n",
    "&0&1&2&3&4\\\\ \\hline\n",
    "0&-&-&-&-&- \\\\\n",
    "1&-&1=(1,1)&7=(1,2)&13=(1,3)&4=(1,4) \\\\\n",
    "2&-&11=(2,1)&2=(2,2)&8=(2,3)&14=(2,4) \\\\\n",
    "\\end{array}\n",
    "$$\n",
    "\n",
    "Esta tabela deixa claro que os inteiros $a$ tais que $\\text{mdc}(a,15)=1$ não têm inverso.\n",
    "\n",
    "##### Exemplo 2. Módulo $35$ ($\\mathbb{Z}_{35}^*$)\n",
    "\n",
    "- **Etapa 1: Fatorar $N$**\n",
    "$35 = 5 \\cdot 7$ (produto de dois primos distintos).\n",
    "\n",
    "- **Etapa 2: Calcular $\\phi(35)$**\n",
    "Função totiente de Euler:\n",
    "$\n",
    "\\phi(35) = \\phi(5) \\times \\phi(7) = 4 \\times 6 = 24.\n",
    "$\n",
    "Portanto, $\\mathbb{Z}_{35}^*$ tem **24 elementos**.\n",
    "\n",
    "- **Etapa 3: Listar os elementos coprimos de 35**\n",
    "Todos os inteiros $1 \\leq a < 35$ onde $\\text{mdc}(a, 35) = 1$:\n",
    "$\n",
    "\\mathbb{Z}_{35}^* = \\{1, 2, 3, 4, 6, 8, 9, 11, 12, 13, 16, 17, 18, 19, 22, 23, 24, 26, 27, 29, 31, 32, 33, 34\\}.\n",
    "$\n",
    "\n",
    "- **Etapa 4: Verificar os inversos**\n",
    "Cada elemento tem um inverso único módulo 35. Por exemplo:\n",
    "- $2^{-1} \\mod 35 = 18$ (já que $2 \\times 18 = 36 \\equiv 1 \\mod 35$).\n",
    "- $6^{-1} \\mod 35 = 6$ (já que $6 \\cdot 6 = 36 \\equiv 1 \\mod 35$).\n",
    "\n",
    "- **Etapa 5: Verifique a Estrutura Cíclica**\n",
    "Como $35 = 5 \\cdot 7$ (primos $\\neq 2$), $\\mathbb{Z}_{35}^*$ é **cíclico** (possui um gerador).\n",
    "- **Exemplo de gerador**: $2$ (verifique se sua ordem é 24)."
   ]
  },
  {
   "cell_type": "markdown",
   "id": "f840ee82-dcc2-474f-94a1-da8373b39311",
   "metadata": {},
   "source": [
    "##### Exemplo 3. Módulo $143$ ($\\mathbb{Z}_{143}^*$)\n",
    "\n",
    "- **Etapa 1: Fatorar $N$**\n",
    "$143 = 11 \\cdot 13$.\n",
    "\n",
    "- **Etapa 2: Calcular $\\phi(143)$**\n",
    "$\n",
    "\\phi(143) = \\phi(11) x \\phi(13) = 10 x 12 = 120.\n",
    "$\n",
    "Portanto, $\\mathbb{Z}_{143}^*$ tem **120 elementos**.\n",
    "\n",
    "- **Etapa 3: Listar os Elementos (Parcialmente)**\n",
    "Elementos coprimos com 143 (muitos para listar completamente, mas exemplos incluem):\n",
    "$\n",
    "\\mathbb{Z}_{143}^* = \\{1, 2, 3, \\dots, 142\\} \\setminus \\{11, 13, 22, 26, \\dots, 130, 143\\}.\n",
    "$\n",
    "(Exclui múltiplos de 11 ou 13.)\n",
    "\n",
    "- **Etapa 4: Verificar Inversos**\n",
    "- $2^{-1} \\mod 143 = 72$ (já que $2 \\cdot 72 = 144 \\equiv 1 \\mod 143$).\n",
    "- $7^{-1} \\mod 143 = 41$ (já que $7 \\cdot 41 = 287 \\equiv 1 \\mod 143$)."
   ]
  },
  {
   "cell_type": "markdown",
   "id": "d38f59bc-a51d-47a3-830a-4b94ae3ac858",
   "metadata": {},
   "source": [
    "**<span style=\"color: red;\">[4.5] Liste todos os elementos de* $\\mathbb{Z}_{24}^*$ *e faça a uma tabela de multiplicação deste grupo.**"
   ]
  },
  {
   "cell_type": "code",
   "execution_count": 74,
   "id": "c190e84f-c455-4ef0-b7eb-37671a0531e8",
   "metadata": {},
   "outputs": [
    {
     "name": "stdout",
     "output_type": "stream",
     "text": [
      "Coprimos: [1, 5, 7, 11, 13, 17, 19, 23]\n"
     ]
    },
    {
     "data": {
      "text/plain": [
       "8"
      ]
     },
     "execution_count": 74,
     "metadata": {},
     "output_type": "execute_result"
    }
   ],
   "source": [
    "phi_euler(24)"
   ]
  },
  {
   "cell_type": "markdown",
   "id": "19d1cc8f-84ca-4954-84b5-af3c720eb740",
   "metadata": {},
   "source": [
    "$$\n",
    "\\begin{array}{c|cccccccc}\n",
    "&1&5&7&11&13&17&19&23\\\\ \\hline\n",
    "1&1&5&7&11&13&17&19&23 \\\\\n",
    "5&5&1&11&7&17&13&23&19 \\\\\n",
    "7&7&11&1&5&19&23&13&17 \\\\\n",
    "11&11&7&5&1&23&19&17&13 \\\\\n",
    "13&13&17&19&23&1&5&7&11 \\\\\n",
    "17&17&13&23&19&5&1&11&7\\\\\n",
    "19&19&23&13&17&7&11&1&5 \\\\\n",
    "23&23&19&17&13&11&7&5&1 \\\\\n",
    "\\end{array}\n",
    "$$"
   ]
  },
  {
   "cell_type": "markdown",
   "id": "cd2114e3-26e7-4f07-b886-238cdb57ef2e",
   "metadata": {},
   "source": [
    "**<span style=\"color: red;\">[4.6] Encontre todos os geradores de* $\\mathbb{Z}_{35}^*$ *(Dica: Teste potências de 2 módulo 35.) -- ANULADO</span>**"
   ]
  },
  {
   "cell_type": "markdown",
   "id": "c9ef5e1b-b44c-4195-b006-6d27f4488f9a",
   "metadata": {},
   "source": [
    "**<span style=\"color: red;\">[4.7] Calcule $5^{-1} \\mod 143$.</span>**"
   ]
  },
  {
   "cell_type": "code",
   "execution_count": 75,
   "id": "a0654a04-3b7a-45a7-bf05-fb1554c2c78a",
   "metadata": {},
   "outputs": [
    {
     "name": "stdout",
     "output_type": "stream",
     "text": [
      "86 é inverso multiplicativo de 5 em mod 143\n"
     ]
    }
   ],
   "source": [
    "check_inverso_multiplicativo(5, 143)"
   ]
  },
  {
   "cell_type": "markdown",
   "id": "a9ce192a-7432-494c-9d7e-b623718821f9",
   "metadata": {},
   "source": [
    "**Essa é uma das formas de encontrar o inverso multiplicativo de um número $a$ em módulo $N$. Mais adiante, vamos entender como fazer isso usando coeficientes e o Algoritmo Euclidiano Estendido.**"
   ]
  },
  {
   "cell_type": "markdown",
   "id": "69e0c651-fcef-497d-904a-4512c04c78bb",
   "metadata": {},
   "source": [
    "# Como Calcular Inversos Modulares Usando o Algoritmo Euclidiano Estendido\n",
    "\n",
    "Calcular o inverso multiplicativo por tentativa e erro consome muito tempo para $N$ grandes. Felizmente, existe um algoritmo eficiente: calcular inversos é um caso particular do Algoritmo Euclidiano Estendido.\n",
    "\n",
    "#### **Teorema**\n",
    "Sejam dois inteiros $a$ e $b$ (ambos não nulos), e seja  $d=\\text{mdc}(a, b)$ o máximo divisor comum de $a$ e $b$. Então existem inteiros $x$ e $y$ tais que:\n",
    "$$\n",
    "a x + b y = d\n",
    "$$\n",
    "\n",
    "Este teorema também é conhecido como Teorema de Bézout, e $x$ e $y$ são às vezes chamados de **coeficientes de Bézout**. Esses valores são calculados por uma versão estendida do algoritmo de Euclides.\n",
    "\n",
    "Observações:\n",
    "\n",
    "1. O $\\text{mdc}$ de $a$ e $b$ pode sempre ser expresso como uma combinação linear inteira de $a$ e $b$.\n",
    "\n",
    "2. A equação $a x + b y = c$ tem soluções inteiras $(x, y)$ **se e somente se** $\\text{mdc}(a, b)$ divide $c$.\n",
    "3. Os coeficientes $x$ e $y$ não são únicos (existem infinitas soluções).\n",
    "\n",
    "**Exemplo** Considere o algoritmo normal apresentado na Aula 1 para $a=1057, b=315, \\text{mdc}(a,b)=???$\n",
    "\n",
    "Defina $a=r_0=1057; b=r_1=315$\n",
    "$$\n",
    "\\begin{array}{ccccc|ll}\n",
    "1057 &=& 3 \\cdot 315 &+& 112 & q_1=3&r_2=112 \\\\\n",
    "315 &=& 2 \\cdot 112 &+& 91 & q_2=2&r_3=91 \\\\\n",
    "112 &=& 1 \\cdot 91 &+& 21 & q_3=1&r_4=21 \\\\\n",
    "91 &=& 4 \\cdot 21 &+& 7 & q_4=4&r_5=7 \\\\\n",
    "21 &=& 3 \\cdot 7 &+& 0 & q_5=3&r_6=0 \\leftarrow \\\\\n",
    "\\end{array}\n",
    "$$\n",
    "Se $r_k=0$ então $r_{k-1}=\\text{mdc}$\n",
    "\n",
    "Compare a versão simples com a versão estendida. O quociente e o resto não mudam, mas o algoritmo estendido calcula mais valores intermediários em cada etapa. O algoritmo começa com duas equações padrão e, em seguida, continua subtraindo a última equação $q_i$ vezes da equação anterior:\n",
    "\n",
    "$$\n",
    "\\begin{array}{rcrcc|c}\n",
    "1 \\cdot 1057 & + & 0 \\cdot 315 & = & 1057 & \\qquad q_i\\\\\n",
    "0 \\cdot 1057 & + & 1 \\cdot 315 & = & 315 & \\mathsf{subtrair}\\ 3\\ \\mathsf{vezes} \\\\\n",
    "1 \\cdot 1057 & + & -3 \\cdot 315 & = & 112 & \\mathsf{subtrair}\\ 2\\ \\mathsf{vezes} \\\\\n",
    "-2 \\cdot 1057 & + & 7 \\cdot 315 & = & 91 & \\mathsf{subtrair}\\ 1\\ \\mathsf{vezes} \\\\\n",
    "3 \\cdot 1057 & + & -10 \\cdot 315 & = & 21 & \\mathsf{subtrair}\\ 4\\ \\mathsf{vezes} \\\\\n",
    "-14 \\cdot 1057 & + & 47 \\cdot 315 & = & 7 &\\\\\n",
    "x \\cdot a\\quad\\ \\ &+&y \\cdot b\\quad&=&d\n",
    "\\end{array}\n",
    "$$\n",
    "Então, descobrimos que $x=-14, y=47$.\n",
    "\n",
    "Verificando: $-14 \\cdot 1057 + 47 \\cdot 315 = -14\\,798 + 14\\,805 = 7$"
   ]
  },
  {
   "cell_type": "markdown",
   "id": "a9226dbb-6a26-4a4c-b071-141ac93a53e3",
   "metadata": {},
   "source": [
    "**<span style=\"color: red;\">[4.8] Use este algoritmo para calcular $x$ e $y$ para $a=23$ e $b=101$.**\n"
   ]
  },
  {
   "cell_type": "markdown",
   "id": "6c0bfd85-5027-4f1f-9fd0-7a6b6c112f94",
   "metadata": {},
   "source": [
    "**Queremos encontrar x e y, para os quais ax + by = d, ou seja, queremos encontrar os coeficientes de Bézout:**"
   ]
  },
  {
   "cell_type": "code",
   "execution_count": 76,
   "id": "98fc6591-5b75-45fb-a387-96ddad90853a",
   "metadata": {},
   "outputs": [],
   "source": [
    "def algoritmo_euclides_estendido(a, b):\n",
    "    x_anterior, y_anterior, r_anterior = 1, 0, a\n",
    "    x_atual, y_atual, r_atual = 0, 1, b\n",
    "\n",
    "    while r_atual != 0:\n",
    "        q = r_anterior // r_atual\n",
    "        r_prox = r_anterior % r_atual\n",
    "        x_prox = x_anterior - q * x_atual\n",
    "        y_prox = y_anterior - q * y_atual\n",
    "        \n",
    "        print(f\"Coeficientes de Bézout atuais: x = {x_atual} e y = {y_atual} e o resto é {r_atual}\")\n",
    "\n",
    "        x_anterior, y_anterior, r_anterior = x_atual, y_atual, r_atual\n",
    "        x_atual, y_atual, r_atual = x_prox, y_prox, r_prox\n",
    "\n",
    "    print(f\"MDC({a}, {b}) = {r_anterior}\")\n",
    "    return r_anterior, x_anterior, y_anterior"
   ]
  },
  {
   "cell_type": "markdown",
   "id": "c51dceab-ad6e-49ea-b7f3-464c081103a0",
   "metadata": {},
   "source": [
    "**Vamos testar, para o exemplo, para garantir que a nossa função funciona:**"
   ]
  },
  {
   "cell_type": "code",
   "execution_count": 77,
   "id": "bd24ba9f-a882-4e98-9b58-229c74cdc32c",
   "metadata": {},
   "outputs": [
    {
     "name": "stdout",
     "output_type": "stream",
     "text": [
      "Coeficientes de Bézout atuais: x = 0 e y = 1 e o resto é 1057\n",
      "Coeficientes de Bézout atuais: x = 1 e y = 0 e o resto é 315\n",
      "Coeficientes de Bézout atuais: x = -3 e y = 1 e o resto é 112\n",
      "Coeficientes de Bézout atuais: x = 7 e y = -2 e o resto é 91\n",
      "Coeficientes de Bézout atuais: x = -10 e y = 3 e o resto é 21\n",
      "Coeficientes de Bézout atuais: x = 47 e y = -14 e o resto é 7\n",
      "MDC(315, 1057) = 7\n"
     ]
    },
    {
     "data": {
      "text/plain": [
       "(7, 47, -14)"
      ]
     },
     "execution_count": 77,
     "metadata": {},
     "output_type": "execute_result"
    }
   ],
   "source": [
    "algoritmo_euclides_estendido(315, 1057)"
   ]
  },
  {
   "cell_type": "code",
   "execution_count": 78,
   "id": "01279946-4d5b-4f65-bfb5-8171a4c16688",
   "metadata": {},
   "outputs": [
    {
     "name": "stdout",
     "output_type": "stream",
     "text": [
      "Coeficientes de Bézout atuais: x = 0 e y = 1 e o resto é 101\n",
      "Coeficientes de Bézout atuais: x = 1 e y = 0 e o resto é 23\n",
      "Coeficientes de Bézout atuais: x = -4 e y = 1 e o resto é 9\n",
      "Coeficientes de Bézout atuais: x = 9 e y = -2 e o resto é 5\n",
      "Coeficientes de Bézout atuais: x = -13 e y = 3 e o resto é 4\n",
      "Coeficientes de Bézout atuais: x = 22 e y = -5 e o resto é 1\n",
      "MDC(23, 101) = 1\n"
     ]
    },
    {
     "data": {
      "text/plain": [
       "(1, 22, -5)"
      ]
     },
     "execution_count": 78,
     "metadata": {},
     "output_type": "execute_result"
    }
   ],
   "source": [
    "algoritmo_euclides_estendido(23, 101)"
   ]
  },
  {
   "cell_type": "markdown",
   "id": "9db594aa-5ba5-494b-8371-6d70f1960921",
   "metadata": {},
   "source": [
    "**Nossa função retorna (d, coeficiente X, coeficiente Y), tal que $ax + by = d$.**"
   ]
  },
  {
   "cell_type": "markdown",
   "id": "5e25a024-107e-4443-bb22-d6231c3be9af",
   "metadata": {},
   "source": [
    "**<span style=\"color: red;\">[4.9] Modifique sua implementação do algoritmo de Euclides na Parte 1 para calcular $x$ e $y$ (os coeficientes de Bézout). Use seu algoritmo para calcular $\\text{mdc}(19,1001)$ usando este método.**"
   ]
  },
  {
   "cell_type": "code",
   "execution_count": 79,
   "id": "28afb01b-a320-4dce-8482-6ab65bf93de2",
   "metadata": {},
   "outputs": [
    {
     "name": "stdout",
     "output_type": "stream",
     "text": [
      "Coeficientes de Bézout atuais: x = 0 e y = 1 e o resto é 1001\n",
      "Coeficientes de Bézout atuais: x = 1 e y = 0 e o resto é 19\n",
      "Coeficientes de Bézout atuais: x = -52 e y = 1 e o resto é 13\n",
      "Coeficientes de Bézout atuais: x = 53 e y = -1 e o resto é 6\n",
      "Coeficientes de Bézout atuais: x = -158 e y = 3 e o resto é 1\n",
      "MDC(19, 1001) = 1\n"
     ]
    },
    {
     "data": {
      "text/plain": [
       "(1, -158, 3)"
      ]
     },
     "execution_count": 79,
     "metadata": {},
     "output_type": "execute_result"
    }
   ],
   "source": [
    "algoritmo_euclides_estendido(19, 1001)"
   ]
  },
  {
   "cell_type": "markdown",
   "id": "b27c4572-e710-4c5e-adfa-0950c97158e3",
   "metadata": {},
   "source": [
    "**Novamente, dentro dos parênteses temos (d, coeficiente X, coeficiente Y), tal que $ax + by = d$.**"
   ]
  },
  {
   "cell_type": "markdown",
   "id": "16a4b320-1192-4ebb-940e-dcb7b13a4320",
   "metadata": {},
   "source": [
    "### Calculando inversos\n",
    "\n",
    "A AEE pode ser usada para calcular inversos multiplicativos de forma eficiente:\n",
    "\n",
    "**Corolário**: Se $a$ e $N$ são primos entre si ($\\text{mdc}(a, N) = 1$), então $a$ tem um inverso multiplicativo $a^{-1}$ módulo $N$.\n",
    "\n",
    "O **Algoritmo Euclidiano Estendido (AEE)** resolve para inteiros $x$ e $y$ tais que:\n",
    "$$\n",
    "a \\cdot x + N \\cdot y = \\text{mdc}(a, N)\n",
    "$$\n",
    "Quando $\\text{mdc}(a, N) = 1$, a equação se torna:\n",
    "$$\n",
    "a \\cdot x \\equiv 1 \\mod N\n",
    "$$\n",
    "Aqui, $x$ é o **inverso multiplicativo** de $a$ módulo $N$, denotado $a^{-1} \\mod N$."
   ]
  },
  {
   "cell_type": "markdown",
   "id": "e05d551b-f992-401e-97f4-b71703a8b20f",
   "metadata": {},
   "source": [
    "**<span style=\"color: red;\">[4.10] Mostre como calcular $23^{-1} \\mod 101$ usando o resultado da questão 4.8. Dica: considere $ax+by=d$ módulo $101$.</span>**"
   ]
  },
  {
   "cell_type": "markdown",
   "id": "96888e63-7e68-44b5-be34-8ae37b1408f8",
   "metadata": {},
   "source": [
    "**Na questão 4.8, vimos que o $\\text{mdc}(23, 101) = 1$, ou seja, são primos entre si. Pelo Corolário, se dois números são primos entre si, então $a$ tem um inverso multiplicativo $a^{-1}$ módulo $N$. Isso quer dizer que 23 possui inverso multiplicativo em módulo 101. Assim, vamos rodar novamente a função para encontrar o MDC e os coeficientes de Bézout. O coeficiente tem que ser o número k, tal que $23 \\cdot k \\equiv 1$ mod $101$.**\n",
    "\n",
    "**Vamos também rodar a nossa função prévia, que encontra o inverso multiplicativo, para conferir o nosso resultado. Espera-se que o coeficiente X seja igual ao inverso multiplicativo encontrado pela função:**"
   ]
  },
  {
   "cell_type": "code",
   "execution_count": 80,
   "id": "79f81da3-f2e3-4aa1-bdf6-113d3055d8c5",
   "metadata": {},
   "outputs": [
    {
     "name": "stdout",
     "output_type": "stream",
     "text": [
      "Coeficientes de Bézout atuais: x = 0 e y = 1 e o resto é 101\n",
      "Coeficientes de Bézout atuais: x = 1 e y = 0 e o resto é 23\n",
      "Coeficientes de Bézout atuais: x = -4 e y = 1 e o resto é 9\n",
      "Coeficientes de Bézout atuais: x = 9 e y = -2 e o resto é 5\n",
      "Coeficientes de Bézout atuais: x = -13 e y = 3 e o resto é 4\n",
      "Coeficientes de Bézout atuais: x = 22 e y = -5 e o resto é 1\n",
      "MDC(23, 101) = 1\n",
      "(1, 22, -5)\n",
      "22 é inverso multiplicativo de 23 em mod 101\n"
     ]
    }
   ],
   "source": [
    "print(algoritmo_euclides_estendido(23, 101))\n",
    "check_inverso_multiplicativo(23, 101)"
   ]
  },
  {
   "cell_type": "markdown",
   "id": "9a05d17e-9262-4aeb-bc4d-756f6549641e",
   "metadata": {},
   "source": [
    "**Como podemos ver, como é retornado pela primeira função, temos (d, coeficiente X, coeficiente Y), tal que $ax + by = d$. Assim, o coeficiente X é igual ao valor k encontrado pela outra função, responsável por encontrar um inverso multiplicativo, que é 22.**"
   ]
  },
  {
   "cell_type": "markdown",
   "id": "edb08ad7-e74a-4cee-b52b-55af5874bfac",
   "metadata": {},
   "source": [
    "**<span style=\"color: red;\">[4.11] Use 4.9 para calcular $19^{-1} \\mod 1001$. </span>**"
   ]
  },
  {
   "cell_type": "markdown",
   "id": "799b15f0-77c6-44a0-aadb-7de887fadbdf",
   "metadata": {},
   "source": [
    "**Agora que sabemos que para encontrar o inverso multiplicativo de $a^{-1}$ módulo $N$, basta encontrar o coeficiente X, tal que $ax + by = d$, com $a = 19$ e $N = 1001$  podemos rodar o nosso algoritmo para encontrar tal coeficiente:**"
   ]
  },
  {
   "cell_type": "code",
   "execution_count": 82,
   "id": "91f9fe7d-67dd-476e-94c0-e114bca5e831",
   "metadata": {},
   "outputs": [
    {
     "name": "stdout",
     "output_type": "stream",
     "text": [
      "Coeficientes de Bézout atuais: x = 0 e y = 1 e o resto é 1001\n",
      "Coeficientes de Bézout atuais: x = 1 e y = 0 e o resto é 19\n",
      "Coeficientes de Bézout atuais: x = -52 e y = 1 e o resto é 13\n",
      "Coeficientes de Bézout atuais: x = 53 e y = -1 e o resto é 6\n",
      "Coeficientes de Bézout atuais: x = -158 e y = 3 e o resto é 1\n",
      "MDC(19, 1001) = 1\n",
      "(1, -158, 3)\n"
     ]
    }
   ],
   "source": [
    "print(algoritmo_euclides_estendido(19, 1001))"
   ]
  },
  {
   "cell_type": "markdown",
   "id": "ae0db9d4-265d-4dc6-b52d-4632f425712e",
   "metadata": {},
   "source": [
    "**Logo, podemos concluir que o inverso multiplicativo de $19$ em módulo $1001$ é $-158$, tal que $19 \\cdot (-158) \\equiv 1$ mod $1001$**"
   ]
  }
 ],
 "metadata": {
  "kernelspec": {
   "display_name": "Python 3 (ipykernel)",
   "language": "python",
   "name": "python3"
  },
  "language_info": {
   "codemirror_mode": {
    "name": "ipython",
    "version": 3
   },
   "file_extension": ".py",
   "mimetype": "text/x-python",
   "name": "python",
   "nbconvert_exporter": "python",
   "pygments_lexer": "ipython3",
   "version": "3.13.3"
  }
 },
 "nbformat": 4,
 "nbformat_minor": 5
}
